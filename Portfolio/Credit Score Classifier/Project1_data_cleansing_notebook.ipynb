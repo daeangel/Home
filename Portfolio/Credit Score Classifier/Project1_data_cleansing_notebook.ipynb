{
 "cells": [
  {
   "cell_type": "markdown",
   "id": "35774afb",
   "metadata": {},
   "source": [
    "# DSC 680 - Project 1\n",
    "## \n",
    "# Daniel Angel\n",
    "## \n",
    "# Summer 2024"
   ]
  },
  {
   "cell_type": "markdown",
   "id": "e99467a4",
   "metadata": {},
   "source": [
    "## Data Cleansing Notebook"
   ]
  },
  {
   "cell_type": "markdown",
   "id": "8166f715",
   "metadata": {},
   "source": [
    "### Basic Cleaning Steps"
   ]
  },
  {
   "cell_type": "markdown",
   "id": "c4b461b0",
   "metadata": {},
   "source": [
    "#### Import Necessary Libraries"
   ]
  },
  {
   "cell_type": "code",
   "execution_count": 1,
   "id": "0c57966d",
   "metadata": {},
   "outputs": [],
   "source": [
    "import pandas as pd\n",
    "import numpy as np"
   ]
  },
  {
   "cell_type": "markdown",
   "id": "4d13687f",
   "metadata": {},
   "source": [
    "#### Load in CSV to Dataframe"
   ]
  },
  {
   "cell_type": "code",
   "execution_count": 2,
   "id": "2a3cd22a",
   "metadata": {},
   "outputs": [],
   "source": [
    "df_train = pd.read_csv('creditscore_classifier_datasets/train.csv', low_memory=False)\n",
    "df_test = pd.read_csv('creditscore_classifier_datasets/test.csv', low_memory=False)"
   ]
  },
  {
   "cell_type": "markdown",
   "id": "f674c903",
   "metadata": {},
   "source": [
    "#### Observe Dataframe Shape,  First 20 Rows, and Column Types"
   ]
  },
  {
   "cell_type": "code",
   "execution_count": 3,
   "id": "83debb53",
   "metadata": {},
   "outputs": [
    {
     "data": {
      "text/plain": [
       "(100000, 28)"
      ]
     },
     "execution_count": 3,
     "metadata": {},
     "output_type": "execute_result"
    }
   ],
   "source": [
    "df_train.shape"
   ]
  },
  {
   "cell_type": "code",
   "execution_count": 4,
   "id": "a60fd194",
   "metadata": {},
   "outputs": [
    {
     "data": {
      "text/html": [
       "<div>\n",
       "<style scoped>\n",
       "    .dataframe tbody tr th:only-of-type {\n",
       "        vertical-align: middle;\n",
       "    }\n",
       "\n",
       "    .dataframe tbody tr th {\n",
       "        vertical-align: top;\n",
       "    }\n",
       "\n",
       "    .dataframe thead th {\n",
       "        text-align: right;\n",
       "    }\n",
       "</style>\n",
       "<table border=\"1\" class=\"dataframe\">\n",
       "  <thead>\n",
       "    <tr style=\"text-align: right;\">\n",
       "      <th></th>\n",
       "      <th>ID</th>\n",
       "      <th>Customer_ID</th>\n",
       "      <th>Month</th>\n",
       "      <th>Name</th>\n",
       "      <th>Age</th>\n",
       "      <th>SSN</th>\n",
       "      <th>Occupation</th>\n",
       "      <th>Annual_Income</th>\n",
       "      <th>Monthly_Inhand_Salary</th>\n",
       "      <th>Num_Bank_Accounts</th>\n",
       "      <th>...</th>\n",
       "      <th>Credit_Mix</th>\n",
       "      <th>Outstanding_Debt</th>\n",
       "      <th>Credit_Utilization_Ratio</th>\n",
       "      <th>Credit_History_Age</th>\n",
       "      <th>Payment_of_Min_Amount</th>\n",
       "      <th>Total_EMI_per_month</th>\n",
       "      <th>Amount_invested_monthly</th>\n",
       "      <th>Payment_Behaviour</th>\n",
       "      <th>Monthly_Balance</th>\n",
       "      <th>Credit_Score</th>\n",
       "    </tr>\n",
       "  </thead>\n",
       "  <tbody>\n",
       "    <tr>\n",
       "      <th>0</th>\n",
       "      <td>0x1602</td>\n",
       "      <td>CUS_0xd40</td>\n",
       "      <td>January</td>\n",
       "      <td>Aaron Maashoh</td>\n",
       "      <td>23</td>\n",
       "      <td>821-00-0265</td>\n",
       "      <td>Scientist</td>\n",
       "      <td>19114.12</td>\n",
       "      <td>1824.843333</td>\n",
       "      <td>3</td>\n",
       "      <td>...</td>\n",
       "      <td>_</td>\n",
       "      <td>809.98</td>\n",
       "      <td>26.822620</td>\n",
       "      <td>22 Years and 1 Months</td>\n",
       "      <td>No</td>\n",
       "      <td>49.574949</td>\n",
       "      <td>80.41529543900253</td>\n",
       "      <td>High_spent_Small_value_payments</td>\n",
       "      <td>312.49408867943663</td>\n",
       "      <td>Good</td>\n",
       "    </tr>\n",
       "    <tr>\n",
       "      <th>1</th>\n",
       "      <td>0x1603</td>\n",
       "      <td>CUS_0xd40</td>\n",
       "      <td>February</td>\n",
       "      <td>Aaron Maashoh</td>\n",
       "      <td>23</td>\n",
       "      <td>821-00-0265</td>\n",
       "      <td>Scientist</td>\n",
       "      <td>19114.12</td>\n",
       "      <td>NaN</td>\n",
       "      <td>3</td>\n",
       "      <td>...</td>\n",
       "      <td>Good</td>\n",
       "      <td>809.98</td>\n",
       "      <td>31.944960</td>\n",
       "      <td>NaN</td>\n",
       "      <td>No</td>\n",
       "      <td>49.574949</td>\n",
       "      <td>118.28022162236736</td>\n",
       "      <td>Low_spent_Large_value_payments</td>\n",
       "      <td>284.62916249607184</td>\n",
       "      <td>Good</td>\n",
       "    </tr>\n",
       "    <tr>\n",
       "      <th>2</th>\n",
       "      <td>0x1604</td>\n",
       "      <td>CUS_0xd40</td>\n",
       "      <td>March</td>\n",
       "      <td>Aaron Maashoh</td>\n",
       "      <td>-500</td>\n",
       "      <td>821-00-0265</td>\n",
       "      <td>Scientist</td>\n",
       "      <td>19114.12</td>\n",
       "      <td>NaN</td>\n",
       "      <td>3</td>\n",
       "      <td>...</td>\n",
       "      <td>Good</td>\n",
       "      <td>809.98</td>\n",
       "      <td>28.609352</td>\n",
       "      <td>22 Years and 3 Months</td>\n",
       "      <td>No</td>\n",
       "      <td>49.574949</td>\n",
       "      <td>81.699521264648</td>\n",
       "      <td>Low_spent_Medium_value_payments</td>\n",
       "      <td>331.2098628537912</td>\n",
       "      <td>Good</td>\n",
       "    </tr>\n",
       "    <tr>\n",
       "      <th>3</th>\n",
       "      <td>0x1605</td>\n",
       "      <td>CUS_0xd40</td>\n",
       "      <td>April</td>\n",
       "      <td>Aaron Maashoh</td>\n",
       "      <td>23</td>\n",
       "      <td>821-00-0265</td>\n",
       "      <td>Scientist</td>\n",
       "      <td>19114.12</td>\n",
       "      <td>NaN</td>\n",
       "      <td>3</td>\n",
       "      <td>...</td>\n",
       "      <td>Good</td>\n",
       "      <td>809.98</td>\n",
       "      <td>31.377862</td>\n",
       "      <td>22 Years and 4 Months</td>\n",
       "      <td>No</td>\n",
       "      <td>49.574949</td>\n",
       "      <td>199.4580743910713</td>\n",
       "      <td>Low_spent_Small_value_payments</td>\n",
       "      <td>223.45130972736786</td>\n",
       "      <td>Good</td>\n",
       "    </tr>\n",
       "    <tr>\n",
       "      <th>4</th>\n",
       "      <td>0x1606</td>\n",
       "      <td>CUS_0xd40</td>\n",
       "      <td>May</td>\n",
       "      <td>Aaron Maashoh</td>\n",
       "      <td>23</td>\n",
       "      <td>821-00-0265</td>\n",
       "      <td>Scientist</td>\n",
       "      <td>19114.12</td>\n",
       "      <td>1824.843333</td>\n",
       "      <td>3</td>\n",
       "      <td>...</td>\n",
       "      <td>Good</td>\n",
       "      <td>809.98</td>\n",
       "      <td>24.797347</td>\n",
       "      <td>22 Years and 5 Months</td>\n",
       "      <td>No</td>\n",
       "      <td>49.574949</td>\n",
       "      <td>41.420153086217326</td>\n",
       "      <td>High_spent_Medium_value_payments</td>\n",
       "      <td>341.48923103222177</td>\n",
       "      <td>Good</td>\n",
       "    </tr>\n",
       "    <tr>\n",
       "      <th>5</th>\n",
       "      <td>0x1607</td>\n",
       "      <td>CUS_0xd40</td>\n",
       "      <td>June</td>\n",
       "      <td>Aaron Maashoh</td>\n",
       "      <td>23</td>\n",
       "      <td>821-00-0265</td>\n",
       "      <td>Scientist</td>\n",
       "      <td>19114.12</td>\n",
       "      <td>NaN</td>\n",
       "      <td>3</td>\n",
       "      <td>...</td>\n",
       "      <td>Good</td>\n",
       "      <td>809.98</td>\n",
       "      <td>27.262259</td>\n",
       "      <td>22 Years and 6 Months</td>\n",
       "      <td>No</td>\n",
       "      <td>49.574949</td>\n",
       "      <td>62.430172331195294</td>\n",
       "      <td>!@9#%8</td>\n",
       "      <td>340.4792117872438</td>\n",
       "      <td>Good</td>\n",
       "    </tr>\n",
       "    <tr>\n",
       "      <th>6</th>\n",
       "      <td>0x1608</td>\n",
       "      <td>CUS_0xd40</td>\n",
       "      <td>July</td>\n",
       "      <td>Aaron Maashoh</td>\n",
       "      <td>23</td>\n",
       "      <td>821-00-0265</td>\n",
       "      <td>Scientist</td>\n",
       "      <td>19114.12</td>\n",
       "      <td>1824.843333</td>\n",
       "      <td>3</td>\n",
       "      <td>...</td>\n",
       "      <td>Good</td>\n",
       "      <td>809.98</td>\n",
       "      <td>22.537593</td>\n",
       "      <td>22 Years and 7 Months</td>\n",
       "      <td>No</td>\n",
       "      <td>49.574949</td>\n",
       "      <td>178.3440674122349</td>\n",
       "      <td>Low_spent_Small_value_payments</td>\n",
       "      <td>244.5653167062043</td>\n",
       "      <td>Good</td>\n",
       "    </tr>\n",
       "    <tr>\n",
       "      <th>7</th>\n",
       "      <td>0x1609</td>\n",
       "      <td>CUS_0xd40</td>\n",
       "      <td>August</td>\n",
       "      <td>NaN</td>\n",
       "      <td>23</td>\n",
       "      <td>#F%$D@*&amp;8</td>\n",
       "      <td>Scientist</td>\n",
       "      <td>19114.12</td>\n",
       "      <td>1824.843333</td>\n",
       "      <td>3</td>\n",
       "      <td>...</td>\n",
       "      <td>Good</td>\n",
       "      <td>809.98</td>\n",
       "      <td>23.933795</td>\n",
       "      <td>NaN</td>\n",
       "      <td>No</td>\n",
       "      <td>49.574949</td>\n",
       "      <td>24.785216509052056</td>\n",
       "      <td>High_spent_Medium_value_payments</td>\n",
       "      <td>358.12416760938714</td>\n",
       "      <td>Standard</td>\n",
       "    </tr>\n",
       "    <tr>\n",
       "      <th>8</th>\n",
       "      <td>0x160e</td>\n",
       "      <td>CUS_0x21b1</td>\n",
       "      <td>January</td>\n",
       "      <td>Rick Rothackerj</td>\n",
       "      <td>28_</td>\n",
       "      <td>004-07-5839</td>\n",
       "      <td>_______</td>\n",
       "      <td>34847.84</td>\n",
       "      <td>3037.986667</td>\n",
       "      <td>2</td>\n",
       "      <td>...</td>\n",
       "      <td>Good</td>\n",
       "      <td>605.03</td>\n",
       "      <td>24.464031</td>\n",
       "      <td>26 Years and 7 Months</td>\n",
       "      <td>No</td>\n",
       "      <td>18.816215</td>\n",
       "      <td>104.291825168246</td>\n",
       "      <td>Low_spent_Small_value_payments</td>\n",
       "      <td>470.69062692529184</td>\n",
       "      <td>Standard</td>\n",
       "    </tr>\n",
       "    <tr>\n",
       "      <th>9</th>\n",
       "      <td>0x160f</td>\n",
       "      <td>CUS_0x21b1</td>\n",
       "      <td>February</td>\n",
       "      <td>Rick Rothackerj</td>\n",
       "      <td>28</td>\n",
       "      <td>004-07-5839</td>\n",
       "      <td>Teacher</td>\n",
       "      <td>34847.84</td>\n",
       "      <td>3037.986667</td>\n",
       "      <td>2</td>\n",
       "      <td>...</td>\n",
       "      <td>Good</td>\n",
       "      <td>605.03</td>\n",
       "      <td>38.550848</td>\n",
       "      <td>26 Years and 8 Months</td>\n",
       "      <td>No</td>\n",
       "      <td>18.816215</td>\n",
       "      <td>40.39123782853101</td>\n",
       "      <td>High_spent_Large_value_payments</td>\n",
       "      <td>484.5912142650067</td>\n",
       "      <td>Good</td>\n",
       "    </tr>\n",
       "    <tr>\n",
       "      <th>10</th>\n",
       "      <td>0x1610</td>\n",
       "      <td>CUS_0x21b1</td>\n",
       "      <td>March</td>\n",
       "      <td>Rick Rothackerj</td>\n",
       "      <td>28</td>\n",
       "      <td>004-07-5839</td>\n",
       "      <td>Teacher</td>\n",
       "      <td>34847.84_</td>\n",
       "      <td>3037.986667</td>\n",
       "      <td>2</td>\n",
       "      <td>...</td>\n",
       "      <td>_</td>\n",
       "      <td>605.03</td>\n",
       "      <td>33.224951</td>\n",
       "      <td>26 Years and 9 Months</td>\n",
       "      <td>No</td>\n",
       "      <td>18.816215</td>\n",
       "      <td>58.51597569589465</td>\n",
       "      <td>High_spent_Large_value_payments</td>\n",
       "      <td>466.46647639764313</td>\n",
       "      <td>Standard</td>\n",
       "    </tr>\n",
       "    <tr>\n",
       "      <th>11</th>\n",
       "      <td>0x1611</td>\n",
       "      <td>CUS_0x21b1</td>\n",
       "      <td>April</td>\n",
       "      <td>Rick Rothackerj</td>\n",
       "      <td>28</td>\n",
       "      <td>004-07-5839</td>\n",
       "      <td>Teacher</td>\n",
       "      <td>34847.84</td>\n",
       "      <td>NaN</td>\n",
       "      <td>2</td>\n",
       "      <td>...</td>\n",
       "      <td>Good</td>\n",
       "      <td>605.03</td>\n",
       "      <td>39.182656</td>\n",
       "      <td>26 Years and 10 Months</td>\n",
       "      <td>No</td>\n",
       "      <td>18.816215</td>\n",
       "      <td>99.30622796053305</td>\n",
       "      <td>Low_spent_Medium_value_payments</td>\n",
       "      <td>465.6762241330048</td>\n",
       "      <td>Good</td>\n",
       "    </tr>\n",
       "    <tr>\n",
       "      <th>12</th>\n",
       "      <td>0x1612</td>\n",
       "      <td>CUS_0x21b1</td>\n",
       "      <td>May</td>\n",
       "      <td>Rick Rothackerj</td>\n",
       "      <td>28</td>\n",
       "      <td>004-07-5839</td>\n",
       "      <td>Teacher</td>\n",
       "      <td>34847.84</td>\n",
       "      <td>3037.986667</td>\n",
       "      <td>2</td>\n",
       "      <td>...</td>\n",
       "      <td>Good</td>\n",
       "      <td>605.03</td>\n",
       "      <td>34.977895</td>\n",
       "      <td>26 Years and 11 Months</td>\n",
       "      <td>No</td>\n",
       "      <td>18.816215</td>\n",
       "      <td>130.11542024292334</td>\n",
       "      <td>Low_spent_Small_value_payments</td>\n",
       "      <td>444.8670318506144</td>\n",
       "      <td>Good</td>\n",
       "    </tr>\n",
       "    <tr>\n",
       "      <th>13</th>\n",
       "      <td>0x1613</td>\n",
       "      <td>CUS_0x21b1</td>\n",
       "      <td>June</td>\n",
       "      <td>Rick Rothackerj</td>\n",
       "      <td>28</td>\n",
       "      <td>004-07-5839</td>\n",
       "      <td>Teacher</td>\n",
       "      <td>34847.84</td>\n",
       "      <td>3037.986667</td>\n",
       "      <td>2</td>\n",
       "      <td>...</td>\n",
       "      <td>Good</td>\n",
       "      <td>605.03</td>\n",
       "      <td>33.381010</td>\n",
       "      <td>27 Years and 0 Months</td>\n",
       "      <td>No</td>\n",
       "      <td>18.816215</td>\n",
       "      <td>43.477190144355745</td>\n",
       "      <td>High_spent_Large_value_payments</td>\n",
       "      <td>481.505261949182</td>\n",
       "      <td>Good</td>\n",
       "    </tr>\n",
       "    <tr>\n",
       "      <th>14</th>\n",
       "      <td>0x1614</td>\n",
       "      <td>CUS_0x21b1</td>\n",
       "      <td>July</td>\n",
       "      <td>Rick Rothackerj</td>\n",
       "      <td>28</td>\n",
       "      <td>004-07-5839</td>\n",
       "      <td>Teacher</td>\n",
       "      <td>34847.84</td>\n",
       "      <td>NaN</td>\n",
       "      <td>2</td>\n",
       "      <td>...</td>\n",
       "      <td>Good</td>\n",
       "      <td>605.03</td>\n",
       "      <td>31.131702</td>\n",
       "      <td>27 Years and 1 Months</td>\n",
       "      <td>NM</td>\n",
       "      <td>18.816215</td>\n",
       "      <td>70.10177420755677</td>\n",
       "      <td>High_spent_Medium_value_payments</td>\n",
       "      <td>464.8806778859809</td>\n",
       "      <td>Good</td>\n",
       "    </tr>\n",
       "    <tr>\n",
       "      <th>15</th>\n",
       "      <td>0x1615</td>\n",
       "      <td>CUS_0x21b1</td>\n",
       "      <td>August</td>\n",
       "      <td>Rick Rothackerj</td>\n",
       "      <td>28</td>\n",
       "      <td>004-07-5839</td>\n",
       "      <td>Teacher</td>\n",
       "      <td>34847.84</td>\n",
       "      <td>3037.986667</td>\n",
       "      <td>2</td>\n",
       "      <td>...</td>\n",
       "      <td>Good</td>\n",
       "      <td>605.03</td>\n",
       "      <td>32.933856</td>\n",
       "      <td>27 Years and 2 Months</td>\n",
       "      <td>No</td>\n",
       "      <td>18.816215</td>\n",
       "      <td>218.90434353388733</td>\n",
       "      <td>Low_spent_Small_value_payments</td>\n",
       "      <td>356.07810855965045</td>\n",
       "      <td>Good</td>\n",
       "    </tr>\n",
       "    <tr>\n",
       "      <th>16</th>\n",
       "      <td>0x161a</td>\n",
       "      <td>CUS_0x2dbc</td>\n",
       "      <td>January</td>\n",
       "      <td>Langep</td>\n",
       "      <td>34</td>\n",
       "      <td>486-85-3974</td>\n",
       "      <td>_______</td>\n",
       "      <td>143162.64</td>\n",
       "      <td>12187.220000</td>\n",
       "      <td>1</td>\n",
       "      <td>...</td>\n",
       "      <td>Good</td>\n",
       "      <td>1303.01</td>\n",
       "      <td>28.616735</td>\n",
       "      <td>17 Years and 9 Months</td>\n",
       "      <td>No</td>\n",
       "      <td>246.992319</td>\n",
       "      <td>168.413702679309</td>\n",
       "      <td>!@9#%8</td>\n",
       "      <td>1043.3159778669492</td>\n",
       "      <td>Good</td>\n",
       "    </tr>\n",
       "    <tr>\n",
       "      <th>17</th>\n",
       "      <td>0x161b</td>\n",
       "      <td>CUS_0x2dbc</td>\n",
       "      <td>February</td>\n",
       "      <td>NaN</td>\n",
       "      <td>34</td>\n",
       "      <td>486-85-3974</td>\n",
       "      <td>Engineer</td>\n",
       "      <td>143162.64</td>\n",
       "      <td>12187.220000</td>\n",
       "      <td>1</td>\n",
       "      <td>...</td>\n",
       "      <td>Good</td>\n",
       "      <td>1303.01</td>\n",
       "      <td>41.702573</td>\n",
       "      <td>17 Years and 10 Months</td>\n",
       "      <td>No</td>\n",
       "      <td>246.992319</td>\n",
       "      <td>232.86038375993544</td>\n",
       "      <td>High_spent_Small_value_payments</td>\n",
       "      <td>998.8692967863226</td>\n",
       "      <td>Good</td>\n",
       "    </tr>\n",
       "    <tr>\n",
       "      <th>18</th>\n",
       "      <td>0x161c</td>\n",
       "      <td>CUS_0x2dbc</td>\n",
       "      <td>March</td>\n",
       "      <td>Langep</td>\n",
       "      <td>34</td>\n",
       "      <td>486-85-3974</td>\n",
       "      <td>_______</td>\n",
       "      <td>143162.64</td>\n",
       "      <td>NaN</td>\n",
       "      <td>1</td>\n",
       "      <td>...</td>\n",
       "      <td>Good</td>\n",
       "      <td>1303.01</td>\n",
       "      <td>26.519815</td>\n",
       "      <td>17 Years and 11 Months</td>\n",
       "      <td>No</td>\n",
       "      <td>246.992319</td>\n",
       "      <td>__10000__</td>\n",
       "      <td>High_spent_Small_value_payments</td>\n",
       "      <td>715.741367403555</td>\n",
       "      <td>Good</td>\n",
       "    </tr>\n",
       "    <tr>\n",
       "      <th>19</th>\n",
       "      <td>0x161d</td>\n",
       "      <td>CUS_0x2dbc</td>\n",
       "      <td>April</td>\n",
       "      <td>Langep</td>\n",
       "      <td>34</td>\n",
       "      <td>486-85-3974</td>\n",
       "      <td>Engineer</td>\n",
       "      <td>143162.64</td>\n",
       "      <td>12187.220000</td>\n",
       "      <td>1</td>\n",
       "      <td>...</td>\n",
       "      <td>_</td>\n",
       "      <td>1303.01</td>\n",
       "      <td>39.501648</td>\n",
       "      <td>NaN</td>\n",
       "      <td>No</td>\n",
       "      <td>246.992319</td>\n",
       "      <td>825.2162699393922</td>\n",
       "      <td>Low_spent_Medium_value_payments</td>\n",
       "      <td>426.5134106068658</td>\n",
       "      <td>Good</td>\n",
       "    </tr>\n",
       "  </tbody>\n",
       "</table>\n",
       "<p>20 rows × 28 columns</p>\n",
       "</div>"
      ],
      "text/plain": [
       "        ID Customer_ID     Month             Name   Age          SSN  \\\n",
       "0   0x1602   CUS_0xd40   January    Aaron Maashoh    23  821-00-0265   \n",
       "1   0x1603   CUS_0xd40  February    Aaron Maashoh    23  821-00-0265   \n",
       "2   0x1604   CUS_0xd40     March    Aaron Maashoh  -500  821-00-0265   \n",
       "3   0x1605   CUS_0xd40     April    Aaron Maashoh    23  821-00-0265   \n",
       "4   0x1606   CUS_0xd40       May    Aaron Maashoh    23  821-00-0265   \n",
       "5   0x1607   CUS_0xd40      June    Aaron Maashoh    23  821-00-0265   \n",
       "6   0x1608   CUS_0xd40      July    Aaron Maashoh    23  821-00-0265   \n",
       "7   0x1609   CUS_0xd40    August              NaN    23    #F%$D@*&8   \n",
       "8   0x160e  CUS_0x21b1   January  Rick Rothackerj   28_  004-07-5839   \n",
       "9   0x160f  CUS_0x21b1  February  Rick Rothackerj    28  004-07-5839   \n",
       "10  0x1610  CUS_0x21b1     March  Rick Rothackerj    28  004-07-5839   \n",
       "11  0x1611  CUS_0x21b1     April  Rick Rothackerj    28  004-07-5839   \n",
       "12  0x1612  CUS_0x21b1       May  Rick Rothackerj    28  004-07-5839   \n",
       "13  0x1613  CUS_0x21b1      June  Rick Rothackerj    28  004-07-5839   \n",
       "14  0x1614  CUS_0x21b1      July  Rick Rothackerj    28  004-07-5839   \n",
       "15  0x1615  CUS_0x21b1    August  Rick Rothackerj    28  004-07-5839   \n",
       "16  0x161a  CUS_0x2dbc   January           Langep    34  486-85-3974   \n",
       "17  0x161b  CUS_0x2dbc  February              NaN    34  486-85-3974   \n",
       "18  0x161c  CUS_0x2dbc     March           Langep    34  486-85-3974   \n",
       "19  0x161d  CUS_0x2dbc     April           Langep    34  486-85-3974   \n",
       "\n",
       "   Occupation Annual_Income  Monthly_Inhand_Salary  Num_Bank_Accounts  ...  \\\n",
       "0   Scientist      19114.12            1824.843333                  3  ...   \n",
       "1   Scientist      19114.12                    NaN                  3  ...   \n",
       "2   Scientist      19114.12                    NaN                  3  ...   \n",
       "3   Scientist      19114.12                    NaN                  3  ...   \n",
       "4   Scientist      19114.12            1824.843333                  3  ...   \n",
       "5   Scientist      19114.12                    NaN                  3  ...   \n",
       "6   Scientist      19114.12            1824.843333                  3  ...   \n",
       "7   Scientist      19114.12            1824.843333                  3  ...   \n",
       "8     _______      34847.84            3037.986667                  2  ...   \n",
       "9     Teacher      34847.84            3037.986667                  2  ...   \n",
       "10    Teacher     34847.84_            3037.986667                  2  ...   \n",
       "11    Teacher      34847.84                    NaN                  2  ...   \n",
       "12    Teacher      34847.84            3037.986667                  2  ...   \n",
       "13    Teacher      34847.84            3037.986667                  2  ...   \n",
       "14    Teacher      34847.84                    NaN                  2  ...   \n",
       "15    Teacher      34847.84            3037.986667                  2  ...   \n",
       "16    _______     143162.64           12187.220000                  1  ...   \n",
       "17   Engineer     143162.64           12187.220000                  1  ...   \n",
       "18    _______     143162.64                    NaN                  1  ...   \n",
       "19   Engineer     143162.64           12187.220000                  1  ...   \n",
       "\n",
       "    Credit_Mix  Outstanding_Debt Credit_Utilization_Ratio  \\\n",
       "0            _            809.98                26.822620   \n",
       "1         Good            809.98                31.944960   \n",
       "2         Good            809.98                28.609352   \n",
       "3         Good            809.98                31.377862   \n",
       "4         Good            809.98                24.797347   \n",
       "5         Good            809.98                27.262259   \n",
       "6         Good            809.98                22.537593   \n",
       "7         Good            809.98                23.933795   \n",
       "8         Good            605.03                24.464031   \n",
       "9         Good            605.03                38.550848   \n",
       "10           _            605.03                33.224951   \n",
       "11        Good            605.03                39.182656   \n",
       "12        Good            605.03                34.977895   \n",
       "13        Good            605.03                33.381010   \n",
       "14        Good            605.03                31.131702   \n",
       "15        Good            605.03                32.933856   \n",
       "16        Good           1303.01                28.616735   \n",
       "17        Good           1303.01                41.702573   \n",
       "18        Good           1303.01                26.519815   \n",
       "19           _           1303.01                39.501648   \n",
       "\n",
       "        Credit_History_Age  Payment_of_Min_Amount Total_EMI_per_month  \\\n",
       "0    22 Years and 1 Months                     No           49.574949   \n",
       "1                      NaN                     No           49.574949   \n",
       "2    22 Years and 3 Months                     No           49.574949   \n",
       "3    22 Years and 4 Months                     No           49.574949   \n",
       "4    22 Years and 5 Months                     No           49.574949   \n",
       "5    22 Years and 6 Months                     No           49.574949   \n",
       "6    22 Years and 7 Months                     No           49.574949   \n",
       "7                      NaN                     No           49.574949   \n",
       "8    26 Years and 7 Months                     No           18.816215   \n",
       "9    26 Years and 8 Months                     No           18.816215   \n",
       "10   26 Years and 9 Months                     No           18.816215   \n",
       "11  26 Years and 10 Months                     No           18.816215   \n",
       "12  26 Years and 11 Months                     No           18.816215   \n",
       "13   27 Years and 0 Months                     No           18.816215   \n",
       "14   27 Years and 1 Months                     NM           18.816215   \n",
       "15   27 Years and 2 Months                     No           18.816215   \n",
       "16   17 Years and 9 Months                     No          246.992319   \n",
       "17  17 Years and 10 Months                     No          246.992319   \n",
       "18  17 Years and 11 Months                     No          246.992319   \n",
       "19                     NaN                     No          246.992319   \n",
       "\n",
       "   Amount_invested_monthly                 Payment_Behaviour  \\\n",
       "0        80.41529543900253   High_spent_Small_value_payments   \n",
       "1       118.28022162236736    Low_spent_Large_value_payments   \n",
       "2          81.699521264648   Low_spent_Medium_value_payments   \n",
       "3        199.4580743910713    Low_spent_Small_value_payments   \n",
       "4       41.420153086217326  High_spent_Medium_value_payments   \n",
       "5       62.430172331195294                            !@9#%8   \n",
       "6        178.3440674122349    Low_spent_Small_value_payments   \n",
       "7       24.785216509052056  High_spent_Medium_value_payments   \n",
       "8         104.291825168246    Low_spent_Small_value_payments   \n",
       "9        40.39123782853101   High_spent_Large_value_payments   \n",
       "10       58.51597569589465   High_spent_Large_value_payments   \n",
       "11       99.30622796053305   Low_spent_Medium_value_payments   \n",
       "12      130.11542024292334    Low_spent_Small_value_payments   \n",
       "13      43.477190144355745   High_spent_Large_value_payments   \n",
       "14       70.10177420755677  High_spent_Medium_value_payments   \n",
       "15      218.90434353388733    Low_spent_Small_value_payments   \n",
       "16        168.413702679309                            !@9#%8   \n",
       "17      232.86038375993544   High_spent_Small_value_payments   \n",
       "18               __10000__   High_spent_Small_value_payments   \n",
       "19       825.2162699393922   Low_spent_Medium_value_payments   \n",
       "\n",
       "       Monthly_Balance Credit_Score  \n",
       "0   312.49408867943663         Good  \n",
       "1   284.62916249607184         Good  \n",
       "2    331.2098628537912         Good  \n",
       "3   223.45130972736786         Good  \n",
       "4   341.48923103222177         Good  \n",
       "5    340.4792117872438         Good  \n",
       "6    244.5653167062043         Good  \n",
       "7   358.12416760938714     Standard  \n",
       "8   470.69062692529184     Standard  \n",
       "9    484.5912142650067         Good  \n",
       "10  466.46647639764313     Standard  \n",
       "11   465.6762241330048         Good  \n",
       "12   444.8670318506144         Good  \n",
       "13    481.505261949182         Good  \n",
       "14   464.8806778859809         Good  \n",
       "15  356.07810855965045         Good  \n",
       "16  1043.3159778669492         Good  \n",
       "17   998.8692967863226         Good  \n",
       "18    715.741367403555         Good  \n",
       "19   426.5134106068658         Good  \n",
       "\n",
       "[20 rows x 28 columns]"
      ]
     },
     "execution_count": 4,
     "metadata": {},
     "output_type": "execute_result"
    }
   ],
   "source": [
    "df_train.head(20)"
   ]
  },
  {
   "cell_type": "code",
   "execution_count": 5,
   "id": "9c2c253b",
   "metadata": {
    "scrolled": false
   },
   "outputs": [
    {
     "data": {
      "text/plain": [
       "ID                           object\n",
       "Customer_ID                  object\n",
       "Month                        object\n",
       "Name                         object\n",
       "Age                          object\n",
       "SSN                          object\n",
       "Occupation                   object\n",
       "Annual_Income                object\n",
       "Monthly_Inhand_Salary       float64\n",
       "Num_Bank_Accounts             int64\n",
       "Num_Credit_Card               int64\n",
       "Interest_Rate                 int64\n",
       "Num_of_Loan                  object\n",
       "Type_of_Loan                 object\n",
       "Delay_from_due_date           int64\n",
       "Num_of_Delayed_Payment       object\n",
       "Changed_Credit_Limit         object\n",
       "Num_Credit_Inquiries        float64\n",
       "Credit_Mix                   object\n",
       "Outstanding_Debt             object\n",
       "Credit_Utilization_Ratio    float64\n",
       "Credit_History_Age           object\n",
       "Payment_of_Min_Amount        object\n",
       "Total_EMI_per_month         float64\n",
       "Amount_invested_monthly      object\n",
       "Payment_Behaviour            object\n",
       "Monthly_Balance              object\n",
       "Credit_Score                 object\n",
       "dtype: object"
      ]
     },
     "execution_count": 5,
     "metadata": {},
     "output_type": "execute_result"
    }
   ],
   "source": [
    "df_train.dtypes # Eventually we want to have all numeric so this is a good thing to check our status"
   ]
  },
  {
   "cell_type": "markdown",
   "id": "1770925e",
   "metadata": {},
   "source": [
    "#### Remove ID, Month, Name, SSN, and Monthly Salary Columns which are unnecessary and/or redundant"
   ]
  },
  {
   "cell_type": "code",
   "execution_count": 6,
   "id": "0b1c7e8d",
   "metadata": {},
   "outputs": [],
   "source": [
    "df_train.drop(columns=df_train.columns[[0,2,3,5,8]] ,inplace=True)"
   ]
  },
  {
   "cell_type": "code",
   "execution_count": 7,
   "id": "ae7badb9",
   "metadata": {
    "scrolled": true
   },
   "outputs": [
    {
     "data": {
      "text/plain": [
       "(100000, 23)"
      ]
     },
     "execution_count": 7,
     "metadata": {},
     "output_type": "execute_result"
    }
   ],
   "source": [
    "df_train.shape # Check to see that five columns were removed from the dataframe"
   ]
  },
  {
   "cell_type": "markdown",
   "id": "fa3df266",
   "metadata": {},
   "source": [
    "#### Give certain column names aliases for ease and readability"
   ]
  },
  {
   "cell_type": "code",
   "execution_count": 8,
   "id": "ec4bd880",
   "metadata": {},
   "outputs": [],
   "source": [
    "df_train.rename(columns = {'Customer_ID':'ID', 'Occupation':'Job',\n",
    "                           'Annual_Income':'Income' ,'Delay_from_due_date':'Days_delayed',\n",
    "                           'Changed_Credit_Limit':'Limit_changed','Num_Credit_Inquiries':'Inquiries', \n",
    "                           'Payment_of_Min_Amount':'Min_Amt_Paid', 'Total_EMI_per_month':'EMI',\n",
    "                           'Payment_Behaviour':'Payment_Behavior'},inplace = True)"
   ]
  },
  {
   "cell_type": "code",
   "execution_count": 9,
   "id": "2f2d6f90",
   "metadata": {},
   "outputs": [
    {
     "name": "stdout",
     "output_type": "stream",
     "text": [
      "ID, Age, Job, Income, Num_Bank_Accounts, Num_Credit_Card, Interest_Rate, Num_of_Loan, Type_of_Loan, Days_delayed, Num_of_Delayed_Payment, Limit_changed, Inquiries, Credit_Mix, Outstanding_Debt, Credit_Utilization_Ratio, Credit_History_Age, Min_Amt_Paid, EMI, Amount_invested_monthly, Payment_Behavior, Monthly_Balance, Credit_Score\n"
     ]
    }
   ],
   "source": [
    "print(*list(df_train.columns), sep=', ')"
   ]
  },
  {
   "cell_type": "markdown",
   "id": "d22c232e",
   "metadata": {},
   "source": [
    "#### Split Dataframe into two dataframes containing target and feature variables"
   ]
  },
  {
   "cell_type": "code",
   "execution_count": 10,
   "id": "bae5c55c",
   "metadata": {},
   "outputs": [],
   "source": [
    "target=df_train[df_train.columns[[-1]]]"
   ]
  },
  {
   "cell_type": "code",
   "execution_count": 11,
   "id": "fac60ccf",
   "metadata": {},
   "outputs": [],
   "source": [
    "features=df_train.drop(columns=df_train.columns[[-1]])"
   ]
  },
  {
   "cell_type": "markdown",
   "id": "3d1425cf",
   "metadata": {},
   "source": [
    "##### Observe a single row at our current level of cleaning progress"
   ]
  },
  {
   "cell_type": "code",
   "execution_count": 12,
   "id": "5e1f0d3e",
   "metadata": {
    "scrolled": false
   },
   "outputs": [
    {
     "data": {
      "text/plain": [
       "ID                                                       CUS_0x2dbc\n",
       "Age                                                              34\n",
       "Job                                                        Engineer\n",
       "Income                                                    143162.64\n",
       "Num_Bank_Accounts                                                 1\n",
       "Num_Credit_Card                                                   5\n",
       "Interest_Rate                                                     8\n",
       "Num_of_Loan                                                       3\n",
       "Type_of_Loan                Auto Loan, Auto Loan, and Not Specified\n",
       "Days_delayed                                                     13\n",
       "Num_of_Delayed_Payment                                            6\n",
       "Limit_changed                                                   7.1\n",
       "Inquiries                                                       3.0\n",
       "Credit_Mix                                                     Good\n",
       "Outstanding_Debt                                            1303.01\n",
       "Credit_Utilization_Ratio                                  41.702573\n",
       "Credit_History_Age                           17 Years and 10 Months\n",
       "Min_Amt_Paid                                                     No\n",
       "EMI                                                      246.992319\n",
       "Amount_invested_monthly                          232.86038375993544\n",
       "Payment_Behavior                    High_spent_Small_value_payments\n",
       "Monthly_Balance                                   998.8692967863226\n",
       "Name: 17, dtype: object"
      ]
     },
     "execution_count": 12,
     "metadata": {},
     "output_type": "execute_result"
    }
   ],
   "source": [
    "features.iloc[17]"
   ]
  },
  {
   "cell_type": "markdown",
   "id": "357cfde7",
   "metadata": {},
   "source": [
    "### Advanced Data Cleaning and Manipulation"
   ]
  },
  {
   "cell_type": "markdown",
   "id": "f6860b9c",
   "metadata": {},
   "source": [
    "#### Convert Credit History Age from \"__ Years and __ Months\" format into a decimal by defining and applying a function"
   ]
  },
  {
   "cell_type": "code",
   "execution_count": 13,
   "id": "408c2e07",
   "metadata": {},
   "outputs": [],
   "source": [
    "def year_float(y_and_m): # Define a function which will convert \"__ Years and __ Months\" into float\n",
    "    try:\n",
    "        newstring_list = y_and_m.rstrip().rstrip(' Months').split(' Years and ') # Remove words and spaces\n",
    "        age_as_float = float(newstring_list[0]) + float(newstring_list[1])/12 # Perform calculation\n",
    "        return age_as_float\n",
    "    except:\n",
    "        return np.nan"
   ]
  },
  {
   "cell_type": "code",
   "execution_count": 14,
   "id": "58621be0",
   "metadata": {
    "scrolled": false
   },
   "outputs": [],
   "source": [
    "features['Credit_History_Age'] = features['Credit_History_Age'].apply(year_float)"
   ]
  },
  {
   "cell_type": "markdown",
   "id": "b5c3ca79",
   "metadata": {},
   "source": [
    "#### Remove Trailing or Placholder Underscores with Empty Strings in Numeric Columns"
   ]
  },
  {
   "cell_type": "code",
   "execution_count": 15,
   "id": "2236e404",
   "metadata": {},
   "outputs": [],
   "source": [
    "def remove_underscores(number): # Define a function to replace underscores with empty strings\n",
    "    try : \n",
    "        return number.replace(\"_\",\"\")\n",
    "    except :\n",
    "        return np.nan\n",
    "    \n",
    "Numeric_col_list = ['Age', 'Income', 'Num_of_Loan',  # List numeric columns containing underscores\n",
    "                    'Num_of_Delayed_Payment','Limit_changed',\n",
    "                    'Outstanding_Debt' ,'Amount_invested_monthly',  \n",
    "                    'Monthly_Balance']\n",
    "\n",
    "for col in Numeric_col_list:  # Apply our underscore removing function to the numeric columns containing them\n",
    "    features[col] = features[col].apply(remove_underscores)"
   ]
  },
  {
   "cell_type": "code",
   "execution_count": null,
   "id": "1f0f7eec",
   "metadata": {},
   "outputs": [],
   "source": [
    "\"\"\"\n",
    "# Initially, this was designed to change the string in the loan types column to a list. I abandoned this idea.\n",
    "\n",
    "def remove_and_spaces_split(strng):\n",
    "    try : \n",
    "        return [strg.strip() for strg in strng.replace('and', '').split(',')]\n",
    "    \n",
    "    except :\n",
    "        return None\n",
    "features['Type_of_Loan'] = features['Type_of_Loan'].apply(remove_and_spaces_split)\"\"\""
   ]
  },
  {
   "cell_type": "markdown",
   "id": "b1c088f1",
   "metadata": {},
   "source": [
    "#### Remove Empty strings from Limit Changed column and replace with NaN's"
   ]
  },
  {
   "cell_type": "code",
   "execution_count": 16,
   "id": "bf139ee0",
   "metadata": {},
   "outputs": [],
   "source": [
    "def stripper(string):\n",
    "    return string.strip()"
   ]
  },
  {
   "cell_type": "code",
   "execution_count": 17,
   "id": "032e3b12",
   "metadata": {
    "scrolled": true
   },
   "outputs": [],
   "source": [
    "features['Limit_changed'] = features['Limit_changed'].apply(stripper)"
   ]
  },
  {
   "cell_type": "code",
   "execution_count": 18,
   "id": "02af024e",
   "metadata": {},
   "outputs": [],
   "source": [
    "features['Limit_changed'] = features['Limit_changed'].replace(\"\",np.nan)"
   ]
  },
  {
   "cell_type": "markdown",
   "id": "996576c0",
   "metadata": {},
   "source": [
    "#### Define an imputer function to fill NaN's when fixed intervals of data are related"
   ]
  },
  {
   "cell_type": "code",
   "execution_count": 19,
   "id": "c2131afa",
   "metadata": {},
   "outputs": [],
   "source": [
    "pd.options.mode.chained_assignment = None # Supress chained assignment warnings"
   ]
  },
  {
   "cell_type": "code",
   "execution_count": 20,
   "id": "3826c405",
   "metadata": {},
   "outputs": [],
   "source": [
    "\"\"\"This function is more general when data loops at a certain interval. For every entry except the first\n",
    "in an interval it will forward-fill. For the first entry in an interval it will back-fill. This is done \n",
    "so that when you are filling missing data you are doing it from a row which is more closely related.\n",
    "\n",
    "dataset and col_name parameters are fairly self explanatory. loop_size is how many rows consecutively\n",
    "are related. In our data frame it is 8 because each customer has 8 months of data.\n",
    "range_length parameter is a subset (or the entirety) of rows where you want missing entries filled.\"\"\"\n",
    "\n",
    "def my_imputer(dataset, col_name, loop_size, range_length):\n",
    "    for ind in range(0,range_length):\n",
    "        if (pd.isna(dataset[col_name][ind])):\n",
    "            if ind % loop_size == 0 :\n",
    "                dataset[col_name][ind]=dataset[col_name].fillna(method='bfill')[ind]\n",
    "            else:\n",
    "                dataset[col_name][ind]=dataset[col_name].fillna(method='ffill')[ind]\n",
    "        else:\n",
    "            pass                "
   ]
  },
  {
   "cell_type": "markdown",
   "id": "60fbff7e",
   "metadata": {},
   "source": [
    "#### List all columns containing missing entries and amount of missing entries in each"
   ]
  },
  {
   "cell_type": "code",
   "execution_count": 21,
   "id": "8022d512",
   "metadata": {
    "scrolled": true
   },
   "outputs": [
    {
     "data": {
      "text/plain": [
       "Type_of_Loan               11408\n",
       "Num_of_Delayed_Payment      7002\n",
       "Limit_changed               2091\n",
       "Inquiries                   1965\n",
       "Credit_History_Age          9030\n",
       "Amount_invested_monthly     4479\n",
       "Monthly_Balance             1200\n",
       "dtype: int64"
      ]
     },
     "execution_count": 21,
     "metadata": {},
     "output_type": "execute_result"
    }
   ],
   "source": [
    "features.loc[:, features.isna().any()].isna().sum()"
   ]
  },
  {
   "cell_type": "markdown",
   "id": "03879916",
   "metadata": {},
   "source": [
    "All customers with Zero number of loans should have No loans listed as type of loan\n",
    "All customers with NaN / Null type of loans should have zero number of loans and no loans listed as type of loan"
   ]
  },
  {
   "cell_type": "code",
   "execution_count": 22,
   "id": "23e67ec0",
   "metadata": {},
   "outputs": [],
   "source": [
    "features.loc[features['Num_of_Loan'] == '0', 'Type_of_Loan'] = 'No Loans'"
   ]
  },
  {
   "cell_type": "code",
   "execution_count": 23,
   "id": "9fc842c8",
   "metadata": {
    "scrolled": false
   },
   "outputs": [
    {
     "data": {
      "text/plain": [
       "Type_of_Loan                478\n",
       "Num_of_Delayed_Payment     7002\n",
       "Limit_changed              2091\n",
       "Inquiries                  1965\n",
       "Credit_History_Age         9030\n",
       "Amount_invested_monthly    4479\n",
       "Monthly_Balance            1200\n",
       "dtype: int64"
      ]
     },
     "execution_count": 23,
     "metadata": {},
     "output_type": "execute_result"
    }
   ],
   "source": [
    "features.loc[:, features.isna().any()].isna().sum()"
   ]
  },
  {
   "cell_type": "code",
   "execution_count": 24,
   "id": "d344f2b3",
   "metadata": {},
   "outputs": [],
   "source": [
    "my_imputer(dataset=features, col_name='Type_of_Loan', loop_size=8, range_length=100000)"
   ]
  },
  {
   "cell_type": "code",
   "execution_count": null,
   "id": "c144b485",
   "metadata": {},
   "outputs": [],
   "source": []
  },
  {
   "cell_type": "markdown",
   "id": "a13ceb27",
   "metadata": {},
   "source": [
    "num delayed payment -- generally better to fill with median"
   ]
  },
  {
   "cell_type": "code",
   "execution_count": 25,
   "id": "5b54df47",
   "metadata": {},
   "outputs": [],
   "source": [
    "for ind in features[features.Num_of_Delayed_Payment.isna()].index:\n",
    "    id_of_missing = features.ID[ind]\n",
    "    features.Num_of_Delayed_Payment[ind] = features[features.ID==id_of_missing]['Num_of_Delayed_Payment'].median()"
   ]
  },
  {
   "cell_type": "code",
   "execution_count": null,
   "id": "8ec3124a",
   "metadata": {},
   "outputs": [],
   "source": []
  },
  {
   "cell_type": "markdown",
   "id": "0226698d",
   "metadata": {},
   "source": [
    "Inquiries - forward fill or backward fill is fine. Imputer will work"
   ]
  },
  {
   "cell_type": "code",
   "execution_count": 26,
   "id": "ff159223",
   "metadata": {},
   "outputs": [],
   "source": [
    "my_imputer(dataset=features, col_name='Inquiries', loop_size=8, range_length=100000)"
   ]
  },
  {
   "cell_type": "code",
   "execution_count": null,
   "id": "ee6b80fa",
   "metadata": {},
   "outputs": [],
   "source": []
  },
  {
   "cell_type": "markdown",
   "id": "02e90fb3",
   "metadata": {},
   "source": [
    "limit changed"
   ]
  },
  {
   "cell_type": "code",
   "execution_count": 27,
   "id": "fdede64f",
   "metadata": {
    "scrolled": true
   },
   "outputs": [],
   "source": [
    "for ind in features[features.Limit_changed.isna()].index:\n",
    "    id_of_missing = features.ID[ind]\n",
    "    features.Limit_changed[ind] = features[features.ID==id_of_missing]['Limit_changed'].median()"
   ]
  },
  {
   "cell_type": "code",
   "execution_count": null,
   "id": "db622b8c",
   "metadata": {},
   "outputs": [],
   "source": []
  },
  {
   "cell_type": "markdown",
   "id": "01dec182",
   "metadata": {},
   "source": [
    "amount invested monthly"
   ]
  },
  {
   "cell_type": "code",
   "execution_count": 28,
   "id": "f5b16ae7",
   "metadata": {},
   "outputs": [],
   "source": [
    "for ind in features[features.Amount_invested_monthly.isna()].index:\n",
    "    id_of_missing = features.ID[ind]\n",
    "    features.Amount_invested_monthly[ind] = features[features.ID==id_of_missing]['Amount_invested_monthly'].median()"
   ]
  },
  {
   "cell_type": "code",
   "execution_count": null,
   "id": "b3834257",
   "metadata": {},
   "outputs": [],
   "source": []
  },
  {
   "cell_type": "markdown",
   "id": "57d1a1c3",
   "metadata": {},
   "source": [
    "Median should be used to fill in missing balances"
   ]
  },
  {
   "cell_type": "code",
   "execution_count": 29,
   "id": "f43312b8",
   "metadata": {},
   "outputs": [],
   "source": [
    "for ind in features[features.Monthly_Balance.isna()].index:\n",
    "    id_of_missing = features.ID[ind]\n",
    "    features.Monthly_Balance[ind] = features[features.ID==id_of_missing]['Monthly_Balance'].median()"
   ]
  },
  {
   "cell_type": "code",
   "execution_count": null,
   "id": "6951b672",
   "metadata": {},
   "outputs": [],
   "source": []
  },
  {
   "cell_type": "code",
   "execution_count": 30,
   "id": "eee1f469",
   "metadata": {
    "scrolled": true
   },
   "outputs": [
    {
     "data": {
      "text/plain": [
       "['Credit_History_Age']"
      ]
     },
     "execution_count": 30,
     "metadata": {},
     "output_type": "execute_result"
    }
   ],
   "source": [
    "list_columns_with_missings = list(features.columns[features.isna().any()])\n",
    "list_columns_with_missings # This list contains the column headers of columns containing missing values"
   ]
  },
  {
   "cell_type": "code",
   "execution_count": null,
   "id": "c72b33e6",
   "metadata": {
    "scrolled": false
   },
   "outputs": [],
   "source": [
    "\"\"\"The Credit_History_Age column is easy enough to infer missing entries by adding a month\n",
    "to the previous or removing a month from the subsequent. If we were to use forward-fill\n",
    "or backward-fill this would create inaccurate data. The age of the credit history being\n",
    "incorrect by .083 is probably not impactful but the fact that 9% of our data is missing\n",
    "this entry makes it worthwhile to do the extra effort. For this reason I will remove\n",
    "Credit_History_Age from the columns that I will apply my simple imputer to.\"\"\"\n",
    "\n",
    "list_columns_with_missings.remove('Credit_History_Age')\n",
    "list_columns_with_missings"
   ]
  },
  {
   "cell_type": "markdown",
   "id": "7eafca0c",
   "metadata": {},
   "source": [
    "#### Use my imputer function to fill in missing entries"
   ]
  },
  {
   "cell_type": "code",
   "execution_count": null,
   "id": "af3f54e0",
   "metadata": {},
   "outputs": [],
   "source": [
    "# This for loop will apply my simple forward- or back- filling imputer to columns with missing entries\n",
    "\n",
    "for col in list_columns_with_missings:\n",
    "    my_imputer(dataset=features, col_name=col, loop_size=8, range_length=100000)"
   ]
  },
  {
   "cell_type": "code",
   "execution_count": 31,
   "id": "dbc5f87a",
   "metadata": {
    "scrolled": false
   },
   "outputs": [
    {
     "data": {
      "text/plain": [
       "ID                             0\n",
       "Age                            0\n",
       "Job                            0\n",
       "Income                         0\n",
       "Num_Bank_Accounts              0\n",
       "Num_Credit_Card                0\n",
       "Interest_Rate                  0\n",
       "Num_of_Loan                    0\n",
       "Type_of_Loan                   0\n",
       "Days_delayed                   0\n",
       "Num_of_Delayed_Payment         0\n",
       "Limit_changed                  0\n",
       "Inquiries                      0\n",
       "Credit_Mix                     0\n",
       "Outstanding_Debt               0\n",
       "Credit_Utilization_Ratio       0\n",
       "Credit_History_Age          9030\n",
       "Min_Amt_Paid                   0\n",
       "EMI                            0\n",
       "Amount_invested_monthly        0\n",
       "Payment_Behavior               0\n",
       "Monthly_Balance                0\n",
       "dtype: int64"
      ]
     },
     "execution_count": 31,
     "metadata": {},
     "output_type": "execute_result"
    }
   ],
   "source": [
    "features.isnull().sum(axis = 0) # Check to see missing entries have been filled"
   ]
  },
  {
   "cell_type": "markdown",
   "id": "804a4e24",
   "metadata": {},
   "source": [
    "#### Fix Credit History Age column by replacing missing entries. Add a month to the previous or subtract a month from the following entry"
   ]
  },
  {
   "cell_type": "code",
   "execution_count": 32,
   "id": "c9a2f59e",
   "metadata": {},
   "outputs": [],
   "source": [
    "# This for loop follows a similar logic to our imputer function\n",
    "# However, rather than backfill or forwardfill it subtracts or adds a month\n",
    "# Relative to a year the value of a month is 1/12th\n",
    "\n",
    "for ind in range(0,100000):\n",
    "    if pd.isna(features.Credit_History_Age[ind]):\n",
    "        if ind % 8 == 0 :\n",
    "            try:\n",
    "                features.Credit_History_Age[ind] = features.Credit_History_Age[ind+1] - (1/12)\n",
    "            except:\n",
    "                pass\n",
    "        else: \n",
    "            try:\n",
    "                features.Credit_History_Age[ind] = features.Credit_History_Age[ind-1] + (1/12)\n",
    "            except:\n",
    "                pass\n",
    "    else:\n",
    "        pass"
   ]
  },
  {
   "cell_type": "code",
   "execution_count": 33,
   "id": "daddb553",
   "metadata": {},
   "outputs": [
    {
     "data": {
      "text/plain": [
       "224"
      ]
     },
     "execution_count": 33,
     "metadata": {},
     "output_type": "execute_result"
    }
   ],
   "source": [
    "features.Credit_History_Age.isnull().sum() # Check how many missings remain from the initial 9030"
   ]
  },
  {
   "cell_type": "code",
   "execution_count": 34,
   "id": "8af1bcfa",
   "metadata": {},
   "outputs": [],
   "source": [
    "# Sometimes there are two missing Credit History Age entries in a row so we need to run the loop again\n",
    "\n",
    "for ind in range(0,100000):\n",
    "    if pd.isna(features.Credit_History_Age[ind]):\n",
    "        if ind % 8 == 0 :\n",
    "            try:\n",
    "                features.Credit_History_Age[ind] = features.Credit_History_Age[ind+2] - (2/12)\n",
    "            except:\n",
    "                pass\n",
    "        else: \n",
    "            try:\n",
    "                features.Credit_History_Age[ind] = features.Credit_History_Age[ind-1] + (1/12)\n",
    "            except:\n",
    "                pass\n",
    "    else:\n",
    "        pass"
   ]
  },
  {
   "cell_type": "code",
   "execution_count": 35,
   "id": "5b048819",
   "metadata": {},
   "outputs": [
    {
     "data": {
      "text/plain": [
       "28"
      ]
     },
     "execution_count": 35,
     "metadata": {},
     "output_type": "execute_result"
    }
   ],
   "source": [
    "features.Credit_History_Age.isnull().sum()"
   ]
  },
  {
   "cell_type": "code",
   "execution_count": 36,
   "id": "11537161",
   "metadata": {
    "scrolled": false
   },
   "outputs": [],
   "source": [
    "# This code chunk creates a list containing which contains the months where Credit History Age is missing\n",
    "# 0 = January, 1= February etc.\n",
    "\n",
    "missing_index_modulo_list =[]\n",
    "for ind in range(0,100000):\n",
    "    if pd.isna(features.Credit_History_Age[ind]):\n",
    "        missing_index_modulo_list.append(ind%8)"
   ]
  },
  {
   "cell_type": "code",
   "execution_count": 37,
   "id": "1c756e8a",
   "metadata": {},
   "outputs": [
    {
     "data": {
      "text/plain": [
       "array([0, 1, 2, 3])"
      ]
     },
     "execution_count": 37,
     "metadata": {},
     "output_type": "execute_result"
    }
   ],
   "source": [
    "pd.unique(missing_index_modulo_list) \n",
    "\n",
    "# By looking at the unique values of our month list we know Credit History Age is only missing\n",
    "# In the months January, February, March, and April"
   ]
  },
  {
   "cell_type": "code",
   "execution_count": 38,
   "id": "2570eeca",
   "metadata": {},
   "outputs": [],
   "source": [
    "# This final for loop jumps four months ahead to fill in the missing data. Even if the customer \n",
    "# is missing their Credit_History_Age in April jumping four months forward still puts us in August\n",
    "\n",
    "for ind in range(0,100000):\n",
    "    if pd.isna(features.Credit_History_Age[ind]):\n",
    "        try:\n",
    "            features.Credit_History_Age[ind] = features.Credit_History_Age[ind+4] - (4/12)\n",
    "         \n",
    "        except:\n",
    "             pass\n",
    "    else:\n",
    "        pass"
   ]
  },
  {
   "cell_type": "code",
   "execution_count": 39,
   "id": "a6c17c6a",
   "metadata": {},
   "outputs": [
    {
     "data": {
      "text/plain": [
       "0"
      ]
     },
     "execution_count": 39,
     "metadata": {},
     "output_type": "execute_result"
    }
   ],
   "source": [
    "features.Credit_History_Age.isnull().sum() # Should return 0 now"
   ]
  },
  {
   "cell_type": "markdown",
   "id": "877ea0d7",
   "metadata": {},
   "source": [
    "#### Convert should-be Numeric Columns to Numeric"
   ]
  },
  {
   "cell_type": "code",
   "execution_count": 40,
   "id": "41244952",
   "metadata": {},
   "outputs": [
    {
     "data": {
      "text/plain": [
       "Index(['ID', 'Age', 'Job', 'Income', 'Num_of_Loan', 'Type_of_Loan',\n",
       "       'Num_of_Delayed_Payment', 'Limit_changed', 'Credit_Mix',\n",
       "       'Outstanding_Debt', 'Min_Amt_Paid', 'Amount_invested_monthly',\n",
       "       'Payment_Behavior', 'Monthly_Balance'],\n",
       "      dtype='object')"
      ]
     },
     "execution_count": 40,
     "metadata": {},
     "output_type": "execute_result"
    }
   ],
   "source": [
    "features.select_dtypes(exclude=[np.number]).columns # List columns that don't have numeric data type"
   ]
  },
  {
   "cell_type": "code",
   "execution_count": 41,
   "id": "7fdaba5c",
   "metadata": {
    "scrolled": false
   },
   "outputs": [
    {
     "data": {
      "text/plain": [
       "['Age',\n",
       " 'Income',\n",
       " 'Num_of_Loan',\n",
       " 'Num_of_Delayed_Payment',\n",
       " 'Limit_changed',\n",
       " 'Outstanding_Debt',\n",
       " 'Amount_invested_monthly',\n",
       " 'Monthly_Balance']"
      ]
     },
     "execution_count": 41,
     "metadata": {},
     "output_type": "execute_result"
    }
   ],
   "source": [
    "Numeric_col_list # This list is accurate. It contains the columns above which aren't categorical"
   ]
  },
  {
   "cell_type": "code",
   "execution_count": 42,
   "id": "7a677796",
   "metadata": {},
   "outputs": [],
   "source": [
    "Numeric_col_list.remove('Limit_changed') \n",
    "# Coerce error paramter is not correct for converting this column so we will do it separately"
   ]
  },
  {
   "cell_type": "code",
   "execution_count": 43,
   "id": "36174887",
   "metadata": {},
   "outputs": [],
   "source": [
    "for col in Numeric_col_list:\n",
    "    features[col] = pd.to_numeric((features[col]), errors='coerce')"
   ]
  },
  {
   "cell_type": "code",
   "execution_count": 44,
   "id": "b4326c76",
   "metadata": {},
   "outputs": [],
   "source": [
    "features['Limit_changed'] = pd.to_numeric(features['Limit_changed'])"
   ]
  },
  {
   "cell_type": "code",
   "execution_count": 45,
   "id": "1ee12be9",
   "metadata": {
    "scrolled": true
   },
   "outputs": [
    {
     "data": {
      "text/plain": [
       "ID                          0\n",
       "Age                         0\n",
       "Job                         0\n",
       "Income                      0\n",
       "Num_Bank_Accounts           0\n",
       "Num_Credit_Card             0\n",
       "Interest_Rate               0\n",
       "Num_of_Loan                 0\n",
       "Type_of_Loan                0\n",
       "Days_delayed                0\n",
       "Num_of_Delayed_Payment      0\n",
       "Limit_changed               0\n",
       "Inquiries                   0\n",
       "Credit_Mix                  0\n",
       "Outstanding_Debt            0\n",
       "Credit_Utilization_Ratio    0\n",
       "Credit_History_Age          0\n",
       "Min_Amt_Paid                0\n",
       "EMI                         0\n",
       "Amount_invested_monthly     0\n",
       "Payment_Behavior            0\n",
       "Monthly_Balance             0\n",
       "dtype: int64"
      ]
     },
     "execution_count": 45,
     "metadata": {},
     "output_type": "execute_result"
    }
   ],
   "source": [
    "features.isnull().sum(axis = 0)"
   ]
  },
  {
   "cell_type": "code",
   "execution_count": 46,
   "id": "60fb3117",
   "metadata": {},
   "outputs": [
    {
     "data": {
      "text/plain": [
       "Index(['ID', 'Job', 'Type_of_Loan', 'Credit_Mix', 'Min_Amt_Paid',\n",
       "       'Payment_Behavior'],\n",
       "      dtype='object')"
      ]
     },
     "execution_count": 46,
     "metadata": {},
     "output_type": "execute_result"
    }
   ],
   "source": [
    "features.select_dtypes(exclude=[np.number]).columns # Check to see only categorical columns remain"
   ]
  },
  {
   "cell_type": "markdown",
   "id": "ba244278",
   "metadata": {},
   "source": [
    "#### Handling of Outliers"
   ]
  },
  {
   "cell_type": "markdown",
   "id": "3bc08aa9",
   "metadata": {},
   "source": [
    "##### Find which columns contain outliers"
   ]
  },
  {
   "cell_type": "code",
   "execution_count": 47,
   "id": "337db355",
   "metadata": {},
   "outputs": [
    {
     "data": {
      "text/html": [
       "<div>\n",
       "<style scoped>\n",
       "    .dataframe tbody tr th:only-of-type {\n",
       "        vertical-align: middle;\n",
       "    }\n",
       "\n",
       "    .dataframe tbody tr th {\n",
       "        vertical-align: top;\n",
       "    }\n",
       "\n",
       "    .dataframe thead th {\n",
       "        text-align: right;\n",
       "    }\n",
       "</style>\n",
       "<table border=\"1\" class=\"dataframe\">\n",
       "  <thead>\n",
       "    <tr style=\"text-align: right;\">\n",
       "      <th></th>\n",
       "      <th>Age</th>\n",
       "      <th>Income</th>\n",
       "      <th>Num_Bank_Accounts</th>\n",
       "      <th>Num_Credit_Card</th>\n",
       "      <th>Interest_Rate</th>\n",
       "      <th>Num_of_Loan</th>\n",
       "      <th>Days_delayed</th>\n",
       "      <th>Num_of_Delayed_Payment</th>\n",
       "      <th>Limit_changed</th>\n",
       "      <th>Inquiries</th>\n",
       "      <th>Outstanding_Debt</th>\n",
       "      <th>Credit_Utilization_Ratio</th>\n",
       "      <th>Credit_History_Age</th>\n",
       "      <th>EMI</th>\n",
       "      <th>Amount_invested_monthly</th>\n",
       "      <th>Monthly_Balance</th>\n",
       "    </tr>\n",
       "  </thead>\n",
       "  <tbody>\n",
       "    <tr>\n",
       "      <th>count</th>\n",
       "      <td>100000.000000</td>\n",
       "      <td>1.000000e+05</td>\n",
       "      <td>100000.000000</td>\n",
       "      <td>100000.00000</td>\n",
       "      <td>100000.000000</td>\n",
       "      <td>100000.000000</td>\n",
       "      <td>100000.000000</td>\n",
       "      <td>100000.000000</td>\n",
       "      <td>100000.000000</td>\n",
       "      <td>100000.000000</td>\n",
       "      <td>100000.000000</td>\n",
       "      <td>100000.000000</td>\n",
       "      <td>100000.000000</td>\n",
       "      <td>100000.000000</td>\n",
       "      <td>100000.000000</td>\n",
       "      <td>1.000000e+05</td>\n",
       "    </tr>\n",
       "    <tr>\n",
       "      <th>mean</th>\n",
       "      <td>110.649700</td>\n",
       "      <td>1.764157e+05</td>\n",
       "      <td>17.091280</td>\n",
       "      <td>22.47443</td>\n",
       "      <td>72.466040</td>\n",
       "      <td>3.009960</td>\n",
       "      <td>21.068780</td>\n",
       "      <td>29.693800</td>\n",
       "      <td>10.389113</td>\n",
       "      <td>27.700090</td>\n",
       "      <td>1426.220376</td>\n",
       "      <td>32.285173</td>\n",
       "      <td>18.433907</td>\n",
       "      <td>1403.118217</td>\n",
       "      <td>617.257610</td>\n",
       "      <td>-3.000000e+22</td>\n",
       "    </tr>\n",
       "    <tr>\n",
       "      <th>std</th>\n",
       "      <td>686.244717</td>\n",
       "      <td>1.429618e+06</td>\n",
       "      <td>117.404834</td>\n",
       "      <td>129.05741</td>\n",
       "      <td>466.422621</td>\n",
       "      <td>62.647879</td>\n",
       "      <td>14.860104</td>\n",
       "      <td>218.027042</td>\n",
       "      <td>6.783421</td>\n",
       "      <td>192.889529</td>\n",
       "      <td>1155.129026</td>\n",
       "      <td>5.116875</td>\n",
       "      <td>8.306759</td>\n",
       "      <td>8306.041270</td>\n",
       "      <td>1999.677146</td>\n",
       "      <td>3.162151e+24</td>\n",
       "    </tr>\n",
       "    <tr>\n",
       "      <th>min</th>\n",
       "      <td>-500.000000</td>\n",
       "      <td>7.005930e+03</td>\n",
       "      <td>-1.000000</td>\n",
       "      <td>0.00000</td>\n",
       "      <td>1.000000</td>\n",
       "      <td>-100.000000</td>\n",
       "      <td>-5.000000</td>\n",
       "      <td>-3.000000</td>\n",
       "      <td>-6.490000</td>\n",
       "      <td>0.000000</td>\n",
       "      <td>0.230000</td>\n",
       "      <td>20.000000</td>\n",
       "      <td>0.083333</td>\n",
       "      <td>0.000000</td>\n",
       "      <td>0.000000</td>\n",
       "      <td>-3.333333e+26</td>\n",
       "    </tr>\n",
       "    <tr>\n",
       "      <th>25%</th>\n",
       "      <td>24.000000</td>\n",
       "      <td>1.945750e+04</td>\n",
       "      <td>3.000000</td>\n",
       "      <td>4.00000</td>\n",
       "      <td>8.000000</td>\n",
       "      <td>1.000000</td>\n",
       "      <td>10.000000</td>\n",
       "      <td>9.000000</td>\n",
       "      <td>5.340000</td>\n",
       "      <td>3.000000</td>\n",
       "      <td>566.072500</td>\n",
       "      <td>28.052567</td>\n",
       "      <td>12.000000</td>\n",
       "      <td>30.306660</td>\n",
       "      <td>75.356284</td>\n",
       "      <td>2.703078e+02</td>\n",
       "    </tr>\n",
       "    <tr>\n",
       "      <th>50%</th>\n",
       "      <td>33.000000</td>\n",
       "      <td>3.757861e+04</td>\n",
       "      <td>6.000000</td>\n",
       "      <td>5.00000</td>\n",
       "      <td>13.000000</td>\n",
       "      <td>3.000000</td>\n",
       "      <td>18.000000</td>\n",
       "      <td>14.000000</td>\n",
       "      <td>9.400000</td>\n",
       "      <td>6.000000</td>\n",
       "      <td>1166.155000</td>\n",
       "      <td>32.305784</td>\n",
       "      <td>18.250000</td>\n",
       "      <td>69.249473</td>\n",
       "      <td>136.173912</td>\n",
       "      <td>3.372525e+02</td>\n",
       "    </tr>\n",
       "    <tr>\n",
       "      <th>75%</th>\n",
       "      <td>42.000000</td>\n",
       "      <td>7.279092e+04</td>\n",
       "      <td>7.000000</td>\n",
       "      <td>7.00000</td>\n",
       "      <td>20.000000</td>\n",
       "      <td>5.000000</td>\n",
       "      <td>28.000000</td>\n",
       "      <td>18.000000</td>\n",
       "      <td>14.850000</td>\n",
       "      <td>9.000000</td>\n",
       "      <td>1945.962500</td>\n",
       "      <td>36.496663</td>\n",
       "      <td>25.166667</td>\n",
       "      <td>161.224249</td>\n",
       "      <td>263.231662</td>\n",
       "      <td>4.719186e+02</td>\n",
       "    </tr>\n",
       "    <tr>\n",
       "      <th>max</th>\n",
       "      <td>8698.000000</td>\n",
       "      <td>2.419806e+07</td>\n",
       "      <td>1798.000000</td>\n",
       "      <td>1499.00000</td>\n",
       "      <td>5797.000000</td>\n",
       "      <td>1496.000000</td>\n",
       "      <td>67.000000</td>\n",
       "      <td>4397.000000</td>\n",
       "      <td>36.970000</td>\n",
       "      <td>2597.000000</td>\n",
       "      <td>4998.070000</td>\n",
       "      <td>50.000000</td>\n",
       "      <td>33.666667</td>\n",
       "      <td>82331.000000</td>\n",
       "      <td>10000.000000</td>\n",
       "      <td>1.602041e+03</td>\n",
       "    </tr>\n",
       "  </tbody>\n",
       "</table>\n",
       "</div>"
      ],
      "text/plain": [
       "                 Age        Income  Num_Bank_Accounts  Num_Credit_Card  \\\n",
       "count  100000.000000  1.000000e+05      100000.000000     100000.00000   \n",
       "mean      110.649700  1.764157e+05          17.091280         22.47443   \n",
       "std       686.244717  1.429618e+06         117.404834        129.05741   \n",
       "min      -500.000000  7.005930e+03          -1.000000          0.00000   \n",
       "25%        24.000000  1.945750e+04           3.000000          4.00000   \n",
       "50%        33.000000  3.757861e+04           6.000000          5.00000   \n",
       "75%        42.000000  7.279092e+04           7.000000          7.00000   \n",
       "max      8698.000000  2.419806e+07        1798.000000       1499.00000   \n",
       "\n",
       "       Interest_Rate    Num_of_Loan   Days_delayed  Num_of_Delayed_Payment  \\\n",
       "count  100000.000000  100000.000000  100000.000000           100000.000000   \n",
       "mean       72.466040       3.009960      21.068780               29.693800   \n",
       "std       466.422621      62.647879      14.860104              218.027042   \n",
       "min         1.000000    -100.000000      -5.000000               -3.000000   \n",
       "25%         8.000000       1.000000      10.000000                9.000000   \n",
       "50%        13.000000       3.000000      18.000000               14.000000   \n",
       "75%        20.000000       5.000000      28.000000               18.000000   \n",
       "max      5797.000000    1496.000000      67.000000             4397.000000   \n",
       "\n",
       "       Limit_changed      Inquiries  Outstanding_Debt  \\\n",
       "count  100000.000000  100000.000000     100000.000000   \n",
       "mean       10.389113      27.700090       1426.220376   \n",
       "std         6.783421     192.889529       1155.129026   \n",
       "min        -6.490000       0.000000          0.230000   \n",
       "25%         5.340000       3.000000        566.072500   \n",
       "50%         9.400000       6.000000       1166.155000   \n",
       "75%        14.850000       9.000000       1945.962500   \n",
       "max        36.970000    2597.000000       4998.070000   \n",
       "\n",
       "       Credit_Utilization_Ratio  Credit_History_Age            EMI  \\\n",
       "count             100000.000000       100000.000000  100000.000000   \n",
       "mean                  32.285173           18.433907    1403.118217   \n",
       "std                    5.116875            8.306759    8306.041270   \n",
       "min                   20.000000            0.083333       0.000000   \n",
       "25%                   28.052567           12.000000      30.306660   \n",
       "50%                   32.305784           18.250000      69.249473   \n",
       "75%                   36.496663           25.166667     161.224249   \n",
       "max                   50.000000           33.666667   82331.000000   \n",
       "\n",
       "       Amount_invested_monthly  Monthly_Balance  \n",
       "count            100000.000000     1.000000e+05  \n",
       "mean                617.257610    -3.000000e+22  \n",
       "std                1999.677146     3.162151e+24  \n",
       "min                   0.000000    -3.333333e+26  \n",
       "25%                  75.356284     2.703078e+02  \n",
       "50%                 136.173912     3.372525e+02  \n",
       "75%                 263.231662     4.719186e+02  \n",
       "max               10000.000000     1.602041e+03  "
      ]
     },
     "execution_count": 47,
     "metadata": {},
     "output_type": "execute_result"
    }
   ],
   "source": [
    "features.describe()"
   ]
  },
  {
   "cell_type": "code",
   "execution_count": 48,
   "id": "37754063",
   "metadata": {},
   "outputs": [],
   "source": [
    "outlier_column_list= ['Age', 'Income', 'Num_Bank_Accounts', 'Num_Credit_Card', 'Interest_Rate', 'Num_of_Loan', \n",
    "                      'Num_of_Delayed_Payment', 'Inquiries', 'EMI']"
   ]
  },
  {
   "cell_type": "markdown",
   "id": "bd673872",
   "metadata": {},
   "source": [
    "##### Define function to find and replace outliers"
   ]
  },
  {
   "cell_type": "code",
   "execution_count": 49,
   "id": "aaa8feea",
   "metadata": {},
   "outputs": [],
   "source": [
    "\"\"\"This function finds outliers by first finding the interquartile range. This is calculated as\n",
    "the difference between Q3 (75th percentile) and Q1 (25th percentile). Then 1.5 times the IQR\n",
    "is added to Q3 and subtracted from Q1 to find the upper and lower limits, respectively.\n",
    "Then we find the indices of the rows in our dataset that are outside of these bounds for our\n",
    "chosen feature. The threshold can be chosen to decide how extreme of outliers are considered.\n",
    "1.5 is typical.\"\"\"\n",
    "\n",
    "def find_outliers(dataset, feature, threshold):\n",
    "    outlier_indices = []\n",
    "    Q1 = np.percentile(dataset[feature],25)\n",
    "    Q3 = np.percentile(dataset[feature],75)\n",
    "    IQR = (Q3-Q1)\n",
    "    upper_limt = Q3 + ((IQR * threshold))\n",
    "    lower_limt = Q1 - ((IQR * threshold))\n",
    "    outlier_list_col = dataset[(dataset[feature] < lower_limt) | (dataset[feature] > upper_limt)].index\n",
    "    outlier_indices.extend(outlier_list_col)\n",
    "    return outlier_indices"
   ]
  },
  {
   "cell_type": "code",
   "execution_count": 50,
   "id": "529f3b74",
   "metadata": {},
   "outputs": [
    {
     "name": "stdout",
     "output_type": "stream",
     "text": [
      "Age\n",
      "2781\n",
      "Income\n",
      "2783\n",
      "Num_Bank_Accounts\n",
      "1315\n",
      "Num_Credit_Card\n",
      "2271\n",
      "Interest_Rate\n",
      "2034\n",
      "Num_of_Loan\n",
      "4348\n",
      "Num_of_Delayed_Payment\n",
      "736\n",
      "Inquiries\n",
      "1680\n",
      "EMI\n",
      "6795\n"
     ]
    }
   ],
   "source": [
    "for col in outlier_column_list: # Find how many outliers each column contains\n",
    "    print(col)\n",
    "    print(len(find_outliers(dataset=features, feature=col, threshold=1.5)))"
   ]
  },
  {
   "cell_type": "code",
   "execution_count": null,
   "id": "ddcf5180",
   "metadata": {},
   "outputs": [],
   "source": [
    "\"\"\"This function when provided with the outlier indices will remove the outliers from the chosen\n",
    "feature column of our given dataset. It does this by replacing outliers with a NaN. Then it replaces\n",
    "this NaN with the median which is calculated from the known entries which exists for the other months\n",
    "of that feature for that particular customer's records.\"\"\"\n",
    "\n",
    "def replace_outliers(dataset, feature, outlier_indices):\n",
    "    dataset[feature][outlier_indices] = np.nan\n",
    "    for outlier_index in outlier_indices:\n",
    "        missing_id = dataset['ID'][outlier_index]\n",
    "        median_of_missing = dataset[dataset.ID == missing_id][feature].median()\n",
    "        dataset[feature][outlier_index] = median_of_missing\n",
    "    replaced_column = dataset[feature]\n",
    "    return replaced_column"
   ]
  },
  {
   "cell_type": "code",
   "execution_count": 51,
   "id": "5296df16",
   "metadata": {},
   "outputs": [],
   "source": [
    "\"\"\"This function when provided with the outlier indices will remove the outliers from the chosen\n",
    "feature column of our given dataset. It does this by replacing outliers with a NaN. Then it replaces\n",
    "this NaN with the median which is calculated from the known entries which exists for the other months\n",
    "of that feature for that particular customer's records.\"\"\"\n",
    "\n",
    "def replace_outliers(dataset, feature, outlier_indices):\n",
    "    for outlier_index in outlier_indices:\n",
    "        missing_id = dataset['ID'][outlier_index]\n",
    "        median_of_missing = dataset[dataset.ID == missing_id][feature].median()\n",
    "        dataset[feature][outlier_index] = median_of_missing\n",
    "    replaced_column = dataset[feature]\n",
    "    return replaced_column"
   ]
  },
  {
   "cell_type": "code",
   "execution_count": 52,
   "id": "ebe203ad",
   "metadata": {},
   "outputs": [],
   "source": [
    "def find_and_replace_outliers(dataset, feature, threshold):\n",
    "    repd = replace_outliers(dataset, feature, outlier_indices=find_outliers(dataset, feature, threshold))\n",
    "    return repd"
   ]
  },
  {
   "cell_type": "markdown",
   "id": "b1b5fa92",
   "metadata": {},
   "source": [
    "##### Apply our function to find and replace outliers to the columns containing them"
   ]
  },
  {
   "cell_type": "code",
   "execution_count": 55,
   "id": "a0b83016",
   "metadata": {},
   "outputs": [],
   "source": [
    "# Loop through the columns with outliers and apply the find_and_replace_outliers function iteratively\n",
    "for col in outlier_column_list:\n",
    "    features[col] = find_and_replace_outliers(dataset=features, feature=col, threshold=1.5)"
   ]
  },
  {
   "cell_type": "code",
   "execution_count": 56,
   "id": "1c9ae7fc",
   "metadata": {
    "scrolled": true
   },
   "outputs": [
    {
     "name": "stdout",
     "output_type": "stream",
     "text": [
      "Age\n",
      "0\n",
      "Income\n",
      "2000\n",
      "Num_Bank_Accounts\n",
      "0\n",
      "Num_Credit_Card\n",
      "0\n",
      "Interest_Rate\n",
      "0\n",
      "Num_of_Loan\n",
      "0\n",
      "Num_of_Delayed_Payment\n",
      "0\n",
      "Inquiries\n",
      "771\n",
      "EMI\n",
      "4806\n"
     ]
    }
   ],
   "source": [
    "# Verify to see most if not all outliers are removed\n",
    "for col in outlier_column_list: # Find how many outliers each column contains\n",
    "    print(col)\n",
    "    print(len(find_outliers(dataset=features, feature=col, threshold=1.5)))"
   ]
  },
  {
   "cell_type": "code",
   "execution_count": 59,
   "id": "5337a61c",
   "metadata": {},
   "outputs": [],
   "source": [
    "# Loop through the columns with outliers and apply the find_and_replace_outliers function iteratively\n",
    "for col in outlier_column_list:\n",
    "    features[col] = find_and_replace_outliers(dataset=features, feature=col, threshold=1.5)"
   ]
  },
  {
   "cell_type": "code",
   "execution_count": 68,
   "id": "59bfcf81",
   "metadata": {
    "scrolled": true
   },
   "outputs": [
    {
     "name": "stdout",
     "output_type": "stream",
     "text": [
      "Age\n",
      "0\n",
      "Income\n",
      "2000\n",
      "Num_Bank_Accounts\n",
      "0\n",
      "Num_Credit_Card\n",
      "0\n",
      "Interest_Rate\n",
      "0\n",
      "Num_of_Loan\n",
      "0\n",
      "Num_of_Delayed_Payment\n",
      "0\n",
      "Inquiries\n",
      "497\n",
      "EMI\n",
      "4762\n"
     ]
    }
   ],
   "source": [
    "# Verify to see most if not all outliers are removed\n",
    "for col in outlier_column_list: # Find how many outliers each column contains\n",
    "    print(col)\n",
    "    print(len(find_outliers(dataset=features, feature=col, threshold=1.5)))"
   ]
  },
  {
   "cell_type": "code",
   "execution_count": 64,
   "id": "9a981c8c",
   "metadata": {
    "scrolled": false
   },
   "outputs": [
    {
     "data": {
      "text/plain": [
       "ID                          0\n",
       "Age                         0\n",
       "Job                         0\n",
       "Income                      0\n",
       "Num_Bank_Accounts           0\n",
       "Num_Credit_Card             0\n",
       "Interest_Rate               0\n",
       "Num_of_Loan                 0\n",
       "Type_of_Loan                0\n",
       "Days_delayed                0\n",
       "Num_of_Delayed_Payment      0\n",
       "Limit_changed               0\n",
       "Inquiries                   0\n",
       "Credit_Mix                  0\n",
       "Outstanding_Debt            0\n",
       "Credit_Utilization_Ratio    0\n",
       "Credit_History_Age          0\n",
       "Min_Amt_Paid                0\n",
       "EMI                         0\n",
       "Amount_invested_monthly     0\n",
       "Payment_Behavior            0\n",
       "Monthly_Balance             0\n",
       "dtype: int64"
      ]
     },
     "execution_count": 64,
     "metadata": {},
     "output_type": "execute_result"
    }
   ],
   "source": [
    "features.isnull().sum(axis = 0)"
   ]
  },
  {
   "cell_type": "code",
   "execution_count": 61,
   "id": "214adb00",
   "metadata": {},
   "outputs": [],
   "source": [
    "# Find and replace the outliers in the Limit_Changed column\n",
    "features['Limit_changed'] = find_and_replace_outliers(dataset=features, feature='Limit_changed', threshold=1.5)"
   ]
  },
  {
   "cell_type": "code",
   "execution_count": 67,
   "id": "45abc339",
   "metadata": {
    "scrolled": false
   },
   "outputs": [
    {
     "data": {
      "text/html": [
       "<div>\n",
       "<style scoped>\n",
       "    .dataframe tbody tr th:only-of-type {\n",
       "        vertical-align: middle;\n",
       "    }\n",
       "\n",
       "    .dataframe tbody tr th {\n",
       "        vertical-align: top;\n",
       "    }\n",
       "\n",
       "    .dataframe thead th {\n",
       "        text-align: right;\n",
       "    }\n",
       "</style>\n",
       "<table border=\"1\" class=\"dataframe\">\n",
       "  <thead>\n",
       "    <tr style=\"text-align: right;\">\n",
       "      <th></th>\n",
       "      <th>Age</th>\n",
       "      <th>Income</th>\n",
       "      <th>Num_Bank_Accounts</th>\n",
       "      <th>Num_Credit_Card</th>\n",
       "      <th>Interest_Rate</th>\n",
       "      <th>Num_of_Loan</th>\n",
       "      <th>Days_delayed</th>\n",
       "      <th>Num_of_Delayed_Payment</th>\n",
       "      <th>Limit_changed</th>\n",
       "      <th>Inquiries</th>\n",
       "      <th>Outstanding_Debt</th>\n",
       "      <th>Credit_Utilization_Ratio</th>\n",
       "      <th>Credit_History_Age</th>\n",
       "      <th>EMI</th>\n",
       "      <th>Amount_invested_monthly</th>\n",
       "      <th>Monthly_Balance</th>\n",
       "    </tr>\n",
       "  </thead>\n",
       "  <tbody>\n",
       "    <tr>\n",
       "      <th>count</th>\n",
       "      <td>100000.000000</td>\n",
       "      <td>100000.000000</td>\n",
       "      <td>100000.000000</td>\n",
       "      <td>100000.000000</td>\n",
       "      <td>100000.00000</td>\n",
       "      <td>100000.000000</td>\n",
       "      <td>100000.000000</td>\n",
       "      <td>100000.000000</td>\n",
       "      <td>100000.000000</td>\n",
       "      <td>100000.000000</td>\n",
       "      <td>100000.000000</td>\n",
       "      <td>100000.000000</td>\n",
       "      <td>100000.000000</td>\n",
       "      <td>100000.000000</td>\n",
       "      <td>100000.000000</td>\n",
       "      <td>1.000000e+05</td>\n",
       "    </tr>\n",
       "    <tr>\n",
       "      <th>mean</th>\n",
       "      <td>33.310680</td>\n",
       "      <td>50505.123449</td>\n",
       "      <td>5.368660</td>\n",
       "      <td>5.533680</td>\n",
       "      <td>14.53208</td>\n",
       "      <td>3.532880</td>\n",
       "      <td>21.068780</td>\n",
       "      <td>13.316655</td>\n",
       "      <td>10.374345</td>\n",
       "      <td>5.766949</td>\n",
       "      <td>1426.220376</td>\n",
       "      <td>32.285173</td>\n",
       "      <td>18.433907</td>\n",
       "      <td>104.367292</td>\n",
       "      <td>617.257610</td>\n",
       "      <td>-3.000000e+22</td>\n",
       "    </tr>\n",
       "    <tr>\n",
       "      <th>std</th>\n",
       "      <td>10.764736</td>\n",
       "      <td>38299.422093</td>\n",
       "      <td>2.593761</td>\n",
       "      <td>2.067126</td>\n",
       "      <td>8.74133</td>\n",
       "      <td>2.446356</td>\n",
       "      <td>14.860104</td>\n",
       "      <td>6.302094</td>\n",
       "      <td>6.742179</td>\n",
       "      <td>3.835971</td>\n",
       "      <td>1155.129026</td>\n",
       "      <td>5.116875</td>\n",
       "      <td>8.306759</td>\n",
       "      <td>120.696544</td>\n",
       "      <td>1999.677146</td>\n",
       "      <td>3.162151e+24</td>\n",
       "    </tr>\n",
       "    <tr>\n",
       "      <th>min</th>\n",
       "      <td>14.000000</td>\n",
       "      <td>7005.930000</td>\n",
       "      <td>-1.000000</td>\n",
       "      <td>0.000000</td>\n",
       "      <td>1.00000</td>\n",
       "      <td>0.000000</td>\n",
       "      <td>-5.000000</td>\n",
       "      <td>-3.000000</td>\n",
       "      <td>-6.490000</td>\n",
       "      <td>0.000000</td>\n",
       "      <td>0.230000</td>\n",
       "      <td>20.000000</td>\n",
       "      <td>0.083333</td>\n",
       "      <td>0.000000</td>\n",
       "      <td>0.000000</td>\n",
       "      <td>-3.333333e+26</td>\n",
       "    </tr>\n",
       "    <tr>\n",
       "      <th>25%</th>\n",
       "      <td>24.000000</td>\n",
       "      <td>19342.972500</td>\n",
       "      <td>3.000000</td>\n",
       "      <td>4.000000</td>\n",
       "      <td>7.00000</td>\n",
       "      <td>2.000000</td>\n",
       "      <td>10.000000</td>\n",
       "      <td>9.000000</td>\n",
       "      <td>5.340000</td>\n",
       "      <td>3.000000</td>\n",
       "      <td>566.072500</td>\n",
       "      <td>28.052567</td>\n",
       "      <td>12.000000</td>\n",
       "      <td>29.131335</td>\n",
       "      <td>75.356284</td>\n",
       "      <td>2.703078e+02</td>\n",
       "    </tr>\n",
       "    <tr>\n",
       "      <th>50%</th>\n",
       "      <td>33.000000</td>\n",
       "      <td>36999.705000</td>\n",
       "      <td>5.000000</td>\n",
       "      <td>5.000000</td>\n",
       "      <td>13.00000</td>\n",
       "      <td>3.000000</td>\n",
       "      <td>18.000000</td>\n",
       "      <td>14.000000</td>\n",
       "      <td>9.400000</td>\n",
       "      <td>5.000000</td>\n",
       "      <td>1166.155000</td>\n",
       "      <td>32.305784</td>\n",
       "      <td>18.250000</td>\n",
       "      <td>66.310456</td>\n",
       "      <td>136.173912</td>\n",
       "      <td>3.372525e+02</td>\n",
       "    </tr>\n",
       "    <tr>\n",
       "      <th>75%</th>\n",
       "      <td>42.000000</td>\n",
       "      <td>71683.470000</td>\n",
       "      <td>7.000000</td>\n",
       "      <td>7.000000</td>\n",
       "      <td>20.00000</td>\n",
       "      <td>5.000000</td>\n",
       "      <td>28.000000</td>\n",
       "      <td>18.000000</td>\n",
       "      <td>14.850000</td>\n",
       "      <td>8.000000</td>\n",
       "      <td>1945.962500</td>\n",
       "      <td>36.496663</td>\n",
       "      <td>25.166667</td>\n",
       "      <td>145.639552</td>\n",
       "      <td>263.231662</td>\n",
       "      <td>4.719186e+02</td>\n",
       "    </tr>\n",
       "    <tr>\n",
       "      <th>max</th>\n",
       "      <td>56.000000</td>\n",
       "      <td>179987.280000</td>\n",
       "      <td>11.000000</td>\n",
       "      <td>11.000000</td>\n",
       "      <td>34.00000</td>\n",
       "      <td>9.000000</td>\n",
       "      <td>67.000000</td>\n",
       "      <td>28.000000</td>\n",
       "      <td>29.980000</td>\n",
       "      <td>17.000000</td>\n",
       "      <td>4998.070000</td>\n",
       "      <td>50.000000</td>\n",
       "      <td>33.666667</td>\n",
       "      <td>1779.103254</td>\n",
       "      <td>10000.000000</td>\n",
       "      <td>1.602041e+03</td>\n",
       "    </tr>\n",
       "  </tbody>\n",
       "</table>\n",
       "</div>"
      ],
      "text/plain": [
       "                 Age         Income  Num_Bank_Accounts  Num_Credit_Card  \\\n",
       "count  100000.000000  100000.000000      100000.000000    100000.000000   \n",
       "mean       33.310680   50505.123449           5.368660         5.533680   \n",
       "std        10.764736   38299.422093           2.593761         2.067126   \n",
       "min        14.000000    7005.930000          -1.000000         0.000000   \n",
       "25%        24.000000   19342.972500           3.000000         4.000000   \n",
       "50%        33.000000   36999.705000           5.000000         5.000000   \n",
       "75%        42.000000   71683.470000           7.000000         7.000000   \n",
       "max        56.000000  179987.280000          11.000000        11.000000   \n",
       "\n",
       "       Interest_Rate    Num_of_Loan   Days_delayed  Num_of_Delayed_Payment  \\\n",
       "count   100000.00000  100000.000000  100000.000000           100000.000000   \n",
       "mean        14.53208       3.532880      21.068780               13.316655   \n",
       "std          8.74133       2.446356      14.860104                6.302094   \n",
       "min          1.00000       0.000000      -5.000000               -3.000000   \n",
       "25%          7.00000       2.000000      10.000000                9.000000   \n",
       "50%         13.00000       3.000000      18.000000               14.000000   \n",
       "75%         20.00000       5.000000      28.000000               18.000000   \n",
       "max         34.00000       9.000000      67.000000               28.000000   \n",
       "\n",
       "       Limit_changed      Inquiries  Outstanding_Debt  \\\n",
       "count  100000.000000  100000.000000     100000.000000   \n",
       "mean       10.374345       5.766949       1426.220376   \n",
       "std         6.742179       3.835971       1155.129026   \n",
       "min        -6.490000       0.000000          0.230000   \n",
       "25%         5.340000       3.000000        566.072500   \n",
       "50%         9.400000       5.000000       1166.155000   \n",
       "75%        14.850000       8.000000       1945.962500   \n",
       "max        29.980000      17.000000       4998.070000   \n",
       "\n",
       "       Credit_Utilization_Ratio  Credit_History_Age            EMI  \\\n",
       "count             100000.000000       100000.000000  100000.000000   \n",
       "mean                  32.285173           18.433907     104.367292   \n",
       "std                    5.116875            8.306759     120.696544   \n",
       "min                   20.000000            0.083333       0.000000   \n",
       "25%                   28.052567           12.000000      29.131335   \n",
       "50%                   32.305784           18.250000      66.310456   \n",
       "75%                   36.496663           25.166667     145.639552   \n",
       "max                   50.000000           33.666667    1779.103254   \n",
       "\n",
       "       Amount_invested_monthly  Monthly_Balance  \n",
       "count            100000.000000     1.000000e+05  \n",
       "mean                617.257610    -3.000000e+22  \n",
       "std                1999.677146     3.162151e+24  \n",
       "min                   0.000000    -3.333333e+26  \n",
       "25%                  75.356284     2.703078e+02  \n",
       "50%                 136.173912     3.372525e+02  \n",
       "75%                 263.231662     4.719186e+02  \n",
       "max               10000.000000     1.602041e+03  "
      ]
     },
     "execution_count": 67,
     "metadata": {},
     "output_type": "execute_result"
    }
   ],
   "source": [
    "# Verify if maximum and minimum values of numeric columns are more reasonable\n",
    "features.describe()"
   ]
  },
  {
   "cell_type": "code",
   "execution_count": 66,
   "id": "64d0ccfe",
   "metadata": {},
   "outputs": [],
   "source": [
    "# Iterate once more to remove remaining outliers in 'Inquiries' column\n",
    "features['Inquiries'] = find_and_replace_outliers(dataset=features, feature='Inquiries', threshold=1.5)"
   ]
  },
  {
   "cell_type": "markdown",
   "id": "043c80b0",
   "metadata": {},
   "source": [
    "#### Remove negative values where unreasonable"
   ]
  },
  {
   "cell_type": "code",
   "execution_count": 69,
   "id": "6733448c",
   "metadata": {},
   "outputs": [],
   "source": [
    "\"\"\"A negative number of bank accounts is nonsensical. Let us rectify this error.\n",
    " I manually checked and the customers who have negative bank account numbers in one or\n",
    " more rows have a Zero entry in the majority of their other months' records\"\"\"\n",
    "\n",
    "features.Num_Bank_Accounts[features[features.Num_Bank_Accounts < 0].index] = 0"
   ]
  },
  {
   "cell_type": "code",
   "execution_count": 70,
   "id": "743512f8",
   "metadata": {
    "scrolled": true
   },
   "outputs": [],
   "source": [
    "# Let's find the row numbers (index) where the 'Number of Delayed Payment' column has negative values\n",
    "negative_delayed_payments = features[features.Num_of_Delayed_Payment < 0].index"
   ]
  },
  {
   "cell_type": "markdown",
   "id": "703a39eb",
   "metadata": {},
   "source": [
    "##### For loops to iteratively remove negative numbers of delayed payments"
   ]
  },
  {
   "cell_type": "code",
   "execution_count": 71,
   "id": "499b04aa",
   "metadata": {},
   "outputs": [],
   "source": [
    "for ind in negative_delayed_payments:\n",
    "    if ind % 8 == 0 :\n",
    "        features.Num_of_Delayed_Payment[ind]=features.Num_of_Delayed_Payment[ind+1]\n",
    "    else:\n",
    "        features.Num_of_Delayed_Payment[ind]=features.Num_of_Delayed_Payment[ind-1] "
   ]
  },
  {
   "cell_type": "code",
   "execution_count": 72,
   "id": "79c77862",
   "metadata": {},
   "outputs": [],
   "source": [
    "negative_delayed_payments = features[features.Num_of_Delayed_Payment < 0].index\n",
    "for ind in negative_delayed_payments:\n",
    "    if ind % 8 == 0 :\n",
    "        features.Num_of_Delayed_Payment[ind]=features.Num_of_Delayed_Payment[ind+2]\n",
    "    else:\n",
    "        features.Num_of_Delayed_Payment[ind]=features.Num_of_Delayed_Payment[ind-1] "
   ]
  },
  {
   "cell_type": "code",
   "execution_count": 73,
   "id": "889daa4e",
   "metadata": {},
   "outputs": [],
   "source": [
    "negative_delayed_payments = features[features.Num_of_Delayed_Payment < 0].index\n",
    "for ind in negative_delayed_payments:\n",
    "    if ind % 8 == 0 :\n",
    "        features.Num_of_Delayed_Payment[ind]=features.Num_of_Delayed_Payment[ind+3]\n",
    "    else:\n",
    "        features.Num_of_Delayed_Payment[ind]=features.Num_of_Delayed_Payment[ind-1] "
   ]
  },
  {
   "cell_type": "code",
   "execution_count": 74,
   "id": "80810893",
   "metadata": {},
   "outputs": [],
   "source": [
    "negative_delayed_payments = features[features.Num_of_Delayed_Payment < 0].index\n",
    "for ind in negative_delayed_payments:\n",
    "    if ind % 8 == 0 :\n",
    "        features.Num_of_Delayed_Payment[ind]=features.Num_of_Delayed_Payment[ind+4]\n",
    "    else:\n",
    "        features.Num_of_Delayed_Payment[ind]=features.Num_of_Delayed_Payment[ind-1] "
   ]
  },
  {
   "cell_type": "code",
   "execution_count": 75,
   "id": "c5bba5e3",
   "metadata": {},
   "outputs": [
    {
     "data": {
      "text/plain": [
       "Int64Index([], dtype='int64')"
      ]
     },
     "execution_count": 75,
     "metadata": {},
     "output_type": "execute_result"
    }
   ],
   "source": [
    "features[features.Num_of_Delayed_Payment < 0].index"
   ]
  },
  {
   "cell_type": "code",
   "execution_count": 76,
   "id": "a92a4aea",
   "metadata": {},
   "outputs": [
    {
     "data": {
      "text/plain": [
       "0"
      ]
     },
     "execution_count": 76,
     "metadata": {},
     "output_type": "execute_result"
    }
   ],
   "source": [
    "len(features[features.Num_of_Delayed_Payment < 0].index)"
   ]
  },
  {
   "cell_type": "markdown",
   "id": "2cf10cab",
   "metadata": {},
   "source": [
    "##### Employ similar process as above to remove negative monthly balances"
   ]
  },
  {
   "cell_type": "code",
   "execution_count": 77,
   "id": "9c296839",
   "metadata": {
    "scrolled": true
   },
   "outputs": [],
   "source": [
    "negative_balances = features[features.Monthly_Balance < 0].index"
   ]
  },
  {
   "cell_type": "code",
   "execution_count": 78,
   "id": "dbc4ad72",
   "metadata": {},
   "outputs": [],
   "source": [
    "for ind in negative_balances:\n",
    "    if ind % 8 == 0 :\n",
    "        features.Monthly_Balance[ind]=features.Monthly_Balance[ind+1]\n",
    "    else:\n",
    "        features.Monthly_Balance[ind]=features.Monthly_Balance[ind-1] "
   ]
  },
  {
   "cell_type": "code",
   "execution_count": 79,
   "id": "e13fb928",
   "metadata": {
    "scrolled": false
   },
   "outputs": [
    {
     "data": {
      "text/html": [
       "<div>\n",
       "<style scoped>\n",
       "    .dataframe tbody tr th:only-of-type {\n",
       "        vertical-align: middle;\n",
       "    }\n",
       "\n",
       "    .dataframe tbody tr th {\n",
       "        vertical-align: top;\n",
       "    }\n",
       "\n",
       "    .dataframe thead th {\n",
       "        text-align: right;\n",
       "    }\n",
       "</style>\n",
       "<table border=\"1\" class=\"dataframe\">\n",
       "  <thead>\n",
       "    <tr style=\"text-align: right;\">\n",
       "      <th></th>\n",
       "      <th>Age</th>\n",
       "      <th>Income</th>\n",
       "      <th>Num_Bank_Accounts</th>\n",
       "      <th>Num_Credit_Card</th>\n",
       "      <th>Interest_Rate</th>\n",
       "      <th>Num_of_Loan</th>\n",
       "      <th>Days_delayed</th>\n",
       "      <th>Num_of_Delayed_Payment</th>\n",
       "      <th>Limit_changed</th>\n",
       "      <th>Inquiries</th>\n",
       "      <th>Outstanding_Debt</th>\n",
       "      <th>Credit_Utilization_Ratio</th>\n",
       "      <th>Credit_History_Age</th>\n",
       "      <th>EMI</th>\n",
       "      <th>Amount_invested_monthly</th>\n",
       "      <th>Monthly_Balance</th>\n",
       "    </tr>\n",
       "  </thead>\n",
       "  <tbody>\n",
       "    <tr>\n",
       "      <th>count</th>\n",
       "      <td>100000.000000</td>\n",
       "      <td>100000.000000</td>\n",
       "      <td>100000.000000</td>\n",
       "      <td>100000.000000</td>\n",
       "      <td>100000.00000</td>\n",
       "      <td>100000.000000</td>\n",
       "      <td>100000.000000</td>\n",
       "      <td>100000.000000</td>\n",
       "      <td>100000.000000</td>\n",
       "      <td>100000.000000</td>\n",
       "      <td>100000.000000</td>\n",
       "      <td>100000.000000</td>\n",
       "      <td>100000.000000</td>\n",
       "      <td>100000.000000</td>\n",
       "      <td>100000.000000</td>\n",
       "      <td>100000.000000</td>\n",
       "    </tr>\n",
       "    <tr>\n",
       "      <th>mean</th>\n",
       "      <td>33.310680</td>\n",
       "      <td>50505.123449</td>\n",
       "      <td>5.368870</td>\n",
       "      <td>5.533680</td>\n",
       "      <td>14.53208</td>\n",
       "      <td>3.532880</td>\n",
       "      <td>21.068780</td>\n",
       "      <td>13.334060</td>\n",
       "      <td>10.374345</td>\n",
       "      <td>5.766949</td>\n",
       "      <td>1426.220376</td>\n",
       "      <td>32.285173</td>\n",
       "      <td>18.433907</td>\n",
       "      <td>104.367292</td>\n",
       "      <td>617.257610</td>\n",
       "      <td>403.495486</td>\n",
       "    </tr>\n",
       "    <tr>\n",
       "      <th>std</th>\n",
       "      <td>10.764736</td>\n",
       "      <td>38299.422093</td>\n",
       "      <td>2.593286</td>\n",
       "      <td>2.067126</td>\n",
       "      <td>8.74133</td>\n",
       "      <td>2.446356</td>\n",
       "      <td>14.860104</td>\n",
       "      <td>6.264674</td>\n",
       "      <td>6.742179</td>\n",
       "      <td>3.835971</td>\n",
       "      <td>1155.129026</td>\n",
       "      <td>5.116875</td>\n",
       "      <td>8.306759</td>\n",
       "      <td>120.696544</td>\n",
       "      <td>1999.677146</td>\n",
       "      <td>214.421736</td>\n",
       "    </tr>\n",
       "    <tr>\n",
       "      <th>min</th>\n",
       "      <td>14.000000</td>\n",
       "      <td>7005.930000</td>\n",
       "      <td>0.000000</td>\n",
       "      <td>0.000000</td>\n",
       "      <td>1.00000</td>\n",
       "      <td>0.000000</td>\n",
       "      <td>-5.000000</td>\n",
       "      <td>0.000000</td>\n",
       "      <td>-6.490000</td>\n",
       "      <td>0.000000</td>\n",
       "      <td>0.230000</td>\n",
       "      <td>20.000000</td>\n",
       "      <td>0.083333</td>\n",
       "      <td>0.000000</td>\n",
       "      <td>0.000000</td>\n",
       "      <td>0.007760</td>\n",
       "    </tr>\n",
       "    <tr>\n",
       "      <th>25%</th>\n",
       "      <td>24.000000</td>\n",
       "      <td>19342.972500</td>\n",
       "      <td>3.000000</td>\n",
       "      <td>4.000000</td>\n",
       "      <td>7.00000</td>\n",
       "      <td>2.000000</td>\n",
       "      <td>10.000000</td>\n",
       "      <td>9.000000</td>\n",
       "      <td>5.340000</td>\n",
       "      <td>3.000000</td>\n",
       "      <td>566.072500</td>\n",
       "      <td>28.052567</td>\n",
       "      <td>12.000000</td>\n",
       "      <td>29.131335</td>\n",
       "      <td>75.356284</td>\n",
       "      <td>270.323051</td>\n",
       "    </tr>\n",
       "    <tr>\n",
       "      <th>50%</th>\n",
       "      <td>33.000000</td>\n",
       "      <td>36999.705000</td>\n",
       "      <td>5.000000</td>\n",
       "      <td>5.000000</td>\n",
       "      <td>13.00000</td>\n",
       "      <td>3.000000</td>\n",
       "      <td>18.000000</td>\n",
       "      <td>14.000000</td>\n",
       "      <td>9.400000</td>\n",
       "      <td>5.000000</td>\n",
       "      <td>1166.155000</td>\n",
       "      <td>32.305784</td>\n",
       "      <td>18.250000</td>\n",
       "      <td>66.310456</td>\n",
       "      <td>136.173912</td>\n",
       "      <td>337.280888</td>\n",
       "    </tr>\n",
       "    <tr>\n",
       "      <th>75%</th>\n",
       "      <td>42.000000</td>\n",
       "      <td>71683.470000</td>\n",
       "      <td>7.000000</td>\n",
       "      <td>7.000000</td>\n",
       "      <td>20.00000</td>\n",
       "      <td>5.000000</td>\n",
       "      <td>28.000000</td>\n",
       "      <td>18.000000</td>\n",
       "      <td>14.850000</td>\n",
       "      <td>8.000000</td>\n",
       "      <td>1945.962500</td>\n",
       "      <td>36.496663</td>\n",
       "      <td>25.166667</td>\n",
       "      <td>145.639552</td>\n",
       "      <td>263.231662</td>\n",
       "      <td>471.928804</td>\n",
       "    </tr>\n",
       "    <tr>\n",
       "      <th>max</th>\n",
       "      <td>56.000000</td>\n",
       "      <td>179987.280000</td>\n",
       "      <td>11.000000</td>\n",
       "      <td>11.000000</td>\n",
       "      <td>34.00000</td>\n",
       "      <td>9.000000</td>\n",
       "      <td>67.000000</td>\n",
       "      <td>28.000000</td>\n",
       "      <td>29.980000</td>\n",
       "      <td>17.000000</td>\n",
       "      <td>4998.070000</td>\n",
       "      <td>50.000000</td>\n",
       "      <td>33.666667</td>\n",
       "      <td>1779.103254</td>\n",
       "      <td>10000.000000</td>\n",
       "      <td>1602.040519</td>\n",
       "    </tr>\n",
       "  </tbody>\n",
       "</table>\n",
       "</div>"
      ],
      "text/plain": [
       "                 Age         Income  Num_Bank_Accounts  Num_Credit_Card  \\\n",
       "count  100000.000000  100000.000000      100000.000000    100000.000000   \n",
       "mean       33.310680   50505.123449           5.368870         5.533680   \n",
       "std        10.764736   38299.422093           2.593286         2.067126   \n",
       "min        14.000000    7005.930000           0.000000         0.000000   \n",
       "25%        24.000000   19342.972500           3.000000         4.000000   \n",
       "50%        33.000000   36999.705000           5.000000         5.000000   \n",
       "75%        42.000000   71683.470000           7.000000         7.000000   \n",
       "max        56.000000  179987.280000          11.000000        11.000000   \n",
       "\n",
       "       Interest_Rate    Num_of_Loan   Days_delayed  Num_of_Delayed_Payment  \\\n",
       "count   100000.00000  100000.000000  100000.000000           100000.000000   \n",
       "mean        14.53208       3.532880      21.068780               13.334060   \n",
       "std          8.74133       2.446356      14.860104                6.264674   \n",
       "min          1.00000       0.000000      -5.000000                0.000000   \n",
       "25%          7.00000       2.000000      10.000000                9.000000   \n",
       "50%         13.00000       3.000000      18.000000               14.000000   \n",
       "75%         20.00000       5.000000      28.000000               18.000000   \n",
       "max         34.00000       9.000000      67.000000               28.000000   \n",
       "\n",
       "       Limit_changed      Inquiries  Outstanding_Debt  \\\n",
       "count  100000.000000  100000.000000     100000.000000   \n",
       "mean       10.374345       5.766949       1426.220376   \n",
       "std         6.742179       3.835971       1155.129026   \n",
       "min        -6.490000       0.000000          0.230000   \n",
       "25%         5.340000       3.000000        566.072500   \n",
       "50%         9.400000       5.000000       1166.155000   \n",
       "75%        14.850000       8.000000       1945.962500   \n",
       "max        29.980000      17.000000       4998.070000   \n",
       "\n",
       "       Credit_Utilization_Ratio  Credit_History_Age            EMI  \\\n",
       "count             100000.000000       100000.000000  100000.000000   \n",
       "mean                  32.285173           18.433907     104.367292   \n",
       "std                    5.116875            8.306759     120.696544   \n",
       "min                   20.000000            0.083333       0.000000   \n",
       "25%                   28.052567           12.000000      29.131335   \n",
       "50%                   32.305784           18.250000      66.310456   \n",
       "75%                   36.496663           25.166667     145.639552   \n",
       "max                   50.000000           33.666667    1779.103254   \n",
       "\n",
       "       Amount_invested_monthly  Monthly_Balance  \n",
       "count            100000.000000    100000.000000  \n",
       "mean                617.257610       403.495486  \n",
       "std                1999.677146       214.421736  \n",
       "min                   0.000000         0.007760  \n",
       "25%                  75.356284       270.323051  \n",
       "50%                 136.173912       337.280888  \n",
       "75%                 263.231662       471.928804  \n",
       "max               10000.000000      1602.040519  "
      ]
     },
     "execution_count": 79,
     "metadata": {},
     "output_type": "execute_result"
    }
   ],
   "source": [
    "features.describe()"
   ]
  },
  {
   "cell_type": "code",
   "execution_count": 80,
   "id": "f3dd9265",
   "metadata": {
    "scrolled": true
   },
   "outputs": [
    {
     "data": {
      "text/plain": [
       "ID                           object\n",
       "Age                           int64\n",
       "Job                          object\n",
       "Income                      float64\n",
       "Num_Bank_Accounts             int64\n",
       "Num_Credit_Card               int64\n",
       "Interest_Rate                 int64\n",
       "Num_of_Loan                   int64\n",
       "Type_of_Loan                 object\n",
       "Days_delayed                  int64\n",
       "Num_of_Delayed_Payment      float64\n",
       "Limit_changed               float64\n",
       "Inquiries                   float64\n",
       "Credit_Mix                   object\n",
       "Outstanding_Debt            float64\n",
       "Credit_Utilization_Ratio    float64\n",
       "Credit_History_Age          float64\n",
       "Min_Amt_Paid                 object\n",
       "EMI                         float64\n",
       "Amount_invested_monthly     float64\n",
       "Payment_Behavior             object\n",
       "Monthly_Balance             float64\n",
       "dtype: object"
      ]
     },
     "execution_count": 80,
     "metadata": {},
     "output_type": "execute_result"
    }
   ],
   "source": [
    "features.dtypes # Check to see numeric columns are numeric(float or int) and categorical are object"
   ]
  },
  {
   "cell_type": "markdown",
   "id": "7fc6b37e",
   "metadata": {},
   "source": [
    "#### Fixing and encoding categorical variables"
   ]
  },
  {
   "cell_type": "markdown",
   "id": "ce656f34",
   "metadata": {},
   "source": [
    "Some of the categorical variables contain odd entries. It needs to be determined if they are errors created through encoding,\n",
    "at the time of data collection, are placeholders, represent another category value, or are somehow another form of mistake."
   ]
  },
  {
   "cell_type": "markdown",
   "id": "57b50e01",
   "metadata": {},
   "source": [
    "##### Fix Job variable"
   ]
  },
  {
   "cell_type": "code",
   "execution_count": 81,
   "id": "1c1cbc4f",
   "metadata": {
    "scrolled": true
   },
   "outputs": [
    {
     "data": {
      "text/plain": [
       "array(['Scientist', '_______', 'Teacher', 'Engineer', 'Entrepreneur',\n",
       "       'Developer', 'Lawyer', 'Media_Manager', 'Doctor', 'Journalist',\n",
       "       'Manager', 'Accountant', 'Musician', 'Mechanic', 'Writer',\n",
       "       'Architect'], dtype=object)"
      ]
     },
     "execution_count": 81,
     "metadata": {},
     "output_type": "execute_result"
    }
   ],
   "source": [
    "pd.unique(features.Job)"
   ]
  },
  {
   "cell_type": "code",
   "execution_count": 82,
   "id": "fa83c2f5",
   "metadata": {},
   "outputs": [],
   "source": [
    "for ID in features[features['Job'] == \"_______\"]['ID'] : \n",
    "    common_job = features[features['ID'] == ID]['Job'].mode()[0]\n",
    "    features[features['ID'] == ID] = features[features['ID'] == ID].replace(\"_______\",common_job)"
   ]
  },
  {
   "cell_type": "code",
   "execution_count": 83,
   "id": "7b13319c",
   "metadata": {},
   "outputs": [
    {
     "data": {
      "text/plain": [
       "5"
      ]
     },
     "execution_count": 83,
     "metadata": {},
     "output_type": "execute_result"
    }
   ],
   "source": [
    "len(features[features.Job == \"_______\"])"
   ]
  },
  {
   "cell_type": "code",
   "execution_count": 84,
   "id": "4d8526e3",
   "metadata": {},
   "outputs": [],
   "source": [
    "features['Job'] = features['Job'].replace(\"_______\",features['Job'].mode()[0])"
   ]
  },
  {
   "cell_type": "code",
   "execution_count": 85,
   "id": "f2f15abb",
   "metadata": {},
   "outputs": [
    {
     "data": {
      "text/plain": [
       "0"
      ]
     },
     "execution_count": 85,
     "metadata": {},
     "output_type": "execute_result"
    }
   ],
   "source": [
    "len(features[features.Job == \"_______\"])"
   ]
  },
  {
   "cell_type": "markdown",
   "id": "72049319",
   "metadata": {},
   "source": [
    "##### Fix Payment Behavior variable"
   ]
  },
  {
   "cell_type": "code",
   "execution_count": 86,
   "id": "a374281f",
   "metadata": {},
   "outputs": [
    {
     "data": {
      "text/plain": [
       "array(['High_spent_Small_value_payments',\n",
       "       'Low_spent_Large_value_payments',\n",
       "       'Low_spent_Medium_value_payments',\n",
       "       'Low_spent_Small_value_payments',\n",
       "       'High_spent_Medium_value_payments', '!@9#%8',\n",
       "       'High_spent_Large_value_payments'], dtype=object)"
      ]
     },
     "execution_count": 86,
     "metadata": {},
     "output_type": "execute_result"
    }
   ],
   "source": [
    "pd.unique(features.Payment_Behavior)"
   ]
  },
  {
   "cell_type": "code",
   "execution_count": 87,
   "id": "3371319b",
   "metadata": {},
   "outputs": [],
   "source": [
    "for ID in features[features['Payment_Behavior'] == \"!@9#%8\"]['ID'] : \n",
    "    behave = features[features['ID'] == ID]['Payment_Behavior'].mode()[0]\n",
    "    features[features['ID'] == ID] = features[features['ID'] == ID].replace(\"!@9#%8\",behave)"
   ]
  },
  {
   "cell_type": "code",
   "execution_count": 88,
   "id": "b6d65b69",
   "metadata": {
    "scrolled": true
   },
   "outputs": [
    {
     "data": {
      "text/plain": [
       "1736"
      ]
     },
     "execution_count": 88,
     "metadata": {},
     "output_type": "execute_result"
    }
   ],
   "source": [
    "len(features[features['Payment_Behavior'] == \"!@9#%8\"])"
   ]
  },
  {
   "cell_type": "code",
   "execution_count": 89,
   "id": "a249a5dc",
   "metadata": {},
   "outputs": [],
   "source": [
    "features['Payment_Behavior'] = features['Payment_Behavior'].replace(\"!@9#%8\",features['Payment_Behavior'].mode()[0])"
   ]
  },
  {
   "cell_type": "code",
   "execution_count": 90,
   "id": "4f642fce",
   "metadata": {},
   "outputs": [
    {
     "data": {
      "text/plain": [
       "0"
      ]
     },
     "execution_count": 90,
     "metadata": {},
     "output_type": "execute_result"
    }
   ],
   "source": [
    "len(features[features['Payment_Behavior'] == \"!@9#%8\"])"
   ]
  },
  {
   "cell_type": "markdown",
   "id": "2b6b11c8",
   "metadata": {},
   "source": [
    "##### Fix Credit Mix variable"
   ]
  },
  {
   "cell_type": "code",
   "execution_count": 91,
   "id": "f60b9110",
   "metadata": {},
   "outputs": [
    {
     "data": {
      "text/plain": [
       "array(['_', 'Good', 'Standard', 'Bad'], dtype=object)"
      ]
     },
     "execution_count": 91,
     "metadata": {},
     "output_type": "execute_result"
    }
   ],
   "source": [
    "pd.unique(features.Credit_Mix)"
   ]
  },
  {
   "cell_type": "code",
   "execution_count": 92,
   "id": "2cc73509",
   "metadata": {},
   "outputs": [],
   "source": [
    "for ID in features[features['Credit_Mix'] == \"_\"]['ID'] : \n",
    "    mix = features[features['ID'] == ID]['Credit_Mix'].mode()[0]\n",
    "    features[features['ID'] == ID] = features[features['ID'] == ID].replace(\"_\",mix)"
   ]
  },
  {
   "cell_type": "code",
   "execution_count": 93,
   "id": "f5281ce2",
   "metadata": {},
   "outputs": [
    {
     "data": {
      "text/plain": [
       "671"
      ]
     },
     "execution_count": 93,
     "metadata": {},
     "output_type": "execute_result"
    }
   ],
   "source": [
    "len(features[features['Credit_Mix'] == \"_\"])"
   ]
  },
  {
   "cell_type": "code",
   "execution_count": 94,
   "id": "35659c69",
   "metadata": {},
   "outputs": [],
   "source": [
    "features['Credit_Mix'] = features['Credit_Mix'].replace(\"_\",features['Credit_Mix'].mode()[0])"
   ]
  },
  {
   "cell_type": "code",
   "execution_count": 95,
   "id": "c515d642",
   "metadata": {
    "scrolled": true
   },
   "outputs": [
    {
     "data": {
      "text/plain": [
       "0"
      ]
     },
     "execution_count": 95,
     "metadata": {},
     "output_type": "execute_result"
    }
   ],
   "source": [
    "len(features[features['Credit_Mix'] == \"_\"])"
   ]
  },
  {
   "cell_type": "markdown",
   "id": "f10f5f24",
   "metadata": {},
   "source": [
    "##### Manually create dummy columns for Loan Types"
   ]
  },
  {
   "cell_type": "code",
   "execution_count": 96,
   "id": "cb27232a",
   "metadata": {},
   "outputs": [],
   "source": [
    "# List of loan types\n",
    "loan_type_list = ['Not Specified','Credit-Builder Loan','Debt Consolidation Loan','Personal Loan','Payday Loan',\n",
    "                  'Mortgage Loan','Student Loan','Home Equity Loan','Auto Loan']     "
   ]
  },
  {
   "cell_type": "code",
   "execution_count": 97,
   "id": "7810ba8a",
   "metadata": {},
   "outputs": [],
   "source": [
    "\"\"\"For each loan type create a column. Return a boolean if that loan type's string is contained within\n",
    "the entire loan type string.\"\"\"\n",
    "\n",
    "for loan_type in loan_type_list: \n",
    "    features[loan_type] = features['Type_of_Loan'].str.contains(loan_type)"
   ]
  },
  {
   "cell_type": "code",
   "execution_count": 98,
   "id": "a1bb0454",
   "metadata": {},
   "outputs": [],
   "source": [
    "# Convert Boolean to binary\n",
    "for loan_type in loan_type_list:\n",
    "    features[loan_type] = features[loan_type].astype(int)"
   ]
  },
  {
   "cell_type": "code",
   "execution_count": 99,
   "id": "5aca1b41",
   "metadata": {},
   "outputs": [],
   "source": [
    "# Now that our dummy loan type columns have been created we can remove the original loan type column from the data frame\n",
    "\n",
    "del features['Type_of_Loan']"
   ]
  },
  {
   "cell_type": "markdown",
   "id": "b0b614bc",
   "metadata": {},
   "source": [
    "#### Encode categorical variables to numeric with dummies"
   ]
  },
  {
   "cell_type": "code",
   "execution_count": 100,
   "id": "1370d1fa",
   "metadata": {},
   "outputs": [],
   "source": [
    "features_dumb = pd.get_dummies(features, columns =['Job','Credit_Mix','Min_Amt_Paid','Payment_Behavior'], drop_first=True)"
   ]
  },
  {
   "cell_type": "code",
   "execution_count": 101,
   "id": "95162568",
   "metadata": {
    "scrolled": true
   },
   "outputs": [
    {
     "data": {
      "text/plain": [
       "Index(['ID', 'Age', 'Income', 'Num_Bank_Accounts', 'Num_Credit_Card',\n",
       "       'Interest_Rate', 'Num_of_Loan', 'Days_delayed',\n",
       "       'Num_of_Delayed_Payment', 'Limit_changed', 'Inquiries',\n",
       "       'Outstanding_Debt', 'Credit_Utilization_Ratio', 'Credit_History_Age',\n",
       "       'EMI', 'Amount_invested_monthly', 'Monthly_Balance', 'Not Specified',\n",
       "       'Credit-Builder Loan', 'Debt Consolidation Loan', 'Personal Loan',\n",
       "       'Payday Loan', 'Mortgage Loan', 'Student Loan', 'Home Equity Loan',\n",
       "       'Auto Loan', 'Job_Architect', 'Job_Developer', 'Job_Doctor',\n",
       "       'Job_Engineer', 'Job_Entrepreneur', 'Job_Journalist', 'Job_Lawyer',\n",
       "       'Job_Manager', 'Job_Mechanic', 'Job_Media_Manager', 'Job_Musician',\n",
       "       'Job_Scientist', 'Job_Teacher', 'Job_Writer', 'Credit_Mix_Good',\n",
       "       'Credit_Mix_Standard', 'Min_Amt_Paid_No', 'Min_Amt_Paid_Yes',\n",
       "       'Payment_Behavior_High_spent_Medium_value_payments',\n",
       "       'Payment_Behavior_High_spent_Small_value_payments',\n",
       "       'Payment_Behavior_Low_spent_Large_value_payments',\n",
       "       'Payment_Behavior_Low_spent_Medium_value_payments',\n",
       "       'Payment_Behavior_Low_spent_Small_value_payments'],\n",
       "      dtype='object')"
      ]
     },
     "execution_count": 101,
     "metadata": {},
     "output_type": "execute_result"
    }
   ],
   "source": [
    "features_dumb.columns"
   ]
  },
  {
   "cell_type": "code",
   "execution_count": 102,
   "id": "14e575ac",
   "metadata": {},
   "outputs": [],
   "source": [
    "# ID column was useful when cleaning the dataset but is not required for analysis\n",
    "\n",
    "features_cleaned = features_dumb.drop(columns='ID')"
   ]
  },
  {
   "cell_type": "code",
   "execution_count": 103,
   "id": "cdb389c5",
   "metadata": {},
   "outputs": [
    {
     "data": {
      "text/html": [
       "<div>\n",
       "<style scoped>\n",
       "    .dataframe tbody tr th:only-of-type {\n",
       "        vertical-align: middle;\n",
       "    }\n",
       "\n",
       "    .dataframe tbody tr th {\n",
       "        vertical-align: top;\n",
       "    }\n",
       "\n",
       "    .dataframe thead th {\n",
       "        text-align: right;\n",
       "    }\n",
       "</style>\n",
       "<table border=\"1\" class=\"dataframe\">\n",
       "  <thead>\n",
       "    <tr style=\"text-align: right;\">\n",
       "      <th></th>\n",
       "      <th>Age</th>\n",
       "      <th>Income</th>\n",
       "      <th>Num_Bank_Accounts</th>\n",
       "      <th>Num_Credit_Card</th>\n",
       "      <th>Interest_Rate</th>\n",
       "      <th>Num_of_Loan</th>\n",
       "      <th>Days_delayed</th>\n",
       "      <th>Num_of_Delayed_Payment</th>\n",
       "      <th>Limit_changed</th>\n",
       "      <th>Inquiries</th>\n",
       "      <th>...</th>\n",
       "      <th>Job_Writer</th>\n",
       "      <th>Credit_Mix_Good</th>\n",
       "      <th>Credit_Mix_Standard</th>\n",
       "      <th>Min_Amt_Paid_No</th>\n",
       "      <th>Min_Amt_Paid_Yes</th>\n",
       "      <th>Payment_Behavior_High_spent_Medium_value_payments</th>\n",
       "      <th>Payment_Behavior_High_spent_Small_value_payments</th>\n",
       "      <th>Payment_Behavior_Low_spent_Large_value_payments</th>\n",
       "      <th>Payment_Behavior_Low_spent_Medium_value_payments</th>\n",
       "      <th>Payment_Behavior_Low_spent_Small_value_payments</th>\n",
       "    </tr>\n",
       "  </thead>\n",
       "  <tbody>\n",
       "    <tr>\n",
       "      <th>0</th>\n",
       "      <td>23</td>\n",
       "      <td>19114.12</td>\n",
       "      <td>3</td>\n",
       "      <td>4</td>\n",
       "      <td>3</td>\n",
       "      <td>4</td>\n",
       "      <td>3</td>\n",
       "      <td>7.0</td>\n",
       "      <td>11.27</td>\n",
       "      <td>4.0</td>\n",
       "      <td>...</td>\n",
       "      <td>0</td>\n",
       "      <td>1</td>\n",
       "      <td>0</td>\n",
       "      <td>1</td>\n",
       "      <td>0</td>\n",
       "      <td>0</td>\n",
       "      <td>1</td>\n",
       "      <td>0</td>\n",
       "      <td>0</td>\n",
       "      <td>0</td>\n",
       "    </tr>\n",
       "    <tr>\n",
       "      <th>1</th>\n",
       "      <td>23</td>\n",
       "      <td>19114.12</td>\n",
       "      <td>3</td>\n",
       "      <td>4</td>\n",
       "      <td>3</td>\n",
       "      <td>4</td>\n",
       "      <td>-1</td>\n",
       "      <td>6.5</td>\n",
       "      <td>11.27</td>\n",
       "      <td>4.0</td>\n",
       "      <td>...</td>\n",
       "      <td>0</td>\n",
       "      <td>1</td>\n",
       "      <td>0</td>\n",
       "      <td>1</td>\n",
       "      <td>0</td>\n",
       "      <td>0</td>\n",
       "      <td>0</td>\n",
       "      <td>1</td>\n",
       "      <td>0</td>\n",
       "      <td>0</td>\n",
       "    </tr>\n",
       "    <tr>\n",
       "      <th>2</th>\n",
       "      <td>23</td>\n",
       "      <td>19114.12</td>\n",
       "      <td>3</td>\n",
       "      <td>4</td>\n",
       "      <td>3</td>\n",
       "      <td>4</td>\n",
       "      <td>3</td>\n",
       "      <td>7.0</td>\n",
       "      <td>11.27</td>\n",
       "      <td>4.0</td>\n",
       "      <td>...</td>\n",
       "      <td>0</td>\n",
       "      <td>1</td>\n",
       "      <td>0</td>\n",
       "      <td>1</td>\n",
       "      <td>0</td>\n",
       "      <td>0</td>\n",
       "      <td>0</td>\n",
       "      <td>0</td>\n",
       "      <td>1</td>\n",
       "      <td>0</td>\n",
       "    </tr>\n",
       "    <tr>\n",
       "      <th>3</th>\n",
       "      <td>23</td>\n",
       "      <td>19114.12</td>\n",
       "      <td>3</td>\n",
       "      <td>4</td>\n",
       "      <td>3</td>\n",
       "      <td>4</td>\n",
       "      <td>5</td>\n",
       "      <td>4.0</td>\n",
       "      <td>6.27</td>\n",
       "      <td>4.0</td>\n",
       "      <td>...</td>\n",
       "      <td>0</td>\n",
       "      <td>1</td>\n",
       "      <td>0</td>\n",
       "      <td>1</td>\n",
       "      <td>0</td>\n",
       "      <td>0</td>\n",
       "      <td>0</td>\n",
       "      <td>0</td>\n",
       "      <td>0</td>\n",
       "      <td>1</td>\n",
       "    </tr>\n",
       "    <tr>\n",
       "      <th>4</th>\n",
       "      <td>23</td>\n",
       "      <td>19114.12</td>\n",
       "      <td>3</td>\n",
       "      <td>4</td>\n",
       "      <td>3</td>\n",
       "      <td>4</td>\n",
       "      <td>6</td>\n",
       "      <td>6.5</td>\n",
       "      <td>11.27</td>\n",
       "      <td>4.0</td>\n",
       "      <td>...</td>\n",
       "      <td>0</td>\n",
       "      <td>1</td>\n",
       "      <td>0</td>\n",
       "      <td>1</td>\n",
       "      <td>0</td>\n",
       "      <td>1</td>\n",
       "      <td>0</td>\n",
       "      <td>0</td>\n",
       "      <td>0</td>\n",
       "      <td>0</td>\n",
       "    </tr>\n",
       "    <tr>\n",
       "      <th>...</th>\n",
       "      <td>...</td>\n",
       "      <td>...</td>\n",
       "      <td>...</td>\n",
       "      <td>...</td>\n",
       "      <td>...</td>\n",
       "      <td>...</td>\n",
       "      <td>...</td>\n",
       "      <td>...</td>\n",
       "      <td>...</td>\n",
       "      <td>...</td>\n",
       "      <td>...</td>\n",
       "      <td>...</td>\n",
       "      <td>...</td>\n",
       "      <td>...</td>\n",
       "      <td>...</td>\n",
       "      <td>...</td>\n",
       "      <td>...</td>\n",
       "      <td>...</td>\n",
       "      <td>...</td>\n",
       "      <td>...</td>\n",
       "      <td>...</td>\n",
       "    </tr>\n",
       "    <tr>\n",
       "      <th>99995</th>\n",
       "      <td>25</td>\n",
       "      <td>39628.99</td>\n",
       "      <td>4</td>\n",
       "      <td>6</td>\n",
       "      <td>7</td>\n",
       "      <td>2</td>\n",
       "      <td>23</td>\n",
       "      <td>7.0</td>\n",
       "      <td>11.50</td>\n",
       "      <td>3.0</td>\n",
       "      <td>...</td>\n",
       "      <td>0</td>\n",
       "      <td>1</td>\n",
       "      <td>0</td>\n",
       "      <td>1</td>\n",
       "      <td>0</td>\n",
       "      <td>0</td>\n",
       "      <td>0</td>\n",
       "      <td>0</td>\n",
       "      <td>0</td>\n",
       "      <td>0</td>\n",
       "    </tr>\n",
       "    <tr>\n",
       "      <th>99996</th>\n",
       "      <td>25</td>\n",
       "      <td>39628.99</td>\n",
       "      <td>4</td>\n",
       "      <td>6</td>\n",
       "      <td>7</td>\n",
       "      <td>2</td>\n",
       "      <td>18</td>\n",
       "      <td>7.0</td>\n",
       "      <td>11.50</td>\n",
       "      <td>3.0</td>\n",
       "      <td>...</td>\n",
       "      <td>0</td>\n",
       "      <td>1</td>\n",
       "      <td>0</td>\n",
       "      <td>1</td>\n",
       "      <td>0</td>\n",
       "      <td>1</td>\n",
       "      <td>0</td>\n",
       "      <td>0</td>\n",
       "      <td>0</td>\n",
       "      <td>0</td>\n",
       "    </tr>\n",
       "    <tr>\n",
       "      <th>99997</th>\n",
       "      <td>25</td>\n",
       "      <td>39628.99</td>\n",
       "      <td>4</td>\n",
       "      <td>6</td>\n",
       "      <td>7</td>\n",
       "      <td>2</td>\n",
       "      <td>27</td>\n",
       "      <td>6.0</td>\n",
       "      <td>11.50</td>\n",
       "      <td>3.0</td>\n",
       "      <td>...</td>\n",
       "      <td>0</td>\n",
       "      <td>1</td>\n",
       "      <td>0</td>\n",
       "      <td>1</td>\n",
       "      <td>0</td>\n",
       "      <td>0</td>\n",
       "      <td>0</td>\n",
       "      <td>0</td>\n",
       "      <td>0</td>\n",
       "      <td>0</td>\n",
       "    </tr>\n",
       "    <tr>\n",
       "      <th>99998</th>\n",
       "      <td>25</td>\n",
       "      <td>39628.99</td>\n",
       "      <td>4</td>\n",
       "      <td>6</td>\n",
       "      <td>7</td>\n",
       "      <td>2</td>\n",
       "      <td>20</td>\n",
       "      <td>6.0</td>\n",
       "      <td>11.50</td>\n",
       "      <td>3.0</td>\n",
       "      <td>...</td>\n",
       "      <td>0</td>\n",
       "      <td>1</td>\n",
       "      <td>0</td>\n",
       "      <td>1</td>\n",
       "      <td>0</td>\n",
       "      <td>0</td>\n",
       "      <td>0</td>\n",
       "      <td>1</td>\n",
       "      <td>0</td>\n",
       "      <td>0</td>\n",
       "    </tr>\n",
       "    <tr>\n",
       "      <th>99999</th>\n",
       "      <td>25</td>\n",
       "      <td>39628.99</td>\n",
       "      <td>4</td>\n",
       "      <td>6</td>\n",
       "      <td>7</td>\n",
       "      <td>2</td>\n",
       "      <td>18</td>\n",
       "      <td>6.0</td>\n",
       "      <td>11.50</td>\n",
       "      <td>3.0</td>\n",
       "      <td>...</td>\n",
       "      <td>0</td>\n",
       "      <td>1</td>\n",
       "      <td>0</td>\n",
       "      <td>1</td>\n",
       "      <td>0</td>\n",
       "      <td>0</td>\n",
       "      <td>0</td>\n",
       "      <td>0</td>\n",
       "      <td>0</td>\n",
       "      <td>0</td>\n",
       "    </tr>\n",
       "  </tbody>\n",
       "</table>\n",
       "<p>100000 rows × 48 columns</p>\n",
       "</div>"
      ],
      "text/plain": [
       "       Age    Income  Num_Bank_Accounts  Num_Credit_Card  Interest_Rate  \\\n",
       "0       23  19114.12                  3                4              3   \n",
       "1       23  19114.12                  3                4              3   \n",
       "2       23  19114.12                  3                4              3   \n",
       "3       23  19114.12                  3                4              3   \n",
       "4       23  19114.12                  3                4              3   \n",
       "...    ...       ...                ...              ...            ...   \n",
       "99995   25  39628.99                  4                6              7   \n",
       "99996   25  39628.99                  4                6              7   \n",
       "99997   25  39628.99                  4                6              7   \n",
       "99998   25  39628.99                  4                6              7   \n",
       "99999   25  39628.99                  4                6              7   \n",
       "\n",
       "       Num_of_Loan  Days_delayed  Num_of_Delayed_Payment  Limit_changed  \\\n",
       "0                4             3                     7.0          11.27   \n",
       "1                4            -1                     6.5          11.27   \n",
       "2                4             3                     7.0          11.27   \n",
       "3                4             5                     4.0           6.27   \n",
       "4                4             6                     6.5          11.27   \n",
       "...            ...           ...                     ...            ...   \n",
       "99995            2            23                     7.0          11.50   \n",
       "99996            2            18                     7.0          11.50   \n",
       "99997            2            27                     6.0          11.50   \n",
       "99998            2            20                     6.0          11.50   \n",
       "99999            2            18                     6.0          11.50   \n",
       "\n",
       "       Inquiries  ...  Job_Writer  Credit_Mix_Good  Credit_Mix_Standard  \\\n",
       "0            4.0  ...           0                1                    0   \n",
       "1            4.0  ...           0                1                    0   \n",
       "2            4.0  ...           0                1                    0   \n",
       "3            4.0  ...           0                1                    0   \n",
       "4            4.0  ...           0                1                    0   \n",
       "...          ...  ...         ...              ...                  ...   \n",
       "99995        3.0  ...           0                1                    0   \n",
       "99996        3.0  ...           0                1                    0   \n",
       "99997        3.0  ...           0                1                    0   \n",
       "99998        3.0  ...           0                1                    0   \n",
       "99999        3.0  ...           0                1                    0   \n",
       "\n",
       "       Min_Amt_Paid_No  Min_Amt_Paid_Yes  \\\n",
       "0                    1                 0   \n",
       "1                    1                 0   \n",
       "2                    1                 0   \n",
       "3                    1                 0   \n",
       "4                    1                 0   \n",
       "...                ...               ...   \n",
       "99995                1                 0   \n",
       "99996                1                 0   \n",
       "99997                1                 0   \n",
       "99998                1                 0   \n",
       "99999                1                 0   \n",
       "\n",
       "       Payment_Behavior_High_spent_Medium_value_payments  \\\n",
       "0                                                      0   \n",
       "1                                                      0   \n",
       "2                                                      0   \n",
       "3                                                      0   \n",
       "4                                                      1   \n",
       "...                                                  ...   \n",
       "99995                                                  0   \n",
       "99996                                                  1   \n",
       "99997                                                  0   \n",
       "99998                                                  0   \n",
       "99999                                                  0   \n",
       "\n",
       "       Payment_Behavior_High_spent_Small_value_payments  \\\n",
       "0                                                     1   \n",
       "1                                                     0   \n",
       "2                                                     0   \n",
       "3                                                     0   \n",
       "4                                                     0   \n",
       "...                                                 ...   \n",
       "99995                                                 0   \n",
       "99996                                                 0   \n",
       "99997                                                 0   \n",
       "99998                                                 0   \n",
       "99999                                                 0   \n",
       "\n",
       "       Payment_Behavior_Low_spent_Large_value_payments  \\\n",
       "0                                                    0   \n",
       "1                                                    1   \n",
       "2                                                    0   \n",
       "3                                                    0   \n",
       "4                                                    0   \n",
       "...                                                ...   \n",
       "99995                                                0   \n",
       "99996                                                0   \n",
       "99997                                                0   \n",
       "99998                                                1   \n",
       "99999                                                0   \n",
       "\n",
       "       Payment_Behavior_Low_spent_Medium_value_payments  \\\n",
       "0                                                     0   \n",
       "1                                                     0   \n",
       "2                                                     1   \n",
       "3                                                     0   \n",
       "4                                                     0   \n",
       "...                                                 ...   \n",
       "99995                                                 0   \n",
       "99996                                                 0   \n",
       "99997                                                 0   \n",
       "99998                                                 0   \n",
       "99999                                                 0   \n",
       "\n",
       "       Payment_Behavior_Low_spent_Small_value_payments  \n",
       "0                                                    0  \n",
       "1                                                    0  \n",
       "2                                                    0  \n",
       "3                                                    1  \n",
       "4                                                    0  \n",
       "...                                                ...  \n",
       "99995                                                0  \n",
       "99996                                                0  \n",
       "99997                                                0  \n",
       "99998                                                0  \n",
       "99999                                                0  \n",
       "\n",
       "[100000 rows x 48 columns]"
      ]
     },
     "execution_count": 103,
     "metadata": {},
     "output_type": "execute_result"
    }
   ],
   "source": [
    "features_cleaned"
   ]
  },
  {
   "cell_type": "code",
   "execution_count": 104,
   "id": "61d6f66d",
   "metadata": {},
   "outputs": [
    {
     "data": {
      "text/plain": [
       "Age                                                  0\n",
       "Income                                               0\n",
       "Num_Bank_Accounts                                    0\n",
       "Num_Credit_Card                                      0\n",
       "Interest_Rate                                        0\n",
       "Num_of_Loan                                          0\n",
       "Days_delayed                                         0\n",
       "Num_of_Delayed_Payment                               0\n",
       "Limit_changed                                        0\n",
       "Inquiries                                            0\n",
       "Outstanding_Debt                                     0\n",
       "Credit_Utilization_Ratio                             0\n",
       "Credit_History_Age                                   0\n",
       "EMI                                                  0\n",
       "Amount_invested_monthly                              0\n",
       "Monthly_Balance                                      0\n",
       "Not Specified                                        0\n",
       "Credit-Builder Loan                                  0\n",
       "Debt Consolidation Loan                              0\n",
       "Personal Loan                                        0\n",
       "Payday Loan                                          0\n",
       "Mortgage Loan                                        0\n",
       "Student Loan                                         0\n",
       "Home Equity Loan                                     0\n",
       "Auto Loan                                            0\n",
       "Job_Architect                                        0\n",
       "Job_Developer                                        0\n",
       "Job_Doctor                                           0\n",
       "Job_Engineer                                         0\n",
       "Job_Entrepreneur                                     0\n",
       "Job_Journalist                                       0\n",
       "Job_Lawyer                                           0\n",
       "Job_Manager                                          0\n",
       "Job_Mechanic                                         0\n",
       "Job_Media_Manager                                    0\n",
       "Job_Musician                                         0\n",
       "Job_Scientist                                        0\n",
       "Job_Teacher                                          0\n",
       "Job_Writer                                           0\n",
       "Credit_Mix_Good                                      0\n",
       "Credit_Mix_Standard                                  0\n",
       "Min_Amt_Paid_No                                      0\n",
       "Min_Amt_Paid_Yes                                     0\n",
       "Payment_Behavior_High_spent_Medium_value_payments    0\n",
       "Payment_Behavior_High_spent_Small_value_payments     0\n",
       "Payment_Behavior_Low_spent_Large_value_payments      0\n",
       "Payment_Behavior_Low_spent_Medium_value_payments     0\n",
       "Payment_Behavior_Low_spent_Small_value_payments      0\n",
       "dtype: int64"
      ]
     },
     "execution_count": 104,
     "metadata": {},
     "output_type": "execute_result"
    }
   ],
   "source": [
    "features_cleaned.isna().sum()"
   ]
  },
  {
   "cell_type": "code",
   "execution_count": 105,
   "id": "571edd04",
   "metadata": {
    "scrolled": true
   },
   "outputs": [
    {
     "data": {
      "text/html": [
       "<div>\n",
       "<style scoped>\n",
       "    .dataframe tbody tr th:only-of-type {\n",
       "        vertical-align: middle;\n",
       "    }\n",
       "\n",
       "    .dataframe tbody tr th {\n",
       "        vertical-align: top;\n",
       "    }\n",
       "\n",
       "    .dataframe thead th {\n",
       "        text-align: right;\n",
       "    }\n",
       "</style>\n",
       "<table border=\"1\" class=\"dataframe\">\n",
       "  <thead>\n",
       "    <tr style=\"text-align: right;\">\n",
       "      <th></th>\n",
       "      <th>Age</th>\n",
       "      <th>Income</th>\n",
       "      <th>Num_Bank_Accounts</th>\n",
       "      <th>Num_Credit_Card</th>\n",
       "      <th>Interest_Rate</th>\n",
       "      <th>Num_of_Loan</th>\n",
       "      <th>Days_delayed</th>\n",
       "      <th>Num_of_Delayed_Payment</th>\n",
       "      <th>Limit_changed</th>\n",
       "      <th>Inquiries</th>\n",
       "      <th>...</th>\n",
       "      <th>Job_Writer</th>\n",
       "      <th>Credit_Mix_Good</th>\n",
       "      <th>Credit_Mix_Standard</th>\n",
       "      <th>Min_Amt_Paid_No</th>\n",
       "      <th>Min_Amt_Paid_Yes</th>\n",
       "      <th>Payment_Behavior_High_spent_Medium_value_payments</th>\n",
       "      <th>Payment_Behavior_High_spent_Small_value_payments</th>\n",
       "      <th>Payment_Behavior_Low_spent_Large_value_payments</th>\n",
       "      <th>Payment_Behavior_Low_spent_Medium_value_payments</th>\n",
       "      <th>Payment_Behavior_Low_spent_Small_value_payments</th>\n",
       "    </tr>\n",
       "  </thead>\n",
       "  <tbody>\n",
       "    <tr>\n",
       "      <th>count</th>\n",
       "      <td>100000.000000</td>\n",
       "      <td>100000.000000</td>\n",
       "      <td>100000.000000</td>\n",
       "      <td>100000.000000</td>\n",
       "      <td>100000.00000</td>\n",
       "      <td>100000.000000</td>\n",
       "      <td>100000.000000</td>\n",
       "      <td>100000.000000</td>\n",
       "      <td>100000.000000</td>\n",
       "      <td>100000.000000</td>\n",
       "      <td>...</td>\n",
       "      <td>100000.000000</td>\n",
       "      <td>100000.000000</td>\n",
       "      <td>100000.000000</td>\n",
       "      <td>100000.000000</td>\n",
       "      <td>100000.000000</td>\n",
       "      <td>100000.000000</td>\n",
       "      <td>100000.000000</td>\n",
       "      <td>100000.000000</td>\n",
       "      <td>100000.000000</td>\n",
       "      <td>100000.000000</td>\n",
       "    </tr>\n",
       "    <tr>\n",
       "      <th>mean</th>\n",
       "      <td>33.310680</td>\n",
       "      <td>50505.123449</td>\n",
       "      <td>5.368870</td>\n",
       "      <td>5.533680</td>\n",
       "      <td>14.53208</td>\n",
       "      <td>3.532880</td>\n",
       "      <td>21.068780</td>\n",
       "      <td>13.334060</td>\n",
       "      <td>10.374345</td>\n",
       "      <td>5.766949</td>\n",
       "      <td>...</td>\n",
       "      <td>0.063040</td>\n",
       "      <td>0.302250</td>\n",
       "      <td>0.461700</td>\n",
       "      <td>0.356670</td>\n",
       "      <td>0.523260</td>\n",
       "      <td>0.189110</td>\n",
       "      <td>0.117710</td>\n",
       "      <td>0.107680</td>\n",
       "      <td>0.144140</td>\n",
       "      <td>0.292250</td>\n",
       "    </tr>\n",
       "    <tr>\n",
       "      <th>std</th>\n",
       "      <td>10.764736</td>\n",
       "      <td>38299.422093</td>\n",
       "      <td>2.593286</td>\n",
       "      <td>2.067126</td>\n",
       "      <td>8.74133</td>\n",
       "      <td>2.446356</td>\n",
       "      <td>14.860104</td>\n",
       "      <td>6.264674</td>\n",
       "      <td>6.742179</td>\n",
       "      <td>3.835971</td>\n",
       "      <td>...</td>\n",
       "      <td>0.243036</td>\n",
       "      <td>0.459235</td>\n",
       "      <td>0.498533</td>\n",
       "      <td>0.479019</td>\n",
       "      <td>0.499461</td>\n",
       "      <td>0.391598</td>\n",
       "      <td>0.322266</td>\n",
       "      <td>0.309977</td>\n",
       "      <td>0.351233</td>\n",
       "      <td>0.454799</td>\n",
       "    </tr>\n",
       "    <tr>\n",
       "      <th>min</th>\n",
       "      <td>14.000000</td>\n",
       "      <td>7005.930000</td>\n",
       "      <td>0.000000</td>\n",
       "      <td>0.000000</td>\n",
       "      <td>1.00000</td>\n",
       "      <td>0.000000</td>\n",
       "      <td>-5.000000</td>\n",
       "      <td>0.000000</td>\n",
       "      <td>-6.490000</td>\n",
       "      <td>0.000000</td>\n",
       "      <td>...</td>\n",
       "      <td>0.000000</td>\n",
       "      <td>0.000000</td>\n",
       "      <td>0.000000</td>\n",
       "      <td>0.000000</td>\n",
       "      <td>0.000000</td>\n",
       "      <td>0.000000</td>\n",
       "      <td>0.000000</td>\n",
       "      <td>0.000000</td>\n",
       "      <td>0.000000</td>\n",
       "      <td>0.000000</td>\n",
       "    </tr>\n",
       "    <tr>\n",
       "      <th>25%</th>\n",
       "      <td>24.000000</td>\n",
       "      <td>19342.972500</td>\n",
       "      <td>3.000000</td>\n",
       "      <td>4.000000</td>\n",
       "      <td>7.00000</td>\n",
       "      <td>2.000000</td>\n",
       "      <td>10.000000</td>\n",
       "      <td>9.000000</td>\n",
       "      <td>5.340000</td>\n",
       "      <td>3.000000</td>\n",
       "      <td>...</td>\n",
       "      <td>0.000000</td>\n",
       "      <td>0.000000</td>\n",
       "      <td>0.000000</td>\n",
       "      <td>0.000000</td>\n",
       "      <td>0.000000</td>\n",
       "      <td>0.000000</td>\n",
       "      <td>0.000000</td>\n",
       "      <td>0.000000</td>\n",
       "      <td>0.000000</td>\n",
       "      <td>0.000000</td>\n",
       "    </tr>\n",
       "    <tr>\n",
       "      <th>50%</th>\n",
       "      <td>33.000000</td>\n",
       "      <td>36999.705000</td>\n",
       "      <td>5.000000</td>\n",
       "      <td>5.000000</td>\n",
       "      <td>13.00000</td>\n",
       "      <td>3.000000</td>\n",
       "      <td>18.000000</td>\n",
       "      <td>14.000000</td>\n",
       "      <td>9.400000</td>\n",
       "      <td>5.000000</td>\n",
       "      <td>...</td>\n",
       "      <td>0.000000</td>\n",
       "      <td>0.000000</td>\n",
       "      <td>0.000000</td>\n",
       "      <td>0.000000</td>\n",
       "      <td>1.000000</td>\n",
       "      <td>0.000000</td>\n",
       "      <td>0.000000</td>\n",
       "      <td>0.000000</td>\n",
       "      <td>0.000000</td>\n",
       "      <td>0.000000</td>\n",
       "    </tr>\n",
       "    <tr>\n",
       "      <th>75%</th>\n",
       "      <td>42.000000</td>\n",
       "      <td>71683.470000</td>\n",
       "      <td>7.000000</td>\n",
       "      <td>7.000000</td>\n",
       "      <td>20.00000</td>\n",
       "      <td>5.000000</td>\n",
       "      <td>28.000000</td>\n",
       "      <td>18.000000</td>\n",
       "      <td>14.850000</td>\n",
       "      <td>8.000000</td>\n",
       "      <td>...</td>\n",
       "      <td>0.000000</td>\n",
       "      <td>1.000000</td>\n",
       "      <td>1.000000</td>\n",
       "      <td>1.000000</td>\n",
       "      <td>1.000000</td>\n",
       "      <td>0.000000</td>\n",
       "      <td>0.000000</td>\n",
       "      <td>0.000000</td>\n",
       "      <td>0.000000</td>\n",
       "      <td>1.000000</td>\n",
       "    </tr>\n",
       "    <tr>\n",
       "      <th>max</th>\n",
       "      <td>56.000000</td>\n",
       "      <td>179987.280000</td>\n",
       "      <td>11.000000</td>\n",
       "      <td>11.000000</td>\n",
       "      <td>34.00000</td>\n",
       "      <td>9.000000</td>\n",
       "      <td>67.000000</td>\n",
       "      <td>28.000000</td>\n",
       "      <td>29.980000</td>\n",
       "      <td>17.000000</td>\n",
       "      <td>...</td>\n",
       "      <td>1.000000</td>\n",
       "      <td>1.000000</td>\n",
       "      <td>1.000000</td>\n",
       "      <td>1.000000</td>\n",
       "      <td>1.000000</td>\n",
       "      <td>1.000000</td>\n",
       "      <td>1.000000</td>\n",
       "      <td>1.000000</td>\n",
       "      <td>1.000000</td>\n",
       "      <td>1.000000</td>\n",
       "    </tr>\n",
       "  </tbody>\n",
       "</table>\n",
       "<p>8 rows × 48 columns</p>\n",
       "</div>"
      ],
      "text/plain": [
       "                 Age         Income  Num_Bank_Accounts  Num_Credit_Card  \\\n",
       "count  100000.000000  100000.000000      100000.000000    100000.000000   \n",
       "mean       33.310680   50505.123449           5.368870         5.533680   \n",
       "std        10.764736   38299.422093           2.593286         2.067126   \n",
       "min        14.000000    7005.930000           0.000000         0.000000   \n",
       "25%        24.000000   19342.972500           3.000000         4.000000   \n",
       "50%        33.000000   36999.705000           5.000000         5.000000   \n",
       "75%        42.000000   71683.470000           7.000000         7.000000   \n",
       "max        56.000000  179987.280000          11.000000        11.000000   \n",
       "\n",
       "       Interest_Rate    Num_of_Loan   Days_delayed  Num_of_Delayed_Payment  \\\n",
       "count   100000.00000  100000.000000  100000.000000           100000.000000   \n",
       "mean        14.53208       3.532880      21.068780               13.334060   \n",
       "std          8.74133       2.446356      14.860104                6.264674   \n",
       "min          1.00000       0.000000      -5.000000                0.000000   \n",
       "25%          7.00000       2.000000      10.000000                9.000000   \n",
       "50%         13.00000       3.000000      18.000000               14.000000   \n",
       "75%         20.00000       5.000000      28.000000               18.000000   \n",
       "max         34.00000       9.000000      67.000000               28.000000   \n",
       "\n",
       "       Limit_changed      Inquiries  ...     Job_Writer  Credit_Mix_Good  \\\n",
       "count  100000.000000  100000.000000  ...  100000.000000    100000.000000   \n",
       "mean       10.374345       5.766949  ...       0.063040         0.302250   \n",
       "std         6.742179       3.835971  ...       0.243036         0.459235   \n",
       "min        -6.490000       0.000000  ...       0.000000         0.000000   \n",
       "25%         5.340000       3.000000  ...       0.000000         0.000000   \n",
       "50%         9.400000       5.000000  ...       0.000000         0.000000   \n",
       "75%        14.850000       8.000000  ...       0.000000         1.000000   \n",
       "max        29.980000      17.000000  ...       1.000000         1.000000   \n",
       "\n",
       "       Credit_Mix_Standard  Min_Amt_Paid_No  Min_Amt_Paid_Yes  \\\n",
       "count        100000.000000    100000.000000     100000.000000   \n",
       "mean              0.461700         0.356670          0.523260   \n",
       "std               0.498533         0.479019          0.499461   \n",
       "min               0.000000         0.000000          0.000000   \n",
       "25%               0.000000         0.000000          0.000000   \n",
       "50%               0.000000         0.000000          1.000000   \n",
       "75%               1.000000         1.000000          1.000000   \n",
       "max               1.000000         1.000000          1.000000   \n",
       "\n",
       "       Payment_Behavior_High_spent_Medium_value_payments  \\\n",
       "count                                      100000.000000   \n",
       "mean                                            0.189110   \n",
       "std                                             0.391598   \n",
       "min                                             0.000000   \n",
       "25%                                             0.000000   \n",
       "50%                                             0.000000   \n",
       "75%                                             0.000000   \n",
       "max                                             1.000000   \n",
       "\n",
       "       Payment_Behavior_High_spent_Small_value_payments  \\\n",
       "count                                     100000.000000   \n",
       "mean                                           0.117710   \n",
       "std                                            0.322266   \n",
       "min                                            0.000000   \n",
       "25%                                            0.000000   \n",
       "50%                                            0.000000   \n",
       "75%                                            0.000000   \n",
       "max                                            1.000000   \n",
       "\n",
       "       Payment_Behavior_Low_spent_Large_value_payments  \\\n",
       "count                                    100000.000000   \n",
       "mean                                          0.107680   \n",
       "std                                           0.309977   \n",
       "min                                           0.000000   \n",
       "25%                                           0.000000   \n",
       "50%                                           0.000000   \n",
       "75%                                           0.000000   \n",
       "max                                           1.000000   \n",
       "\n",
       "       Payment_Behavior_Low_spent_Medium_value_payments  \\\n",
       "count                                     100000.000000   \n",
       "mean                                           0.144140   \n",
       "std                                            0.351233   \n",
       "min                                            0.000000   \n",
       "25%                                            0.000000   \n",
       "50%                                            0.000000   \n",
       "75%                                            0.000000   \n",
       "max                                            1.000000   \n",
       "\n",
       "       Payment_Behavior_Low_spent_Small_value_payments  \n",
       "count                                    100000.000000  \n",
       "mean                                          0.292250  \n",
       "std                                           0.454799  \n",
       "min                                           0.000000  \n",
       "25%                                           0.000000  \n",
       "50%                                           0.000000  \n",
       "75%                                           1.000000  \n",
       "max                                           1.000000  \n",
       "\n",
       "[8 rows x 48 columns]"
      ]
     },
     "execution_count": 105,
     "metadata": {},
     "output_type": "execute_result"
    }
   ],
   "source": [
    "features_cleaned.describe()"
   ]
  },
  {
   "cell_type": "code",
   "execution_count": 106,
   "id": "234e7622",
   "metadata": {},
   "outputs": [],
   "source": [
    "features_cleaned.to_csv('cleaned_training_df.csv')"
   ]
  },
  {
   "cell_type": "code",
   "execution_count": 107,
   "id": "509b589d",
   "metadata": {},
   "outputs": [],
   "source": [
    "target.to_csv('target_df.csv')"
   ]
  },
  {
   "cell_type": "code",
   "execution_count": null,
   "id": "0dc47ff4",
   "metadata": {},
   "outputs": [],
   "source": [
    " "
   ]
  }
 ],
 "metadata": {
  "kernelspec": {
   "display_name": "Python 3 (ipykernel)",
   "language": "python",
   "name": "python3"
  },
  "language_info": {
   "codemirror_mode": {
    "name": "ipython",
    "version": 3
   },
   "file_extension": ".py",
   "mimetype": "text/x-python",
   "name": "python",
   "nbconvert_exporter": "python",
   "pygments_lexer": "ipython3",
   "version": "3.7.16"
  }
 },
 "nbformat": 4,
 "nbformat_minor": 5
}
