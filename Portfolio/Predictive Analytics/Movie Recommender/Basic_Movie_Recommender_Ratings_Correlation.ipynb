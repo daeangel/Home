{
 "cells": [
  {
   "cell_type": "markdown",
   "id": "4dc2a9c5",
   "metadata": {},
   "source": [
    "## 10.2 Exercise: Recommender System\n",
    "## \n",
    "## Daniel Angel\n",
    "## Bellevue University\n",
    "## DSC 630 - Predictive Analytics\n",
    "## Professor Andrew Hua\n",
    "## February 18, 2024\n",
    "\n"
   ]
  },
  {
   "cell_type": "markdown",
   "id": "9eec337d",
   "metadata": {},
   "source": [
    "\n",
    "Using the small MovieLens data set, create a recommender system that allows users to input a movie they like (in the data set) and recommends ten other movies for them to watch. In your write-up, clearly explain the recommender system process and all steps performed. If you are using a method found online, be sure to reference the source.\n",
    "You can use R or Python to complete this assignment. Submit your code and output to the submission link. Make sure to add comments to all of your code and to document your steps, process, and analysis."
   ]
  },
  {
   "cell_type": "markdown",
   "id": "f43ae8e3",
   "metadata": {},
   "source": [
    "https://analyticsindiamag.com/how-to-build-your-first-recommender-system-using-python-movielens-dataset/\n",
    "Last updated October 10, 2020\n",
    "In AI Mysteries\n",
    "How To Build Your First Recommender System Using Python & MovieLens Dataset\n",
    "by Amal Nair"
   ]
  },
  {
   "cell_type": "markdown",
   "id": "8105d235",
   "metadata": {},
   "source": [
    "Special thanks to author Amal Nair for their tutorial which I followed closely and without who's guidance I could not have made my first recommender."
   ]
  },
  {
   "cell_type": "markdown",
   "id": "0e2a6a3f",
   "metadata": {},
   "source": [
    "https://stackabuse.com/creating-a-simple-recommender-system-in-python-using-pandas/\n",
    "\n",
    "Also, special acknowledgements to author Usman Malik who's tutorial I also loosely followed in creating this recommender."
   ]
  },
  {
   "cell_type": "markdown",
   "id": "f6562888",
   "metadata": {},
   "source": [
    "https://stackoverflow.com/questions/54961616/how-to-solve-c-covx-y-rowvar-runtimewarning-degrees-of-freedom-0-for-s\n",
    "\n",
    "Also, special thanks to user Heikki Särkkä who posted a fix to a divide by zero warning I was getting with my correlations."
   ]
  },
  {
   "cell_type": "markdown",
   "id": "05a3cebe",
   "metadata": {},
   "source": [
    "### Load necessary libraries. Read in small MovieLens datatset ratings.csv. Drop 'timestamp' column. Show first few rows."
   ]
  },
  {
   "cell_type": "code",
   "execution_count": 1,
   "id": "34a52d38",
   "metadata": {
    "scrolled": true
   },
   "outputs": [
    {
     "data": {
      "text/html": [
       "<div>\n",
       "<style scoped>\n",
       "    .dataframe tbody tr th:only-of-type {\n",
       "        vertical-align: middle;\n",
       "    }\n",
       "\n",
       "    .dataframe tbody tr th {\n",
       "        vertical-align: top;\n",
       "    }\n",
       "\n",
       "    .dataframe thead th {\n",
       "        text-align: right;\n",
       "    }\n",
       "</style>\n",
       "<table border=\"1\" class=\"dataframe\">\n",
       "  <thead>\n",
       "    <tr style=\"text-align: right;\">\n",
       "      <th></th>\n",
       "      <th>userId</th>\n",
       "      <th>movieId</th>\n",
       "      <th>rating</th>\n",
       "    </tr>\n",
       "  </thead>\n",
       "  <tbody>\n",
       "    <tr>\n",
       "      <th>0</th>\n",
       "      <td>1</td>\n",
       "      <td>1</td>\n",
       "      <td>4.0</td>\n",
       "    </tr>\n",
       "    <tr>\n",
       "      <th>1</th>\n",
       "      <td>1</td>\n",
       "      <td>3</td>\n",
       "      <td>4.0</td>\n",
       "    </tr>\n",
       "    <tr>\n",
       "      <th>2</th>\n",
       "      <td>1</td>\n",
       "      <td>6</td>\n",
       "      <td>4.0</td>\n",
       "    </tr>\n",
       "  </tbody>\n",
       "</table>\n",
       "</div>"
      ],
      "text/plain": [
       "   userId  movieId  rating\n",
       "0       1        1     4.0\n",
       "1       1        3     4.0\n",
       "2       1        6     4.0"
      ]
     },
     "execution_count": 1,
     "metadata": {},
     "output_type": "execute_result"
    }
   ],
   "source": [
    "import numpy as np\n",
    "import pandas as pd\n",
    "\n",
    "ratings_df = pd.read_csv('ratings.csv')\n",
    "ratings_df.drop(columns = ['timestamp'], inplace=True)\n",
    "ratings_df.head(3)"
   ]
  },
  {
   "cell_type": "markdown",
   "id": "486faeae",
   "metadata": {},
   "source": [
    "### Read in small MovieLens datatset movies.csv. Show first few rows."
   ]
  },
  {
   "cell_type": "code",
   "execution_count": 2,
   "id": "e0ae5496",
   "metadata": {
    "scrolled": true
   },
   "outputs": [
    {
     "data": {
      "text/html": [
       "<div>\n",
       "<style scoped>\n",
       "    .dataframe tbody tr th:only-of-type {\n",
       "        vertical-align: middle;\n",
       "    }\n",
       "\n",
       "    .dataframe tbody tr th {\n",
       "        vertical-align: top;\n",
       "    }\n",
       "\n",
       "    .dataframe thead th {\n",
       "        text-align: right;\n",
       "    }\n",
       "</style>\n",
       "<table border=\"1\" class=\"dataframe\">\n",
       "  <thead>\n",
       "    <tr style=\"text-align: right;\">\n",
       "      <th></th>\n",
       "      <th>movieId</th>\n",
       "      <th>title</th>\n",
       "      <th>genres</th>\n",
       "    </tr>\n",
       "  </thead>\n",
       "  <tbody>\n",
       "    <tr>\n",
       "      <th>0</th>\n",
       "      <td>1</td>\n",
       "      <td>Toy Story (1995)</td>\n",
       "      <td>Adventure|Animation|Children|Comedy|Fantasy</td>\n",
       "    </tr>\n",
       "    <tr>\n",
       "      <th>1</th>\n",
       "      <td>2</td>\n",
       "      <td>Jumanji (1995)</td>\n",
       "      <td>Adventure|Children|Fantasy</td>\n",
       "    </tr>\n",
       "    <tr>\n",
       "      <th>2</th>\n",
       "      <td>3</td>\n",
       "      <td>Grumpier Old Men (1995)</td>\n",
       "      <td>Comedy|Romance</td>\n",
       "    </tr>\n",
       "  </tbody>\n",
       "</table>\n",
       "</div>"
      ],
      "text/plain": [
       "   movieId                    title  \\\n",
       "0        1         Toy Story (1995)   \n",
       "1        2           Jumanji (1995)   \n",
       "2        3  Grumpier Old Men (1995)   \n",
       "\n",
       "                                        genres  \n",
       "0  Adventure|Animation|Children|Comedy|Fantasy  \n",
       "1                   Adventure|Children|Fantasy  \n",
       "2                               Comedy|Romance  "
      ]
     },
     "execution_count": 2,
     "metadata": {},
     "output_type": "execute_result"
    }
   ],
   "source": [
    "movie_df = pd.read_csv(\"movies.csv\")\n",
    "movie_df.head(3)"
   ]
  },
  {
   "cell_type": "markdown",
   "id": "6b8b68ab",
   "metadata": {},
   "source": [
    "### Create a merged dataframe"
   ]
  },
  {
   "cell_type": "code",
   "execution_count": 3,
   "id": "8e4c6272",
   "metadata": {
    "scrolled": true
   },
   "outputs": [
    {
     "data": {
      "text/html": [
       "<div>\n",
       "<style scoped>\n",
       "    .dataframe tbody tr th:only-of-type {\n",
       "        vertical-align: middle;\n",
       "    }\n",
       "\n",
       "    .dataframe tbody tr th {\n",
       "        vertical-align: top;\n",
       "    }\n",
       "\n",
       "    .dataframe thead th {\n",
       "        text-align: right;\n",
       "    }\n",
       "</style>\n",
       "<table border=\"1\" class=\"dataframe\">\n",
       "  <thead>\n",
       "    <tr style=\"text-align: right;\">\n",
       "      <th></th>\n",
       "      <th>userId</th>\n",
       "      <th>movieId</th>\n",
       "      <th>rating</th>\n",
       "      <th>title</th>\n",
       "      <th>genres</th>\n",
       "    </tr>\n",
       "  </thead>\n",
       "  <tbody>\n",
       "    <tr>\n",
       "      <th>0</th>\n",
       "      <td>1</td>\n",
       "      <td>1</td>\n",
       "      <td>4.0</td>\n",
       "      <td>Toy Story (1995)</td>\n",
       "      <td>Adventure|Animation|Children|Comedy|Fantasy</td>\n",
       "    </tr>\n",
       "    <tr>\n",
       "      <th>1</th>\n",
       "      <td>1</td>\n",
       "      <td>3</td>\n",
       "      <td>4.0</td>\n",
       "      <td>Grumpier Old Men (1995)</td>\n",
       "      <td>Comedy|Romance</td>\n",
       "    </tr>\n",
       "    <tr>\n",
       "      <th>2</th>\n",
       "      <td>1</td>\n",
       "      <td>6</td>\n",
       "      <td>4.0</td>\n",
       "      <td>Heat (1995)</td>\n",
       "      <td>Action|Crime|Thriller</td>\n",
       "    </tr>\n",
       "  </tbody>\n",
       "</table>\n",
       "</div>"
      ],
      "text/plain": [
       "   userId  movieId  rating                    title  \\\n",
       "0       1        1     4.0         Toy Story (1995)   \n",
       "1       1        3     4.0  Grumpier Old Men (1995)   \n",
       "2       1        6     4.0              Heat (1995)   \n",
       "\n",
       "                                        genres  \n",
       "0  Adventure|Animation|Children|Comedy|Fantasy  \n",
       "1                               Comedy|Romance  \n",
       "2                        Action|Crime|Thriller  "
      ]
     },
     "execution_count": 3,
     "metadata": {},
     "output_type": "execute_result"
    }
   ],
   "source": [
    "df = ratings_df.merge(movie_df,on='movieId', how='left')\n",
    "df.head(3)"
   ]
  },
  {
   "cell_type": "markdown",
   "id": "cd62658e",
   "metadata": {},
   "source": [
    "### Create a new dataframe with each movie's average rating"
   ]
  },
  {
   "cell_type": "code",
   "execution_count": 4,
   "id": "888a44d2",
   "metadata": {
    "scrolled": false
   },
   "outputs": [
    {
     "data": {
      "text/html": [
       "<div>\n",
       "<style scoped>\n",
       "    .dataframe tbody tr th:only-of-type {\n",
       "        vertical-align: middle;\n",
       "    }\n",
       "\n",
       "    .dataframe tbody tr th {\n",
       "        vertical-align: top;\n",
       "    }\n",
       "\n",
       "    .dataframe thead th {\n",
       "        text-align: right;\n",
       "    }\n",
       "</style>\n",
       "<table border=\"1\" class=\"dataframe\">\n",
       "  <thead>\n",
       "    <tr style=\"text-align: right;\">\n",
       "      <th></th>\n",
       "      <th>rating</th>\n",
       "    </tr>\n",
       "    <tr>\n",
       "      <th>title</th>\n",
       "      <th></th>\n",
       "    </tr>\n",
       "  </thead>\n",
       "  <tbody>\n",
       "    <tr>\n",
       "      <th>'71 (2014)</th>\n",
       "      <td>4.0</td>\n",
       "    </tr>\n",
       "    <tr>\n",
       "      <th>'Hellboy': The Seeds of Creation (2004)</th>\n",
       "      <td>4.0</td>\n",
       "    </tr>\n",
       "    <tr>\n",
       "      <th>'Round Midnight (1986)</th>\n",
       "      <td>3.5</td>\n",
       "    </tr>\n",
       "  </tbody>\n",
       "</table>\n",
       "</div>"
      ],
      "text/plain": [
       "                                         rating\n",
       "title                                          \n",
       "'71 (2014)                                  4.0\n",
       "'Hellboy': The Seeds of Creation (2004)     4.0\n",
       "'Round Midnight (1986)                      3.5"
      ]
     },
     "execution_count": 4,
     "metadata": {},
     "output_type": "execute_result"
    }
   ],
   "source": [
    "rating_avgs = pd.DataFrame(df.groupby('title')['rating'].mean().round(2))\n",
    "rating_avgs.head(3)"
   ]
  },
  {
   "cell_type": "markdown",
   "id": "67e1555e",
   "metadata": {},
   "source": [
    "### Add a column containing counts of ratings to our average rating dataframe"
   ]
  },
  {
   "cell_type": "code",
   "execution_count": 5,
   "id": "476796bb",
   "metadata": {
    "scrolled": false
   },
   "outputs": [
    {
     "data": {
      "text/html": [
       "<div>\n",
       "<style scoped>\n",
       "    .dataframe tbody tr th:only-of-type {\n",
       "        vertical-align: middle;\n",
       "    }\n",
       "\n",
       "    .dataframe tbody tr th {\n",
       "        vertical-align: top;\n",
       "    }\n",
       "\n",
       "    .dataframe thead th {\n",
       "        text-align: right;\n",
       "    }\n",
       "</style>\n",
       "<table border=\"1\" class=\"dataframe\">\n",
       "  <thead>\n",
       "    <tr style=\"text-align: right;\">\n",
       "      <th></th>\n",
       "      <th>Total Ratings</th>\n",
       "      <th>Average Rating</th>\n",
       "    </tr>\n",
       "    <tr>\n",
       "      <th>title</th>\n",
       "      <th></th>\n",
       "      <th></th>\n",
       "    </tr>\n",
       "  </thead>\n",
       "  <tbody>\n",
       "    <tr>\n",
       "      <th>'71 (2014)</th>\n",
       "      <td>1</td>\n",
       "      <td>4.0</td>\n",
       "    </tr>\n",
       "    <tr>\n",
       "      <th>'Hellboy': The Seeds of Creation (2004)</th>\n",
       "      <td>1</td>\n",
       "      <td>4.0</td>\n",
       "    </tr>\n",
       "    <tr>\n",
       "      <th>'Round Midnight (1986)</th>\n",
       "      <td>2</td>\n",
       "      <td>3.5</td>\n",
       "    </tr>\n",
       "  </tbody>\n",
       "</table>\n",
       "</div>"
      ],
      "text/plain": [
       "                                         Total Ratings  Average Rating\n",
       "title                                                                 \n",
       "'71 (2014)                                           1             4.0\n",
       "'Hellboy': The Seeds of Creation (2004)              1             4.0\n",
       "'Round Midnight (1986)                               2             3.5"
      ]
     },
     "execution_count": 5,
     "metadata": {},
     "output_type": "execute_result"
    }
   ],
   "source": [
    "ratings_info=rating_avgs.copy()\n",
    "ratings_info['Total Ratings'] = pd.DataFrame(df.groupby('title')['rating'].count())\n",
    "ratings_info = ratings_info.iloc[:, [1, 0]]\n",
    "ratings_info.rename(columns={'rating': 'Average Rating'}, inplace=True)\n",
    "ratings_info.head(3)"
   ]
  },
  {
   "cell_type": "markdown",
   "id": "7504aa28",
   "metadata": {},
   "source": [
    "### Visualize distribution of Ratings Counts"
   ]
  },
  {
   "cell_type": "code",
   "execution_count": 9,
   "id": "f67977a1",
   "metadata": {
    "scrolled": false
   },
   "outputs": [
    {
     "data": {
      "image/png": "[encoded data removed]",
      "text/plain": [
       "<Figure size 800x600 with 1 Axes>"
      ]
     },
     "metadata": {},
     "output_type": "display_data"
    }
   ],
   "source": [
    "import matplotlib.pyplot as plt\n",
    "import seaborn as sns\n",
    "sns.set_style('dark')\n",
    "%matplotlib inline\n",
    "\n",
    "plt.figure(figsize=(8,6))\n",
    "plt.rcParams['patch.force_edgecolor'] = True\n",
    "plt.title('Histogram of Rating Counts')\n",
    "plt.ylabel('Count of Movies with that # of Ratings')\n",
    "plt.xlabel('Number of Ratings')\n",
    "plot = ratings_info['Total Ratings'].hist(bins=100)"
   ]
  },
  {
   "cell_type": "markdown",
   "id": "85c78624",
   "metadata": {},
   "source": [
    "### Visualize distribution of Average Ratings Counts"
   ]
  },
  {
   "cell_type": "code",
   "execution_count": 10,
   "id": "c6188373",
   "metadata": {
    "scrolled": false
   },
   "outputs": [
    {
     "data": {
      "text/plain": [
       "<AxesSubplot:title={'center':'Histogram of Average Ratings'}, xlabel='Average Rating', ylabel='Counts'>"
      ]
     },
     "execution_count": 10,
     "metadata": {},
     "output_type": "execute_result"
    },
    {
     "data": {
      "image/png": "[encoded data removed]",
      "text/plain": [
       "<Figure size 800x600 with 1 Axes>"
      ]
     },
     "metadata": {},
     "output_type": "display_data"
    }
   ],
   "source": [
    "plt.figure(figsize=(8,6))\n",
    "plt.rcParams['patch.force_edgecolor'] = True\n",
    "plt.title('Histogram of Average Ratings')\n",
    "plt.xlabel('Average Rating')\n",
    "plt.ylabel('Counts')\n",
    "ratings_info['Average Rating'].hist(bins=50)"
   ]
  },
  {
   "cell_type": "markdown",
   "id": "a4f33da8",
   "metadata": {},
   "source": [
    "### Create a dataframe with Movie Titles as the columns, Users as the rows, and Ratings as the values"
   ]
  },
  {
   "cell_type": "code",
   "execution_count": 11,
   "id": "afe4c220",
   "metadata": {
    "scrolled": false
   },
   "outputs": [
    {
     "data": {
      "text/html": [
       "<div>\n",
       "<style scoped>\n",
       "    .dataframe tbody tr th:only-of-type {\n",
       "        vertical-align: middle;\n",
       "    }\n",
       "\n",
       "    .dataframe tbody tr th {\n",
       "        vertical-align: top;\n",
       "    }\n",
       "\n",
       "    .dataframe thead th {\n",
       "        text-align: right;\n",
       "    }\n",
       "</style>\n",
       "<table border=\"1\" class=\"dataframe\">\n",
       "  <thead>\n",
       "    <tr style=\"text-align: right;\">\n",
       "      <th>title</th>\n",
       "      <th>'71 (2014)</th>\n",
       "      <th>'Hellboy': The Seeds of Creation (2004)</th>\n",
       "      <th>'Round Midnight (1986)</th>\n",
       "      <th>'Salem's Lot (2004)</th>\n",
       "      <th>'Til There Was You (1997)</th>\n",
       "      <th>'Tis the Season for Love (2015)</th>\n",
       "      <th>'burbs, The (1989)</th>\n",
       "      <th>'night Mother (1986)</th>\n",
       "      <th>(500) Days of Summer (2009)</th>\n",
       "      <th>*batteries not included (1987)</th>\n",
       "      <th>...</th>\n",
       "      <th>Zulu (2013)</th>\n",
       "      <th>[REC] (2007)</th>\n",
       "      <th>[REC]² (2009)</th>\n",
       "      <th>[REC]³ 3 Génesis (2012)</th>\n",
       "      <th>anohana: The Flower We Saw That Day - The Movie (2013)</th>\n",
       "      <th>eXistenZ (1999)</th>\n",
       "      <th>xXx (2002)</th>\n",
       "      <th>xXx: State of the Union (2005)</th>\n",
       "      <th>¡Three Amigos! (1986)</th>\n",
       "      <th>À nous la liberté (Freedom for Us) (1931)</th>\n",
       "    </tr>\n",
       "    <tr>\n",
       "      <th>userId</th>\n",
       "      <th></th>\n",
       "      <th></th>\n",
       "      <th></th>\n",
       "      <th></th>\n",
       "      <th></th>\n",
       "      <th></th>\n",
       "      <th></th>\n",
       "      <th></th>\n",
       "      <th></th>\n",
       "      <th></th>\n",
       "      <th></th>\n",
       "      <th></th>\n",
       "      <th></th>\n",
       "      <th></th>\n",
       "      <th></th>\n",
       "      <th></th>\n",
       "      <th></th>\n",
       "      <th></th>\n",
       "      <th></th>\n",
       "      <th></th>\n",
       "      <th></th>\n",
       "    </tr>\n",
       "  </thead>\n",
       "  <tbody>\n",
       "    <tr>\n",
       "      <th>1</th>\n",
       "      <td>NaN</td>\n",
       "      <td>NaN</td>\n",
       "      <td>NaN</td>\n",
       "      <td>NaN</td>\n",
       "      <td>NaN</td>\n",
       "      <td>NaN</td>\n",
       "      <td>NaN</td>\n",
       "      <td>NaN</td>\n",
       "      <td>NaN</td>\n",
       "      <td>NaN</td>\n",
       "      <td>...</td>\n",
       "      <td>NaN</td>\n",
       "      <td>NaN</td>\n",
       "      <td>NaN</td>\n",
       "      <td>NaN</td>\n",
       "      <td>NaN</td>\n",
       "      <td>NaN</td>\n",
       "      <td>NaN</td>\n",
       "      <td>NaN</td>\n",
       "      <td>4.0</td>\n",
       "      <td>NaN</td>\n",
       "    </tr>\n",
       "    <tr>\n",
       "      <th>2</th>\n",
       "      <td>NaN</td>\n",
       "      <td>NaN</td>\n",
       "      <td>NaN</td>\n",
       "      <td>NaN</td>\n",
       "      <td>NaN</td>\n",
       "      <td>NaN</td>\n",
       "      <td>NaN</td>\n",
       "      <td>NaN</td>\n",
       "      <td>NaN</td>\n",
       "      <td>NaN</td>\n",
       "      <td>...</td>\n",
       "      <td>NaN</td>\n",
       "      <td>NaN</td>\n",
       "      <td>NaN</td>\n",
       "      <td>NaN</td>\n",
       "      <td>NaN</td>\n",
       "      <td>NaN</td>\n",
       "      <td>NaN</td>\n",
       "      <td>NaN</td>\n",
       "      <td>NaN</td>\n",
       "      <td>NaN</td>\n",
       "    </tr>\n",
       "    <tr>\n",
       "      <th>3</th>\n",
       "      <td>NaN</td>\n",
       "      <td>NaN</td>\n",
       "      <td>NaN</td>\n",
       "      <td>NaN</td>\n",
       "      <td>NaN</td>\n",
       "      <td>NaN</td>\n",
       "      <td>NaN</td>\n",
       "      <td>NaN</td>\n",
       "      <td>NaN</td>\n",
       "      <td>NaN</td>\n",
       "      <td>...</td>\n",
       "      <td>NaN</td>\n",
       "      <td>NaN</td>\n",
       "      <td>NaN</td>\n",
       "      <td>NaN</td>\n",
       "      <td>NaN</td>\n",
       "      <td>NaN</td>\n",
       "      <td>NaN</td>\n",
       "      <td>NaN</td>\n",
       "      <td>NaN</td>\n",
       "      <td>NaN</td>\n",
       "    </tr>\n",
       "    <tr>\n",
       "      <th>4</th>\n",
       "      <td>NaN</td>\n",
       "      <td>NaN</td>\n",
       "      <td>NaN</td>\n",
       "      <td>NaN</td>\n",
       "      <td>NaN</td>\n",
       "      <td>NaN</td>\n",
       "      <td>NaN</td>\n",
       "      <td>NaN</td>\n",
       "      <td>NaN</td>\n",
       "      <td>NaN</td>\n",
       "      <td>...</td>\n",
       "      <td>NaN</td>\n",
       "      <td>NaN</td>\n",
       "      <td>NaN</td>\n",
       "      <td>NaN</td>\n",
       "      <td>NaN</td>\n",
       "      <td>NaN</td>\n",
       "      <td>NaN</td>\n",
       "      <td>NaN</td>\n",
       "      <td>NaN</td>\n",
       "      <td>NaN</td>\n",
       "    </tr>\n",
       "    <tr>\n",
       "      <th>5</th>\n",
       "      <td>NaN</td>\n",
       "      <td>NaN</td>\n",
       "      <td>NaN</td>\n",
       "      <td>NaN</td>\n",
       "      <td>NaN</td>\n",
       "      <td>NaN</td>\n",
       "      <td>NaN</td>\n",
       "      <td>NaN</td>\n",
       "      <td>NaN</td>\n",
       "      <td>NaN</td>\n",
       "      <td>...</td>\n",
       "      <td>NaN</td>\n",
       "      <td>NaN</td>\n",
       "      <td>NaN</td>\n",
       "      <td>NaN</td>\n",
       "      <td>NaN</td>\n",
       "      <td>NaN</td>\n",
       "      <td>NaN</td>\n",
       "      <td>NaN</td>\n",
       "      <td>NaN</td>\n",
       "      <td>NaN</td>\n",
       "    </tr>\n",
       "    <tr>\n",
       "      <th>6</th>\n",
       "      <td>NaN</td>\n",
       "      <td>NaN</td>\n",
       "      <td>NaN</td>\n",
       "      <td>NaN</td>\n",
       "      <td>NaN</td>\n",
       "      <td>NaN</td>\n",
       "      <td>NaN</td>\n",
       "      <td>NaN</td>\n",
       "      <td>NaN</td>\n",
       "      <td>NaN</td>\n",
       "      <td>...</td>\n",
       "      <td>NaN</td>\n",
       "      <td>NaN</td>\n",
       "      <td>NaN</td>\n",
       "      <td>NaN</td>\n",
       "      <td>NaN</td>\n",
       "      <td>NaN</td>\n",
       "      <td>NaN</td>\n",
       "      <td>NaN</td>\n",
       "      <td>NaN</td>\n",
       "      <td>NaN</td>\n",
       "    </tr>\n",
       "    <tr>\n",
       "      <th>7</th>\n",
       "      <td>NaN</td>\n",
       "      <td>NaN</td>\n",
       "      <td>NaN</td>\n",
       "      <td>NaN</td>\n",
       "      <td>NaN</td>\n",
       "      <td>NaN</td>\n",
       "      <td>NaN</td>\n",
       "      <td>NaN</td>\n",
       "      <td>NaN</td>\n",
       "      <td>NaN</td>\n",
       "      <td>...</td>\n",
       "      <td>NaN</td>\n",
       "      <td>NaN</td>\n",
       "      <td>NaN</td>\n",
       "      <td>NaN</td>\n",
       "      <td>NaN</td>\n",
       "      <td>NaN</td>\n",
       "      <td>NaN</td>\n",
       "      <td>NaN</td>\n",
       "      <td>NaN</td>\n",
       "      <td>NaN</td>\n",
       "    </tr>\n",
       "    <tr>\n",
       "      <th>8</th>\n",
       "      <td>NaN</td>\n",
       "      <td>NaN</td>\n",
       "      <td>NaN</td>\n",
       "      <td>NaN</td>\n",
       "      <td>NaN</td>\n",
       "      <td>NaN</td>\n",
       "      <td>NaN</td>\n",
       "      <td>NaN</td>\n",
       "      <td>NaN</td>\n",
       "      <td>NaN</td>\n",
       "      <td>...</td>\n",
       "      <td>NaN</td>\n",
       "      <td>NaN</td>\n",
       "      <td>NaN</td>\n",
       "      <td>NaN</td>\n",
       "      <td>NaN</td>\n",
       "      <td>NaN</td>\n",
       "      <td>NaN</td>\n",
       "      <td>NaN</td>\n",
       "      <td>NaN</td>\n",
       "      <td>NaN</td>\n",
       "    </tr>\n",
       "    <tr>\n",
       "      <th>9</th>\n",
       "      <td>NaN</td>\n",
       "      <td>NaN</td>\n",
       "      <td>NaN</td>\n",
       "      <td>NaN</td>\n",
       "      <td>NaN</td>\n",
       "      <td>NaN</td>\n",
       "      <td>NaN</td>\n",
       "      <td>NaN</td>\n",
       "      <td>NaN</td>\n",
       "      <td>NaN</td>\n",
       "      <td>...</td>\n",
       "      <td>NaN</td>\n",
       "      <td>NaN</td>\n",
       "      <td>NaN</td>\n",
       "      <td>NaN</td>\n",
       "      <td>NaN</td>\n",
       "      <td>NaN</td>\n",
       "      <td>1.0</td>\n",
       "      <td>NaN</td>\n",
       "      <td>NaN</td>\n",
       "      <td>NaN</td>\n",
       "    </tr>\n",
       "    <tr>\n",
       "      <th>10</th>\n",
       "      <td>NaN</td>\n",
       "      <td>NaN</td>\n",
       "      <td>NaN</td>\n",
       "      <td>NaN</td>\n",
       "      <td>NaN</td>\n",
       "      <td>NaN</td>\n",
       "      <td>NaN</td>\n",
       "      <td>NaN</td>\n",
       "      <td>NaN</td>\n",
       "      <td>NaN</td>\n",
       "      <td>...</td>\n",
       "      <td>NaN</td>\n",
       "      <td>NaN</td>\n",
       "      <td>NaN</td>\n",
       "      <td>NaN</td>\n",
       "      <td>NaN</td>\n",
       "      <td>NaN</td>\n",
       "      <td>NaN</td>\n",
       "      <td>NaN</td>\n",
       "      <td>NaN</td>\n",
       "      <td>NaN</td>\n",
       "    </tr>\n",
       "  </tbody>\n",
       "</table>\n",
       "<p>10 rows × 9719 columns</p>\n",
       "</div>"
      ],
      "text/plain": [
       "title   '71 (2014)  'Hellboy': The Seeds of Creation (2004)  \\\n",
       "userId                                                        \n",
       "1              NaN                                      NaN   \n",
       "2              NaN                                      NaN   \n",
       "3              NaN                                      NaN   \n",
       "4              NaN                                      NaN   \n",
       "5              NaN                                      NaN   \n",
       "6              NaN                                      NaN   \n",
       "7              NaN                                      NaN   \n",
       "8              NaN                                      NaN   \n",
       "9              NaN                                      NaN   \n",
       "10             NaN                                      NaN   \n",
       "\n",
       "title   'Round Midnight (1986)  'Salem's Lot (2004)  \\\n",
       "userId                                                \n",
       "1                          NaN                  NaN   \n",
       "2                          NaN                  NaN   \n",
       "3                          NaN                  NaN   \n",
       "4                          NaN                  NaN   \n",
       "5                          NaN                  NaN   \n",
       "6                          NaN                  NaN   \n",
       "7                          NaN                  NaN   \n",
       "8                          NaN                  NaN   \n",
       "9                          NaN                  NaN   \n",
       "10                         NaN                  NaN   \n",
       "\n",
       "title   'Til There Was You (1997)  'Tis the Season for Love (2015)  \\\n",
       "userId                                                               \n",
       "1                             NaN                              NaN   \n",
       "2                             NaN                              NaN   \n",
       "3                             NaN                              NaN   \n",
       "4                             NaN                              NaN   \n",
       "5                             NaN                              NaN   \n",
       "6                             NaN                              NaN   \n",
       "7                             NaN                              NaN   \n",
       "8                             NaN                              NaN   \n",
       "9                             NaN                              NaN   \n",
       "10                            NaN                              NaN   \n",
       "\n",
       "title   'burbs, The (1989)  'night Mother (1986)  (500) Days of Summer (2009)  \\\n",
       "userId                                                                          \n",
       "1                      NaN                   NaN                          NaN   \n",
       "2                      NaN                   NaN                          NaN   \n",
       "3                      NaN                   NaN                          NaN   \n",
       "4                      NaN                   NaN                          NaN   \n",
       "5                      NaN                   NaN                          NaN   \n",
       "6                      NaN                   NaN                          NaN   \n",
       "7                      NaN                   NaN                          NaN   \n",
       "8                      NaN                   NaN                          NaN   \n",
       "9                      NaN                   NaN                          NaN   \n",
       "10                     NaN                   NaN                          NaN   \n",
       "\n",
       "title   *batteries not included (1987)  ...  Zulu (2013)  [REC] (2007)  \\\n",
       "userId                                  ...                              \n",
       "1                                  NaN  ...          NaN           NaN   \n",
       "2                                  NaN  ...          NaN           NaN   \n",
       "3                                  NaN  ...          NaN           NaN   \n",
       "4                                  NaN  ...          NaN           NaN   \n",
       "5                                  NaN  ...          NaN           NaN   \n",
       "6                                  NaN  ...          NaN           NaN   \n",
       "7                                  NaN  ...          NaN           NaN   \n",
       "8                                  NaN  ...          NaN           NaN   \n",
       "9                                  NaN  ...          NaN           NaN   \n",
       "10                                 NaN  ...          NaN           NaN   \n",
       "\n",
       "title   [REC]² (2009)  [REC]³ 3 Génesis (2012)  \\\n",
       "userId                                           \n",
       "1                 NaN                      NaN   \n",
       "2                 NaN                      NaN   \n",
       "3                 NaN                      NaN   \n",
       "4                 NaN                      NaN   \n",
       "5                 NaN                      NaN   \n",
       "6                 NaN                      NaN   \n",
       "7                 NaN                      NaN   \n",
       "8                 NaN                      NaN   \n",
       "9                 NaN                      NaN   \n",
       "10                NaN                      NaN   \n",
       "\n",
       "title   anohana: The Flower We Saw That Day - The Movie (2013)  \\\n",
       "userId                                                           \n",
       "1                                                     NaN        \n",
       "2                                                     NaN        \n",
       "3                                                     NaN        \n",
       "4                                                     NaN        \n",
       "5                                                     NaN        \n",
       "6                                                     NaN        \n",
       "7                                                     NaN        \n",
       "8                                                     NaN        \n",
       "9                                                     NaN        \n",
       "10                                                    NaN        \n",
       "\n",
       "title   eXistenZ (1999)  xXx (2002)  xXx: State of the Union (2005)  \\\n",
       "userId                                                                \n",
       "1                   NaN         NaN                             NaN   \n",
       "2                   NaN         NaN                             NaN   \n",
       "3                   NaN         NaN                             NaN   \n",
       "4                   NaN         NaN                             NaN   \n",
       "5                   NaN         NaN                             NaN   \n",
       "6                   NaN         NaN                             NaN   \n",
       "7                   NaN         NaN                             NaN   \n",
       "8                   NaN         NaN                             NaN   \n",
       "9                   NaN         1.0                             NaN   \n",
       "10                  NaN         NaN                             NaN   \n",
       "\n",
       "title   ¡Three Amigos! (1986)  À nous la liberté (Freedom for Us) (1931)  \n",
       "userId                                                                    \n",
       "1                         4.0                                        NaN  \n",
       "2                         NaN                                        NaN  \n",
       "3                         NaN                                        NaN  \n",
       "4                         NaN                                        NaN  \n",
       "5                         NaN                                        NaN  \n",
       "6                         NaN                                        NaN  \n",
       "7                         NaN                                        NaN  \n",
       "8                         NaN                                        NaN  \n",
       "9                         NaN                                        NaN  \n",
       "10                        NaN                                        NaN  \n",
       "\n",
       "[10 rows x 9719 columns]"
      ]
     },
     "execution_count": 11,
     "metadata": {},
     "output_type": "execute_result"
    }
   ],
   "source": [
    "user_movie_matrix = df.pivot_table(index='userId',columns='title',values='rating')\n",
    "user_movie_matrix.head(10)"
   ]
  },
  {
   "cell_type": "markdown",
   "id": "1cb91d62",
   "metadata": {},
   "source": [
    "### Define a function which produces a correlation matrix based on a movie title"
   ]
  },
  {
   "cell_type": "code",
   "execution_count": 12,
   "id": "f7838e66",
   "metadata": {},
   "outputs": [],
   "source": [
    "def corr_matrix(movie_title):\n",
    "    user_movie_rating = user_movie_matrix[user_movie_matrix.get(movie_title).notnull()]\n",
    "    # The above line removes all users who have not rated 'movie_title'\n",
    "    user_movie_rating = user_movie_rating.dropna(axis='columns', thresh=2)\n",
    "    # The above line removes movies with less than 2 ratings from people\n",
    "    # who also rated 'movie_title'\n",
    "    corr_matrix = user_movie_rating.corrwith(user_movie_rating[movie_title])\n",
    "    return corr_matrix"
   ]
  },
  {
   "cell_type": "markdown",
   "id": "0c4cdcf6",
   "metadata": {},
   "source": [
    "### Define a function which produces a data frame containing correlation scores and ratings information when given the title of a movie"
   ]
  },
  {
   "cell_type": "code",
   "execution_count": 13,
   "id": "67fe8b7e",
   "metadata": {},
   "outputs": [],
   "source": [
    "def suggested_scores(movie_title):\n",
    "    cor1 = corr_matrix(movie_title)\n",
    "    suggested_scores = pd.DataFrame(cor1,columns=['Correlation'])\n",
    "    suggested_scores.dropna(inplace=True)\n",
    "    suggested_scores = suggested_scores.join(ratings_info)\n",
    "    return suggested_scores"
   ]
  },
  {
   "cell_type": "markdown",
   "id": "01149b40",
   "metadata": {},
   "source": [
    "### Define a function which when given a movie title produces a subset of the above dataframe containing only movies with at least 75 ratings and sorted by correlation score"
   ]
  },
  {
   "cell_type": "code",
   "execution_count": 14,
   "id": "2aeb27ba",
   "metadata": {
    "scrolled": true
   },
   "outputs": [],
   "source": [
    "\"\"\"The choice to eliminate movies with less than 75 ratings is a rather arbitrary one.\n",
    "   It was halfway between 50 and 100 which were other possibilities. If a data set\n",
    "   containing more or less ratings was used this number could be raised or lowered\n",
    "   accordingly.\"\"\"\n",
    "def select_picks_pool(movie_title):\n",
    "    sug1 = suggested_scores(movie_title)\n",
    "    picks_pool = sug1[sug1['Total Ratings']>74\n",
    "                     ].sort_values('Correlation',ascending=False).reset_index()\n",
    "    picks_pool = picks_pool.merge(movie_df,on='title', how='left')\n",
    "    return picks_pool"
   ]
  },
  {
   "cell_type": "markdown",
   "id": "3108d297",
   "metadata": {},
   "source": [
    "### Define a function which gives the top 10 picks when provided a movie title. It removes the movie from its own list in the case that it is the top pick."
   ]
  },
  {
   "cell_type": "code",
   "execution_count": 15,
   "id": "85601739",
   "metadata": {},
   "outputs": [],
   "source": [
    "def pick_top_10(movie_title):\n",
    "    picks1 = select_picks_pool(movie_title)\n",
    "    top_10 = picks1.head(11)\n",
    "    if top_10['title'][0] == movie_title:\n",
    "        top_10 = top_10.iloc[1:12]\n",
    "    else:\n",
    "        top_10 = top_10.iloc[0:11]\n",
    "    return top_10"
   ]
  },
  {
   "cell_type": "markdown",
   "id": "dd69c5ed",
   "metadata": {},
   "source": [
    "### Define a function that outputs various recommended movies based on different criteria from within the top 10 picks. These are highest rated ( highest Average Rating score), best matched( highest correlation score ), and most watched (has the highest count of rating)"
   ]
  },
  {
   "cell_type": "code",
   "execution_count": 16,
   "id": "d4dc2034",
   "metadata": {},
   "outputs": [],
   "source": [
    "def give_suggestions_based_on(movie_title):\n",
    "    tops1 = pick_top_10(movie_title)\n",
    "    highest_rated = tops1.sort_values('Average Rating', ascending=False).iloc[0]\n",
    "    best_matched = tops1.sort_values('Correlation', ascending=False).iloc[0]\n",
    "    most_watched = tops1.sort_values('Total Ratings', ascending=False).iloc[0]\n",
    "    return highest_rated, best_matched, most_watched"
   ]
  },
  {
   "cell_type": "markdown",
   "id": "5fc8336b",
   "metadata": {},
   "source": [
    "### Define a function which displays the recommended movies' results in a readable text format."
   ]
  },
  {
   "cell_type": "code",
   "execution_count": 17,
   "id": "7734a2ae",
   "metadata": {},
   "outputs": [],
   "source": [
    "def display_recc_results(movie_title):\n",
    "    if movie_title not in movie_df.title.to_list():\n",
    "        print('Movie is not currently in our recommender system or the title'\n",
    "               \" is not formatted correctly.\")\n",
    "        print()\n",
    "        print(\"Proper format is: 'Movie Title (Year)' \")\n",
    "    else:\n",
    "        highest_rated, best_matched, most_watched = give_suggestions_based_on(movie_title)\n",
    "        print(f'Based on your preference of the movie {movie_title} '\n",
    "          'we have come up with 10 recommendations.')\n",
    "        print()\n",
    "        print(f'The highest rated of these recommendations is the film {highest_rated.title}'\n",
    "             f' which has a rating of {highest_rated[3]} among '\n",
    "             f'{highest_rated[2]} total ratings.')\n",
    "        print()\n",
    "        print(f'Out of our recommendations the movie which has been rated the most '\n",
    "              f'amount of times is {most_watched.title} which has been rated at least '\n",
    "              f'{most_watched[2]} times.')\n",
    "        print()\n",
    "        print(f'Our best guess for a movie which you would like is {best_matched.title}'\n",
    "             f'. This is based on the ratings of other users who also rated {movie_title}.')\n",
    "        print()\n",
    "        print('The full list of our top 10 recommendations is (rated in order of likelihood): ')\n",
    "        print()\n",
    "        for x in pick_top_10(movie_title).title:\n",
    "            print(f'{x} ,  ')\n",
    "    "
   ]
  },
  {
   "cell_type": "markdown",
   "id": "463301d6",
   "metadata": {},
   "source": [
    "## Test out the recommender on a few different movies within the data set"
   ]
  },
  {
   "cell_type": "code",
   "execution_count": 18,
   "id": "d9950e7b",
   "metadata": {
    "scrolled": false
   },
   "outputs": [
    {
     "name": "stdout",
     "output_type": "stream",
     "text": [
      "Based on your preference of the movie Shawshank Redemption, The (1994) we have come up with 10 recommendations.\n",
      "\n",
      "The highest rated of these recommendations is the film Rear Window (1954) which has a rating of 4.26 among 84 total ratings.\n",
      "\n",
      "Out of our recommendations the movie which has been rated the most amount of times is Schindler's List (1993) which has been rated at least 220 times.\n",
      "\n",
      "Our best guess for a movie which you would like is Rear Window (1954). This is based on the ratings of other users who also rated Shawshank Redemption, The (1994).\n",
      "\n",
      "The full list of our top 10 recommendations is (rated in order of likelihood): \n",
      "\n",
      "Rear Window (1954) ,  \n",
      "City of God (Cidade de Deus) (2002) ,  \n",
      "Leaving Las Vegas (1995) ,  \n",
      "Four Weddings and a Funeral (1994) ,  \n",
      "Shakespeare in Love (1998) ,  \n",
      "Big (1988) ,  \n",
      "Schindler's List (1993) ,  \n",
      "Back to the Future Part II (1989) ,  \n",
      "Bourne Ultimatum, The (2007) ,  \n",
      "Usual Suspects, The (1995) ,  \n"
     ]
    }
   ],
   "source": [
    "display_recc_results('Shawshank Redemption, The (1994)')"
   ]
  },
  {
   "cell_type": "code",
   "execution_count": 19,
   "id": "c7ca8375",
   "metadata": {
    "scrolled": false
   },
   "outputs": [
    {
     "name": "stdout",
     "output_type": "stream",
     "text": [
      "Based on your preference of the movie Fight Club (1999) we have come up with 10 recommendations.\n",
      "\n",
      "The highest rated of these recommendations is the film Pulp Fiction (1994) which has a rating of 4.2 among 307 total ratings.\n",
      "\n",
      "Out of our recommendations the movie which has been rated the most amount of times is Pulp Fiction (1994) which has been rated at least 307 times.\n",
      "\n",
      "Our best guess for a movie which you would like is Life Is Beautiful (La Vita è bella) (1997). This is based on the ratings of other users who also rated Fight Club (1999).\n",
      "\n",
      "The full list of our top 10 recommendations is (rated in order of likelihood): \n",
      "\n",
      "Life Is Beautiful (La Vita è bella) (1997) ,  \n",
      "Outbreak (1995) ,  \n",
      "Pulp Fiction (1994) ,  \n",
      "Heat (1995) ,  \n",
      "Four Weddings and a Funeral (1994) ,  \n",
      "Firm, The (1993) ,  \n",
      "Seven (a.k.a. Se7en) (1995) ,  \n",
      "Léon: The Professional (a.k.a. The Professional) (Léon) (1994) ,  \n",
      "Memento (2000) ,  \n",
      "Interview with the Vampire: The Vampire Chronicles (1994) ,  \n"
     ]
    }
   ],
   "source": [
    "display_recc_results('Fight Club (1999)')"
   ]
  },
  {
   "cell_type": "code",
   "execution_count": 20,
   "id": "e0ea68f5",
   "metadata": {
    "scrolled": false
   },
   "outputs": [
    {
     "name": "stdout",
     "output_type": "stream",
     "text": [
      "Based on your preference of the movie Spaceballs (1987) we have come up with 10 recommendations.\n",
      "\n",
      "The highest rated of these recommendations is the film Dark Knight, The (2008) which has a rating of 4.24 among 149 total ratings.\n",
      "\n",
      "Out of our recommendations the movie which has been rated the most amount of times is Aladdin (1992) which has been rated at least 183 times.\n",
      "\n",
      "Our best guess for a movie which you would like is Ace Ventura: When Nature Calls (1995). This is based on the ratings of other users who also rated Spaceballs (1987).\n",
      "\n",
      "The full list of our top 10 recommendations is (rated in order of likelihood): \n",
      "\n",
      "Ace Ventura: When Nature Calls (1995) ,  \n",
      "Heat (1995) ,  \n",
      "Monsters, Inc. (2001) ,  \n",
      "Santa Clause, The (1994) ,  \n",
      "Aladdin (1992) ,  \n",
      "Dark Knight, The (2008) ,  \n",
      "Die Hard: With a Vengeance (1995) ,  \n",
      "Blues Brothers, The (1980) ,  \n",
      "Star Trek: First Contact (1996) ,  \n",
      "Dogma (1999) ,  \n",
      "Snatch (2000) ,  \n"
     ]
    }
   ],
   "source": [
    "display_recc_results('Spaceballs (1987)')"
   ]
  },
  {
   "cell_type": "code",
   "execution_count": 21,
   "id": "54823cc9",
   "metadata": {},
   "outputs": [
    {
     "name": "stdout",
     "output_type": "stream",
     "text": [
      "Based on your preference of the movie Harold and Maude (1971) we have come up with 10 recommendations.\n",
      "\n",
      "The highest rated of these recommendations is the film Star Wars: Episode V - The Empire Strikes Back (1980) which has a rating of 4.22 among 211 total ratings.\n",
      "\n",
      "Out of our recommendations the movie which has been rated the most amount of times is Star Wars: Episode V - The Empire Strikes Back (1980) which has been rated at least 211 times.\n",
      "\n",
      "Our best guess for a movie which you would like is Inglourious Basterds (2009). This is based on the ratings of other users who also rated Harold and Maude (1971).\n",
      "\n",
      "The full list of our top 10 recommendations is (rated in order of likelihood): \n",
      "\n",
      "Inglourious Basterds (2009) ,  \n",
      "Dark Knight Rises, The (2012) ,  \n",
      "Game, The (1997) ,  \n",
      "Full Metal Jacket (1987) ,  \n",
      "What's Eating Gilbert Grape (1993) ,  \n",
      "Amadeus (1984) ,  \n",
      "Kill Bill: Vol. 1 (2003) ,  \n",
      "Office Space (1999) ,  \n",
      "Jumanji (1995) ,  \n",
      "Ace Ventura: When Nature Calls (1995) ,  \n",
      "Star Wars: Episode V - The Empire Strikes Back (1980) ,  \n"
     ]
    }
   ],
   "source": [
    "display_recc_results('Harold and Maude (1971)')"
   ]
  },
  {
   "cell_type": "markdown",
   "id": "282b9c04",
   "metadata": {},
   "source": [
    "### Test out the recommender on movies which are not in the data set"
   ]
  },
  {
   "cell_type": "code",
   "execution_count": 22,
   "id": "39074634",
   "metadata": {},
   "outputs": [
    {
     "name": "stdout",
     "output_type": "stream",
     "text": [
      "Movie is not currently in our recommender system or the title is not formatted correctly.\n",
      "\n",
      "Proper format is: 'Movie Title (Year)' \n"
     ]
    }
   ],
   "source": [
    "display_recc_results('Gone With the Wind (1940)')"
   ]
  },
  {
   "cell_type": "code",
   "execution_count": 23,
   "id": "4e84fc41",
   "metadata": {},
   "outputs": [
    {
     "name": "stdout",
     "output_type": "stream",
     "text": [
      "Movie is not currently in our recommender system or the title is not formatted correctly.\n",
      "\n",
      "Proper format is: 'Movie Title (Year)' \n"
     ]
    }
   ],
   "source": [
    "display_recc_results('Casablanca (1943)')"
   ]
  },
  {
   "cell_type": "markdown",
   "id": "90ad0921",
   "metadata": {},
   "source": [
    "#### The recommender relies on correlation coefficients of ratings. By looking at other ratings by people who rated the movie we are interested in and the correlations we can predict other movies that you are likely to rate similarly. Those movies with ratings having the highest correlation coefficient scores are those that we are recommending."
   ]
  },
  {
   "cell_type": "code",
   "execution_count": null,
   "id": "bd4264f9",
   "metadata": {},
   "outputs": [],
   "source": []
  }
 ],
 "metadata": {
  "kernelspec": {
   "display_name": "Python 3 (ipykernel)",
   "language": "python",
   "name": "python3"
  },
  "language_info": {
   "codemirror_mode": {
    "name": "ipython",
    "version": 3
   },
   "file_extension": ".py",
   "mimetype": "text/x-python",
   "name": "python",
   "nbconvert_exporter": "python",
   "pygments_lexer": "ipython3",
   "version": "3.7.16"
  }
 },
 "nbformat": 4,
 "nbformat_minor": 5
}
